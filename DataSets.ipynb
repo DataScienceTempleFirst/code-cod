{
 "cells": [
  {
   "cell_type": "markdown",
   "metadata": {},
   "source": [
    "### Datasets for projects and exploration"
   ]
  },
  {
   "cell_type": "code",
   "execution_count": 1,
   "metadata": {},
   "outputs": [],
   "source": [
    "# Import Numpy and Datascience modules.\n",
    "import numpy as np\n",
    "from datascience import *\n",
    "\n",
    "# Plotting modules\n",
    "import matplotlib\n",
    "%matplotlib inline\n",
    "import matplotlib.pyplot as plt\n",
    "plt.style.use('fivethirtyeight')\n",
    "import warnings\n",
    "warnings.simplefilter('ignore', UserWarning)"
   ]
  },
  {
   "cell_type": "markdown",
   "metadata": {},
   "source": [
    "### Quality of life by country\n",
    "See: https://worldpopulationreview.com/country-rankings/standard-of-living-by-country "
   ]
  },
  {
   "cell_type": "code",
   "execution_count": 49,
   "metadata": {},
   "outputs": [
    {
     "data": {
      "text/html": [
       "<table border=\"1\" class=\"dataframe\">\n",
       "    <thead>\n",
       "        <tr>\n",
       "            <th>Name</th> <th> \"NativeName\"</th> <th> \"QualityOfLifeIndex\"</th>\n",
       "        </tr>\n",
       "    </thead>\n",
       "    <tbody>\n",
       "        <tr>\n",
       "            <td>Canada                  </td> <td> \"Canada\"                  </td> <td>159.512              </td>\n",
       "        </tr>\n",
       "        <tr>\n",
       "            <td>Japan                   </td> <td> \"日本\"                      </td> <td>165.327              </td>\n",
       "        </tr>\n",
       "        <tr>\n",
       "            <td>Norway                  </td> <td> \"Kongeriket Norge\"        </td> <td>173.158              </td>\n",
       "        </tr>\n",
       "        <tr>\n",
       "            <td>Ireland                 </td> <td> \"Eire\"                    </td> <td>153.182              </td>\n",
       "        </tr>\n",
       "        <tr>\n",
       "            <td>Hungary                 </td> <td> \"Magyarorszag\"            </td> <td>135.344              </td>\n",
       "        </tr>\n",
       "        <tr>\n",
       "            <td>Spain                   </td> <td> \"Espana\"                  </td> <td>165.091              </td>\n",
       "        </tr>\n",
       "        <tr>\n",
       "            <td>United States of America</td> <td> \"United States of America\"</td> <td>165.028              </td>\n",
       "        </tr>\n",
       "        <tr>\n",
       "            <td>Belgium                 </td> <td> \"Koninkrijk Belgie\"       </td> <td>149.561              </td>\n",
       "        </tr>\n",
       "        <tr>\n",
       "            <td>Luxembourg              </td> <td> \"Letzebuerg\"              </td> <td>172.153              </td>\n",
       "        </tr>\n",
       "        <tr>\n",
       "            <td>Finland                 </td> <td> \"Suomi\"                   </td> <td>180.809              </td>\n",
       "        </tr>\n",
       "    </tbody>\n",
       "</table>\n",
       "<p>... (105 rows omitted)</p>"
      ],
      "text/plain": [
       "Name                     |  \"NativeName\"               |  \"QualityOfLifeIndex\"\n",
       "Canada                   |  \"Canada\"                   | 159.512\n",
       "Japan                    |  \"日本\"                       | 165.327\n",
       "Norway                   |  \"Kongeriket Norge\"         | 173.158\n",
       "Ireland                  |  \"Eire\"                     | 153.182\n",
       "Hungary                  |  \"Magyarorszag\"             | 135.344\n",
       "Spain                    |  \"Espana\"                   | 165.091\n",
       "United States of America |  \"United States of America\" | 165.028\n",
       "Belgium                  |  \"Koninkrijk Belgie\"        | 149.561\n",
       "Luxembourg               |  \"Letzebuerg\"               | 172.153\n",
       "Finland                  |  \"Suomi\"                    | 180.809\n",
       "... (105 rows omitted)"
      ]
     },
     "execution_count": 49,
     "metadata": {},
     "output_type": "execute_result"
    }
   ],
   "source": [
    "url = \"https://raw.githubusercontent.com/DataScienceTempleFirst/code-cod/main/countries_quality_of_life_index.18-10-2021.csv\"\n",
    "data = Table.read_table(url)\n",
    "data"
   ]
  },
  {
   "cell_type": "markdown",
   "metadata": {},
   "source": [
    "## Inventory of Historic Religious Properties in Philadelphia\n",
    "See: http://www.preservationalliance.com/inventory-historic-religious-properties-philadelphia"
   ]
  },
  {
   "cell_type": "code",
   "execution_count": 4,
   "metadata": {},
   "outputs": [
    {
     "data": {
      "text/html": [
       "<table border=\"1\" class=\"dataframe\">\n",
       "    <thead>\n",
       "        <tr>\n",
       "            <th>Original Congregation</th> <th>Planning Zone</th> <th>Address Start</th> <th>Address End</th> <th>Address Direction</th> <th>Street Name</th> <th>Street Suffix</th> <th>Zip</th> <th>Year Original Building Completed</th> <th>Original Architect</th>\n",
       "        </tr>\n",
       "    </thead>\n",
       "    <tbody>\n",
       "        <tr>\n",
       "            <td>SAINT GEORGE EPISCOPAL CHURCH                               </td> <td>WEST                </td> <td>512          </td> <td>538        </td> <td>S.               </td> <td>61ST         </td> <td>STREET       </td> <td>19143</td> <td>1871                            </td> <td>Unknown                                                     </td>\n",
       "        </tr>\n",
       "        <tr>\n",
       "            <td>SAINT PAUL'S BAPTIST CHURCH; CHRIST EVANGELICAL CHURCH ( ...</td> <td>LOWER NORTH         </td> <td>948          </td> <td>952        </td> <td>N.               </td> <td>8TH          </td> <td>STREET       </td> <td>19123</td> <td>1875                            </td> <td>UNKNOWN                                                     </td>\n",
       "        </tr>\n",
       "        <tr>\n",
       "            <td>ROXBOROUGH BAPTIST CHURCH                                   </td> <td>LOWER NORTHWEST     </td> <td>6035         </td> <td>6035       </td> <td>nan              </td> <td>RIDGE        </td> <td>AVENUE       </td> <td>19128</td> <td>1878                            </td> <td>UNKNOWN                                                     </td>\n",
       "        </tr>\n",
       "        <tr>\n",
       "            <td>SAINT AGATHA'S ROMAN CATHOLIC CHURCH                        </td> <td>WEST                </td> <td>3801         </td> <td>3807       </td> <td>nan              </td> <td>SPRING GARDEN</td> <td>STREET       </td> <td>19104</td> <td>1878                            </td> <td>EDWIN F. DURANG                                             </td>\n",
       "        </tr>\n",
       "        <tr>\n",
       "            <td>EPISCOPAL CHURCH OF THE EVANGELISTS                         </td> <td>CENTRAL             </td> <td>711          </td> <td>719        </td> <td>nan              </td> <td>CATHARINE    </td> <td>STREET       </td> <td>19147</td> <td>1886                            </td> <td>LOUIS C. BAKER, JR. (FURNESS, EVANS & CO.); OR CHARLES M ...</td>\n",
       "        </tr>\n",
       "        <tr>\n",
       "            <td>BETHANY MISSION                                             </td> <td>CENTRAL             </td> <td>1527         </td> <td>1527       </td> <td>nan              </td> <td>BRANDYWINE   </td> <td>STREET       </td> <td>19130</td> <td>1887                            </td> <td>UNKNOWN                                                     </td>\n",
       "        </tr>\n",
       "        <tr>\n",
       "            <td>FOURTH REFORMED PRESBYTERIAN CHURCH                         </td> <td>LOWER NORTHWEST     </td> <td>355          </td> <td>355        </td> <td>nan              </td> <td>MARTIN       </td> <td>STREET       </td> <td>19128</td> <td>1900                            </td> <td>Unknown                                                     </td>\n",
       "        </tr>\n",
       "        <tr>\n",
       "            <td>WEST PHILADELPHIA FRIENDS MEETING HOUSE                     </td> <td>UNIVERSITY/SOUTHWEST</td> <td>3500         </td> <td>3500       </td> <td>nan              </td> <td>LANCASTER    </td> <td>AVENUE       </td> <td>19104</td> <td>1901                            </td> <td>BUNTING & SHRIGLEY                                          </td>\n",
       "        </tr>\n",
       "        <tr>\n",
       "            <td>WISSAHICKON METHODIST EPISCOPAL CHURCH                      </td> <td>LOWER NORTHWEST     </td> <td>3849         </td> <td>3849       </td> <td>nan              </td> <td>TERRACE      </td> <td>STREET       </td> <td>19128</td> <td>1902                            </td> <td>HALES & BALLINGER                                           </td>\n",
       "        </tr>\n",
       "        <tr>\n",
       "            <td>CONGREGATION CHEVRA B'NAI REUBEN, ANSHE SFARD               </td> <td>CENTRAL             </td> <td>615          </td> <td>621        </td> <td>S.               </td> <td>6TH          </td> <td>STREET       </td> <td>19147</td> <td>1904                            </td> <td>CHARLES W. BOLTON; J. DULL                                  </td>\n",
       "        </tr>\n",
       "    </tbody>\n",
       "</table>\n",
       "<p>... (90 rows omitted)</p>"
      ],
      "text/plain": [
       "Original Congregation                                        | Planning Zone        | Address Start | Address End | Address Direction | Street Name   | Street Suffix | Zip   | Year Original Building Completed | Original Architect\n",
       "SAINT GEORGE EPISCOPAL CHURCH                                | WEST                 | 512           | 538         | S.                | 61ST          | STREET        | 19143 | 1871                             | Unknown\n",
       "SAINT PAUL'S BAPTIST CHURCH; CHRIST EVANGELICAL CHURCH ( ... | LOWER NORTH          | 948           | 952         | N.                | 8TH           | STREET        | 19123 | 1875                             | UNKNOWN\n",
       "ROXBOROUGH BAPTIST CHURCH                                    | LOWER NORTHWEST      | 6035          | 6035        | nan               | RIDGE         | AVENUE        | 19128 | 1878                             | UNKNOWN\n",
       "SAINT AGATHA'S ROMAN CATHOLIC CHURCH                         | WEST                 | 3801          | 3807        | nan               | SPRING GARDEN | STREET        | 19104 | 1878                             | EDWIN F. DURANG\n",
       "EPISCOPAL CHURCH OF THE EVANGELISTS                          | CENTRAL              | 711           | 719         | nan               | CATHARINE     | STREET        | 19147 | 1886                             | LOUIS C. BAKER, JR. (FURNESS, EVANS & CO.); OR CHARLES M ...\n",
       "BETHANY MISSION                                              | CENTRAL              | 1527          | 1527        | nan               | BRANDYWINE    | STREET        | 19130 | 1887                             | UNKNOWN\n",
       "FOURTH REFORMED PRESBYTERIAN CHURCH                          | LOWER NORTHWEST      | 355           | 355         | nan               | MARTIN        | STREET        | 19128 | 1900                             | Unknown\n",
       "WEST PHILADELPHIA FRIENDS MEETING HOUSE                      | UNIVERSITY/SOUTHWEST | 3500          | 3500        | nan               | LANCASTER     | AVENUE        | 19104 | 1901                             | BUNTING & SHRIGLEY\n",
       "WISSAHICKON METHODIST EPISCOPAL CHURCH                       | LOWER NORTHWEST      | 3849          | 3849        | nan               | TERRACE       | STREET        | 19128 | 1902                             | HALES & BALLINGER\n",
       "CONGREGATION CHEVRA B'NAI REUBEN, ANSHE SFARD                | CENTRAL              | 615           | 621         | S.                | 6TH           | STREET        | 19147 | 1904                             | CHARLES W. BOLTON; J. DULL\n",
       "... (90 rows omitted)"
      ]
     },
     "execution_count": 4,
     "metadata": {},
     "output_type": "execute_result"
    }
   ],
   "source": [
    "url= \"https://raw.githubusercontent.com/DataScienceTempleFirst/code-cod/main/Inventory%20of%20Historic%20Religious%20Properties%20in%20Philadelphia.csv\"\n",
    "data = Table.read_table(url)\n",
    "data"
   ]
  },
  {
   "cell_type": "markdown",
   "metadata": {},
   "source": [
    "### Philadelphia Open Data School Graduation Rates\n",
    "This longitudinal open data file includes information about the graduation rates for schools broken out by: graduation rate type (four-year, five-year, or six-year), demographic category (EL status, IEP status, Economically Disadvantaged Status, Gender, or Ethnicity), and ninth-grade cohort. Students are attributed to the last school at which they actively attended in the respective graduation window, which ends on September 30 each year. Students are classified as EL, as having an IEP, and/or economically disadvantaged if they were designated as such at any point during their high school career.\n",
    "see: https://www.philasd.org/performance/programsservices/open-data/school-performance/#school_graduation_rates "
   ]
  },
  {
   "cell_type": "code",
   "execution_count": 5,
   "metadata": {},
   "outputs": [
    {
     "data": {
      "text/html": [
       "<table border=\"1\" class=\"dataframe\">\n",
       "    <thead>\n",
       "        <tr>\n",
       "            <th>cohort</th> <th>srcschoolid</th> <th>schoolid_ulcs</th> <th>schoolname</th> <th>sector</th> <th>rate_type</th> <th>group</th> <th>subgroup</th> <th>denom</th> <th>num</th> <th>score</th>\n",
       "        </tr>\n",
       "    </thead>\n",
       "    <tbody>\n",
       "        <tr>\n",
       "            <td>2010-2011</td> <td>101        </td> <td>1010         </td> <td>John Bartram High School</td> <td>District</td> <td>4-Year Graduation Rate</td> <td>All Students              </td> <td>All Students                  </td> <td>281  </td> <td>203 </td> <td>72.24</td>\n",
       "        </tr>\n",
       "        <tr>\n",
       "            <td>2010-2011</td> <td>101        </td> <td>1010         </td> <td>John Bartram High School</td> <td>District</td> <td>4-Year Graduation Rate</td> <td>ELL                       </td> <td>EL                            </td> <td>37   </td> <td>24  </td> <td>64.86</td>\n",
       "        </tr>\n",
       "        <tr>\n",
       "            <td>2010-2011</td> <td>101        </td> <td>1010         </td> <td>John Bartram High School</td> <td>District</td> <td>4-Year Graduation Rate</td> <td>ELL                       </td> <td>Non-EL                        </td> <td>244  </td> <td>179 </td> <td>73.36</td>\n",
       "        </tr>\n",
       "        <tr>\n",
       "            <td>2010-2011</td> <td>101        </td> <td>1010         </td> <td>John Bartram High School</td> <td>District</td> <td>4-Year Graduation Rate</td> <td>Economically Disadvantaged</td> <td>Economically Disadvantaged    </td> <td>211  </td> <td>153 </td> <td>72.51</td>\n",
       "        </tr>\n",
       "        <tr>\n",
       "            <td>2010-2011</td> <td>101        </td> <td>1010         </td> <td>John Bartram High School</td> <td>District</td> <td>4-Year Graduation Rate</td> <td>Economically Disadvantaged</td> <td>Not Economically Disadvantaged</td> <td>70   </td> <td>50  </td> <td>71.43</td>\n",
       "        </tr>\n",
       "        <tr>\n",
       "            <td>2010-2011</td> <td>101        </td> <td>1010         </td> <td>John Bartram High School</td> <td>District</td> <td>4-Year Graduation Rate</td> <td>Ethnicity                 </td> <td>Asian                         </td> <td>13   </td> <td>10  </td> <td>76.92</td>\n",
       "        </tr>\n",
       "        <tr>\n",
       "            <td>2010-2011</td> <td>101        </td> <td>1010         </td> <td>John Bartram High School</td> <td>District</td> <td>4-Year Graduation Rate</td> <td>Ethnicity                 </td> <td>Black/African American        </td> <td>253  </td> <td>182 </td> <td>71.94</td>\n",
       "        </tr>\n",
       "        <tr>\n",
       "            <td>2010-2011</td> <td>101        </td> <td>1010         </td> <td>John Bartram High School</td> <td>District</td> <td>4-Year Graduation Rate</td> <td>Ethnicity                 </td> <td>Hispanic/Latino               </td> <td>6    </td> <td>s   </td> <td>s    </td>\n",
       "        </tr>\n",
       "        <tr>\n",
       "            <td>2010-2011</td> <td>101        </td> <td>1010         </td> <td>John Bartram High School</td> <td>District</td> <td>4-Year Graduation Rate</td> <td>Ethnicity                 </td> <td>Multi Racial/Other            </td> <td>6    </td> <td>s   </td> <td>s    </td>\n",
       "        </tr>\n",
       "        <tr>\n",
       "            <td>2010-2011</td> <td>101        </td> <td>1010         </td> <td>John Bartram High School</td> <td>District</td> <td>4-Year Graduation Rate</td> <td>Ethnicity                 </td> <td>White                         </td> <td>3    </td> <td>s   </td> <td>s    </td>\n",
       "        </tr>\n",
       "    </tbody>\n",
       "</table>\n",
       "<p>... (20341 rows omitted)</p>"
      ],
      "text/plain": [
       "cohort    | srcschoolid | schoolid_ulcs | schoolname               | sector   | rate_type              | group                      | subgroup                       | denom | num  | score\n",
       "2010-2011 | 101         | 1010          | John Bartram High School | District | 4-Year Graduation Rate | All Students               | All Students                   | 281   | 203  | 72.24\n",
       "2010-2011 | 101         | 1010          | John Bartram High School | District | 4-Year Graduation Rate | ELL                        | EL                             | 37    | 24   | 64.86\n",
       "2010-2011 | 101         | 1010          | John Bartram High School | District | 4-Year Graduation Rate | ELL                        | Non-EL                         | 244   | 179  | 73.36\n",
       "2010-2011 | 101         | 1010          | John Bartram High School | District | 4-Year Graduation Rate | Economically Disadvantaged | Economically Disadvantaged     | 211   | 153  | 72.51\n",
       "2010-2011 | 101         | 1010          | John Bartram High School | District | 4-Year Graduation Rate | Economically Disadvantaged | Not Economically Disadvantaged | 70    | 50   | 71.43\n",
       "2010-2011 | 101         | 1010          | John Bartram High School | District | 4-Year Graduation Rate | Ethnicity                  | Asian                          | 13    | 10   | 76.92\n",
       "2010-2011 | 101         | 1010          | John Bartram High School | District | 4-Year Graduation Rate | Ethnicity                  | Black/African American         | 253   | 182  | 71.94\n",
       "2010-2011 | 101         | 1010          | John Bartram High School | District | 4-Year Graduation Rate | Ethnicity                  | Hispanic/Latino                | 6     | s    | s\n",
       "2010-2011 | 101         | 1010          | John Bartram High School | District | 4-Year Graduation Rate | Ethnicity                  | Multi Racial/Other             | 6     | s    | s\n",
       "2010-2011 | 101         | 1010          | John Bartram High School | District | 4-Year Graduation Rate | Ethnicity                  | White                          | 3     | s    | s\n",
       "... (20341 rows omitted)"
      ]
     },
     "execution_count": 5,
     "metadata": {},
     "output_type": "execute_result"
    }
   ],
   "source": [
    "url = \"https://cdn.philasd.org/offices/performance/Open_Data/School_Performance/Graduation_Rates/SDP_Graduation_Rates_School_S.csv\"\n",
    "data = Table.read_table(url)\n",
    "data"
   ]
  },
  {
   "cell_type": "markdown",
   "metadata": {},
   "source": [
    "### Philadelphia vaccination rates by zip code\n",
    "COVID-19 Vaccinations\n",
    "\n",
    "Shows distribution counts of first and second dose, as well as total dose information for all vaccinations performed by the health department. Also provides vaccinations by census tract, ZIP code, age, race, and sex. Vaccinations include residents and non-residents of Philadelphia. Updates daily.\n",
    "See: https://www.opendataphilly.org/dataset/covid-vaccinations/resource/87ac5b4e-8491-41e3-8cf0-5bfebba2e3a0"
   ]
  },
  {
   "cell_type": "code",
   "execution_count": 37,
   "metadata": {},
   "outputs": [
    {
     "data": {
      "text/html": [
       "<table border=\"1\" class=\"dataframe\">\n",
       "    <thead>\n",
       "        <tr>\n",
       "            <th>zip_code</th> <th>partially_vaccinated</th> <th>fully_vaccinated</th> <th>etl_timestamp</th>\n",
       "        </tr>\n",
       "    </thead>\n",
       "    <tbody>\n",
       "        <tr>\n",
       "            <td>19138   </td> <td>2632                </td> <td>12621           </td> <td>2021-10-27 15:00:02</td>\n",
       "        </tr>\n",
       "        <tr>\n",
       "            <td>19125   </td> <td>2479                </td> <td>13810           </td> <td>2021-10-27 15:00:02</td>\n",
       "        </tr>\n",
       "        <tr>\n",
       "            <td>19144   </td> <td>3779                </td> <td>17779           </td> <td>2021-10-27 15:00:02</td>\n",
       "        </tr>\n",
       "        <tr>\n",
       "            <td>19152   </td> <td>3695                </td> <td>17925           </td> <td>2021-10-27 15:00:02</td>\n",
       "        </tr>\n",
       "        <tr>\n",
       "            <td>19153   </td> <td>938                 </td> <td>5191            </td> <td>2021-10-27 15:00:02</td>\n",
       "        </tr>\n",
       "        <tr>\n",
       "            <td>19133   </td> <td>2612                </td> <td>10490           </td> <td>2021-10-27 15:00:02</td>\n",
       "        </tr>\n",
       "        <tr>\n",
       "            <td>19126   </td> <td>1335                </td> <td>6793            </td> <td>2021-10-27 15:00:02</td>\n",
       "        </tr>\n",
       "        <tr>\n",
       "            <td>19119   </td> <td>2597                </td> <td>13659           </td> <td>2021-10-27 15:00:02</td>\n",
       "        </tr>\n",
       "        <tr>\n",
       "            <td>19120   </td> <td>6489                </td> <td>28721           </td> <td>2021-10-27 15:00:02</td>\n",
       "        </tr>\n",
       "        <tr>\n",
       "            <td>19128   </td> <td>3310                </td> <td>16973           </td> <td>2021-10-27 15:00:02</td>\n",
       "        </tr>\n",
       "    </tbody>\n",
       "</table>\n",
       "<p>... (36 rows omitted)</p>"
      ],
      "text/plain": [
       "zip_code | partially_vaccinated | fully_vaccinated | etl_timestamp\n",
       "19138    | 2632                 | 12621            | 2021-10-27 15:00:02\n",
       "19125    | 2479                 | 13810            | 2021-10-27 15:00:02\n",
       "19144    | 3779                 | 17779            | 2021-10-27 15:00:02\n",
       "19152    | 3695                 | 17925            | 2021-10-27 15:00:02\n",
       "19153    | 938                  | 5191             | 2021-10-27 15:00:02\n",
       "19133    | 2612                 | 10490            | 2021-10-27 15:00:02\n",
       "19126    | 1335                 | 6793             | 2021-10-27 15:00:02\n",
       "19119    | 2597                 | 13659            | 2021-10-27 15:00:02\n",
       "19120    | 6489                 | 28721            | 2021-10-27 15:00:02\n",
       "19128    | 3310                 | 16973            | 2021-10-27 15:00:02\n",
       "... (36 rows omitted)"
      ]
     },
     "execution_count": 37,
     "metadata": {},
     "output_type": "execute_result"
    }
   ],
   "source": [
    "url = \"https://phl.carto.com/api/v2/sql?filename=covid_vaccines_by_zip&format=csv&skipfields=cartodb_id,the_geom,the_geom_webmercator&q=SELECT%20*%20FROM%20covid_vaccines_by_zip\"\n",
    "data = Table.read_table(url)\n",
    "data"
   ]
  },
  {
   "cell_type": "markdown",
   "metadata": {},
   "source": [
    "### Pennsylvannia population by zip code"
   ]
  },
  {
   "cell_type": "code",
   "execution_count": 16,
   "metadata": {},
   "outputs": [
    {
     "data": {
      "text/html": [
       "<table border=\"1\" class=\"dataframe\">\n",
       "    <thead>\n",
       "        <tr>\n",
       "            <th>zip</th> <th>city</th> <th>county</th> <th>pop</th>\n",
       "        </tr>\n",
       "    </thead>\n",
       "    <tbody>\n",
       "        <tr>\n",
       "            <td>19120</td> <td>Philadelphia</td> <td>Philadelphia</td> <td>74060</td>\n",
       "        </tr>\n",
       "        <tr>\n",
       "            <td>19124</td> <td>Philadelphia</td> <td>Philadelphia</td> <td>70304</td>\n",
       "        </tr>\n",
       "        <tr>\n",
       "            <td>19111</td> <td>Philadelphia</td> <td>Philadelphia</td> <td>68113</td>\n",
       "        </tr>\n",
       "        <tr>\n",
       "            <td>19143</td> <td>Philadelphia</td> <td>Philadelphia</td> <td>64630</td>\n",
       "        </tr>\n",
       "        <tr>\n",
       "            <td>19134</td> <td>Philadelphia</td> <td>Philadelphia</td> <td>62087</td>\n",
       "        </tr>\n",
       "        <tr>\n",
       "            <td>19149</td> <td>Philadelphia</td> <td>Philadelphia</td> <td>58055</td>\n",
       "        </tr>\n",
       "        <tr>\n",
       "            <td>19104</td> <td>Philadelphia</td> <td>Philadelphia</td> <td>53560</td>\n",
       "        </tr>\n",
       "        <tr>\n",
       "            <td>19148</td> <td>Philadelphia</td> <td>Philadelphia</td> <td>52259</td>\n",
       "        </tr>\n",
       "        <tr>\n",
       "            <td>19140</td> <td>Philadelphia</td> <td>Philadelphia</td> <td>51766</td>\n",
       "        </tr>\n",
       "        <tr>\n",
       "            <td>19139</td> <td>Philadelphia</td> <td>Philadelphia</td> <td>46397</td>\n",
       "        </tr>\n",
       "    </tbody>\n",
       "</table>\n",
       "<p>... (38 rows omitted)</p>"
      ],
      "text/plain": [
       "zip   | city         | county       | pop\n",
       "19120 | Philadelphia | Philadelphia | 74060\n",
       "19124 | Philadelphia | Philadelphia | 70304\n",
       "19111 | Philadelphia | Philadelphia | 68113\n",
       "19143 | Philadelphia | Philadelphia | 64630\n",
       "19134 | Philadelphia | Philadelphia | 62087\n",
       "19149 | Philadelphia | Philadelphia | 58055\n",
       "19104 | Philadelphia | Philadelphia | 53560\n",
       "19148 | Philadelphia | Philadelphia | 52259\n",
       "19140 | Philadelphia | Philadelphia | 51766\n",
       "19139 | Philadelphia | Philadelphia | 46397\n",
       "... (38 rows omitted)"
      ]
     },
     "execution_count": 16,
     "metadata": {},
     "output_type": "execute_result"
    }
   ],
   "source": [
    "url = \"https://raw.githubusercontent.com/DataScienceTempleFirst/code-cod/main/PA_zip_pop.csv\"\n",
    "data = Table.read_table(url)\n",
    "data.sort(\"pop\",descending=True)\n",
    "data.where('county','Philadelphia')"
   ]
  },
  {
   "cell_type": "markdown",
   "metadata": {},
   "source": [
    "### COVID Vaccination data by country"
   ]
  },
  {
   "cell_type": "code",
   "execution_count": 10,
   "metadata": {},
   "outputs": [
    {
     "data": {
      "text/html": [
       "<table border=\"1\" class=\"dataframe\">\n",
       "    <thead>\n",
       "        <tr>\n",
       "            <th>Country</th> <th>Total Cases</th> <th>Total Deaths</th> <th>Total Recovered</th> <th>Active Cases</th> <th>Total Cases/1M population</th> <th>Deaths/1M population</th> <th>Total Tests</th> <th>Tests/1M population</th> <th>Population</th> <th>location</th> <th>date</th> <th>vaccine</th> <th>total_vaccinations</th>\n",
       "        </tr>\n",
       "    </thead>\n",
       "    <tbody>\n",
       "        <tr>\n",
       "            <td>USA        </td> <td>45313353   </td> <td>734611      </td> <td>3.47972e+07    </td> <td>9.78158e+06 </td> <td>135880                   </td> <td>2203                </td> <td>6.59964e+08</td> <td>1.97902e+06        </td> <td>333479557 </td> <td>United States</td> <td>2021-10-01</td> <td>Pfizer/BioNTech</td> <td>226714560         </td>\n",
       "        </tr>\n",
       "        <tr>\n",
       "            <td>USA        </td> <td>45313353   </td> <td>734611      </td> <td>3.47972e+07    </td> <td>9.78158e+06 </td> <td>135880                   </td> <td>2203                </td> <td>6.59964e+08</td> <td>1.97902e+06        </td> <td>333479557 </td> <td>United States</td> <td>2021-10-01</td> <td>Moderna        </td> <td>151622624         </td>\n",
       "        </tr>\n",
       "        <tr>\n",
       "            <td>Germany    </td> <td>4334254    </td> <td>95087       </td> <td>4.1063e+06     </td> <td>132867      </td> <td>51521                    </td> <td>1130                </td> <td>7.33489e+07</td> <td>871894             </td> <td>84125917  </td> <td>Germany      </td> <td>2021-10-01</td> <td>Pfizer/BioNTech</td> <td>82531243          </td>\n",
       "        </tr>\n",
       "        <tr>\n",
       "            <td>France     </td> <td>7057631    </td> <td>117082      </td> <td>6.84762e+06    </td> <td>92932       </td> <td>107819                   </td> <td>1789                </td> <td>1.46047e+08</td> <td>2.23116e+06        </td> <td>65457901  </td> <td>France       </td> <td>2021-10-01</td> <td>Pfizer/BioNTech</td> <td>75851493          </td>\n",
       "        </tr>\n",
       "        <tr>\n",
       "            <td>Italy      </td> <td>4701832    </td> <td>131335      </td> <td>4.48639e+06    </td> <td>84106       </td> <td>77912                    </td> <td>2176                </td> <td>9.54459e+07</td> <td>1.58158e+06        </td> <td>60348285  </td> <td>Italy        </td> <td>2021-10-01</td> <td>Pfizer/BioNTech</td> <td>60679056          </td>\n",
       "        </tr>\n",
       "        <tr>\n",
       "            <td>Spain      </td> <td>4977448    </td> <td>86827       </td> <td>4.81619e+06    </td> <td>74427       </td> <td>106406                   </td> <td>1856                </td> <td>6.62139e+07</td> <td>1.41549e+06        </td> <td>46777901  </td> <td>Spain        </td> <td>2021-10-01</td> <td>Pfizer/BioNTech</td> <td>45761253          </td>\n",
       "        </tr>\n",
       "        <tr>\n",
       "            <td>Poland     </td> <td>2923304    </td> <td>75869       </td> <td>2.66969e+06    </td> <td>177747      </td> <td>77349                    </td> <td>2007                </td> <td>2.12913e+07</td> <td>563355             </td> <td>37793676  </td> <td>Poland       </td> <td>2021-10-01</td> <td>Pfizer/BioNTech</td> <td>25670314          </td>\n",
       "        </tr>\n",
       "        <tr>\n",
       "            <td>Chile      </td> <td>1663383    </td> <td>37571       </td> <td>1.61704e+06    </td> <td>8777        </td> <td>86072                    </td> <td>1944                </td> <td>2.24356e+07</td> <td>1.16093e+06        </td> <td>19325528  </td> <td>Chile        </td> <td>2021-10-01</td> <td>Sinovac        </td> <td>20789353          </td>\n",
       "        </tr>\n",
       "        <tr>\n",
       "            <td>Netherlands</td> <td>2026402    </td> <td>18209       </td> <td>1.95062e+06    </td> <td>57570       </td> <td>117929                   </td> <td>1060                </td> <td>1.76326e+07</td> <td>1.02615e+06        </td> <td>17183273  </td> <td>Netherlands  </td> <td>2021-10-01</td> <td>Pfizer/BioNTech</td> <td>16830205          </td>\n",
       "        </tr>\n",
       "        <tr>\n",
       "            <td>USA        </td> <td>45313353   </td> <td>734611      </td> <td>3.47972e+07    </td> <td>9.78158e+06 </td> <td>135880                   </td> <td>2203                </td> <td>6.59964e+08</td> <td>1.97902e+06        </td> <td>333479557 </td> <td>United States</td> <td>2021-10-01</td> <td>Johnson&Johnson</td> <td>15022960          </td>\n",
       "        </tr>\n",
       "    </tbody>\n",
       "</table>\n",
       "<p>... (120 rows omitted)</p>"
      ],
      "text/plain": [
       "Country     | Total Cases | Total Deaths | Total Recovered | Active Cases | Total Cases/1M population | Deaths/1M population | Total Tests | Tests/1M population | Population | location      | date       | vaccine         | total_vaccinations\n",
       "USA         | 45313353    | 734611       | 3.47972e+07     | 9.78158e+06  | 135880                    | 2203                 | 6.59964e+08 | 1.97902e+06         | 333479557  | United States | 2021-10-01 | Pfizer/BioNTech | 226714560\n",
       "USA         | 45313353    | 734611       | 3.47972e+07     | 9.78158e+06  | 135880                    | 2203                 | 6.59964e+08 | 1.97902e+06         | 333479557  | United States | 2021-10-01 | Moderna         | 151622624\n",
       "Germany     | 4334254     | 95087        | 4.1063e+06      | 132867       | 51521                     | 1130                 | 7.33489e+07 | 871894              | 84125917   | Germany       | 2021-10-01 | Pfizer/BioNTech | 82531243\n",
       "France      | 7057631     | 117082       | 6.84762e+06     | 92932        | 107819                    | 1789                 | 1.46047e+08 | 2.23116e+06         | 65457901   | France        | 2021-10-01 | Pfizer/BioNTech | 75851493\n",
       "Italy       | 4701832     | 131335       | 4.48639e+06     | 84106        | 77912                     | 2176                 | 9.54459e+07 | 1.58158e+06         | 60348285   | Italy         | 2021-10-01 | Pfizer/BioNTech | 60679056\n",
       "Spain       | 4977448     | 86827        | 4.81619e+06     | 74427        | 106406                    | 1856                 | 6.62139e+07 | 1.41549e+06         | 46777901   | Spain         | 2021-10-01 | Pfizer/BioNTech | 45761253\n",
       "Poland      | 2923304     | 75869        | 2.66969e+06     | 177747       | 77349                     | 2007                 | 2.12913e+07 | 563355              | 37793676   | Poland        | 2021-10-01 | Pfizer/BioNTech | 25670314\n",
       "Chile       | 1663383     | 37571        | 1.61704e+06     | 8777         | 86072                     | 1944                 | 2.24356e+07 | 1.16093e+06         | 19325528   | Chile         | 2021-10-01 | Sinovac         | 20789353\n",
       "Netherlands | 2026402     | 18209        | 1.95062e+06     | 57570        | 117929                    | 1060                 | 1.76326e+07 | 1.02615e+06         | 17183273   | Netherlands   | 2021-10-01 | Pfizer/BioNTech | 16830205\n",
       "USA         | 45313353    | 734611       | 3.47972e+07     | 9.78158e+06  | 135880                    | 2203                 | 6.59964e+08 | 1.97902e+06         | 333479557  | United States | 2021-10-01 | Johnson&Johnson | 15022960\n",
       "... (120 rows omitted)"
      ]
     },
     "execution_count": 10,
     "metadata": {},
     "output_type": "execute_result"
    }
   ],
   "source": [
    "url = \"https://raw.githubusercontent.com/DataScienceTempleFirst/code-cod/main/COVID_VAXDATA.csv\"\n",
    "data = Table.read_table(url)\n",
    "data"
   ]
  },
  {
   "cell_type": "markdown",
   "metadata": {},
   "source": [
    "### City Employee Earnings (Philadelphia)\n",
    "\n",
    "This data does not necessarily represent current salaries of employees and is intended for informational purposes only. Formal requests to document salary details or other personnel information should be made through the City's Human Resources department.\n",
    "https://www.opendataphilly.org/dataset/employee-salaries-overtime "
   ]
  },
  {
   "cell_type": "code",
   "execution_count": 22,
   "metadata": {},
   "outputs": [
    {
     "data": {
      "text/html": [
       "<table border=\"1\" class=\"dataframe\">\n",
       "    <thead>\n",
       "        <tr>\n",
       "            <th>the_geom</th> <th>cartodb_id</th> <th>the_geom_webmercator</th> <th>calendar_year</th> <th>quarter</th> <th>last_name</th> <th>first_name</th> <th>title</th> <th>job_code</th> <th>department_name</th> <th>department_number</th> <th>base_salary</th> <th>salary_type</th> <th>overtime_gross_pay_qtd</th> <th>base_gross_pay_qtd</th> <th>longevity_gross_pay_qtd</th> <th>post_separation_gross_pay_qtd</th> <th>miscellaneous_gross_pay_qtd</th> <th>employee_category</th> <th>compulsory_union_code</th> <th>termination_month</th> <th>termination_year</th> <th>public_id</th>\n",
       "        </tr>\n",
       "    </thead>\n",
       "    <tbody>\n",
       "        <tr>\n",
       "            <td>nan     </td> <td>118788    </td> <td>nan                 </td> <td>2019         </td> <td>2      </td> <td>Harris-Lucas</td> <td>Tangeka   </td> <td>Pool Maintenance Attendant</td> <td>9C05    </td> <td>PPR Parks and Recreation</td> <td>16               </td> <td>9920       </td> <td>Salaried   </td> <td>nan                   </td> <td>3700.8            </td> <td>93.42                  </td> <td>nan                          </td> <td>0                          </td> <td>Civil Service    </td> <td>S                    </td> <td>1                </td> <td>2020            </td> <td>25791    </td>\n",
       "        </tr>\n",
       "        <tr>\n",
       "            <td>nan     </td> <td>18881     </td> <td>nan                 </td> <td>2019         </td> <td>2      </td> <td>Eggaer      </td> <td>Marlene   </td> <td>School Crossing Guard     </td> <td>6D44    </td> <td>PPD Police              </td> <td>11               </td> <td>11880      </td> <td>Salaried   </td> <td>nan                   </td> <td>2970              </td> <td>66.1                   </td> <td>nan                          </td> <td>0                          </td> <td>Civil Service    </td> <td>G                    </td> <td>nan              </td> <td>nan             </td> <td>23895    </td>\n",
       "        </tr>\n",
       "        <tr>\n",
       "            <td>nan     </td> <td>30121     </td> <td>nan                 </td> <td>2019         </td> <td>2      </td> <td>McCann      </td> <td>Vivian    </td> <td>School Crossing Guard     </td> <td>6D44    </td> <td>PPD Police              </td> <td>11               </td> <td>11880      </td> <td>Salaried   </td> <td>nan                   </td> <td>3007.13           </td> <td>nan                    </td> <td>nan                          </td> <td>0                          </td> <td>Civil Service    </td> <td>G                    </td> <td>nan              </td> <td>nan             </td> <td>32583    </td>\n",
       "        </tr>\n",
       "        <tr>\n",
       "            <td>nan     </td> <td>31050     </td> <td>nan                 </td> <td>2019         </td> <td>2      </td> <td>Vidra       </td> <td>Christina </td> <td>School Crossing Guard     </td> <td>6D44    </td> <td>PPD Police              </td> <td>11               </td> <td>11880      </td> <td>Salaried   </td> <td>nan                   </td> <td>3504.6            </td> <td>nan                    </td> <td>nan                          </td> <td>0                          </td> <td>Civil Service    </td> <td>G                    </td> <td>nan              </td> <td>nan             </td> <td>19521    </td>\n",
       "        </tr>\n",
       "        <tr>\n",
       "            <td>nan     </td> <td>66859     </td> <td>nan                 </td> <td>2019         </td> <td>2      </td> <td>Rice        </td> <td>Shenida   </td> <td>School Crossing Guard     </td> <td>6D44    </td> <td>PPD Police              </td> <td>11               </td> <td>11880      </td> <td>Salaried   </td> <td>nan                   </td> <td>3696.24           </td> <td>nan                    </td> <td>nan                          </td> <td>0                          </td> <td>Civil Service    </td> <td>G                    </td> <td>3                </td> <td>2019            </td> <td>10424    </td>\n",
       "        </tr>\n",
       "        <tr>\n",
       "            <td>nan     </td> <td>68788     </td> <td>nan                 </td> <td>2019         </td> <td>2      </td> <td>Nichols     </td> <td>Melisa    </td> <td>School Crossing Guard     </td> <td>6D44    </td> <td>PPD Police              </td> <td>11               </td> <td>11880      </td> <td>Salaried   </td> <td>nan                   </td> <td>2955.15           </td> <td>nan                    </td> <td>nan                          </td> <td>0                          </td> <td>Civil Service    </td> <td>G                    </td> <td>3                </td> <td>2021            </td> <td>19174    </td>\n",
       "        </tr>\n",
       "        <tr>\n",
       "            <td>nan     </td> <td>105884    </td> <td>nan                 </td> <td>2019         </td> <td>2      </td> <td>Boland      </td> <td>Joanne    </td> <td>School Crossing Guard     </td> <td>6D44    </td> <td>PPD Police              </td> <td>11               </td> <td>11880      </td> <td>Salaried   </td> <td>nan                   </td> <td>3326.4            </td> <td>nan                    </td> <td>nan                          </td> <td>0                          </td> <td>Civil Service    </td> <td>G                    </td> <td>nan              </td> <td>nan             </td> <td>25268    </td>\n",
       "        </tr>\n",
       "        <tr>\n",
       "            <td>nan     </td> <td>106494    </td> <td>nan                 </td> <td>2019         </td> <td>2      </td> <td>Mcmillian   </td> <td>Yolanda   </td> <td>School Crossing Guard     </td> <td>6D44    </td> <td>PPD Police              </td> <td>11               </td> <td>11880      </td> <td>Salaried   </td> <td>nan                   </td> <td>3326.4            </td> <td>nan                    </td> <td>nan                          </td> <td>0                          </td> <td>Civil Service    </td> <td>G                    </td> <td>nan              </td> <td>nan             </td> <td>25845    </td>\n",
       "        </tr>\n",
       "        <tr>\n",
       "            <td>nan     </td> <td>106805    </td> <td>nan                 </td> <td>2019         </td> <td>2      </td> <td>DUAIME      </td> <td>JOHN      </td> <td>School Crossing Guard     </td> <td>6D44    </td> <td>PPD Police              </td> <td>11               </td> <td>11880      </td> <td>Salaried   </td> <td>nan                   </td> <td>2970              </td> <td>nan                    </td> <td>nan                          </td> <td>0                          </td> <td>Civil Service    </td> <td>G                    </td> <td>nan              </td> <td>nan             </td> <td>12078    </td>\n",
       "        </tr>\n",
       "        <tr>\n",
       "            <td>nan     </td> <td>106806    </td> <td>nan                 </td> <td>2019         </td> <td>2      </td> <td>STEINER     </td> <td>DESIREE   </td> <td>School Crossing Guard     </td> <td>6D44    </td> <td>PPD Police              </td> <td>11               </td> <td>11880      </td> <td>Salaried   </td> <td>nan                   </td> <td>3267              </td> <td>nan                    </td> <td>nan                          </td> <td>0                          </td> <td>Civil Service    </td> <td>G                    </td> <td>nan              </td> <td>nan             </td> <td>18970    </td>\n",
       "        </tr>\n",
       "    </tbody>\n",
       "</table>\n",
       "<p>... (285464 rows omitted)</p>"
      ],
      "text/plain": [
       "the_geom | cartodb_id | the_geom_webmercator | calendar_year | quarter | last_name    | first_name | title                      | job_code | department_name          | department_number | base_salary | salary_type | overtime_gross_pay_qtd | base_gross_pay_qtd | longevity_gross_pay_qtd | post_separation_gross_pay_qtd | miscellaneous_gross_pay_qtd | employee_category | compulsory_union_code | termination_month | termination_year | public_id\n",
       "nan      | 118788     | nan                  | 2019          | 2       | Harris-Lucas | Tangeka    | Pool Maintenance Attendant | 9C05     | PPR Parks and Recreation | 16                | 9920        | Salaried    | nan                    | 3700.8             | 93.42                   | nan                           | 0                           | Civil Service     | S                     | 1                 | 2020             | 25791\n",
       "nan      | 18881      | nan                  | 2019          | 2       | Eggaer       | Marlene    | School Crossing Guard      | 6D44     | PPD Police               | 11                | 11880       | Salaried    | nan                    | 2970               | 66.1                    | nan                           | 0                           | Civil Service     | G                     | nan               | nan              | 23895\n",
       "nan      | 30121      | nan                  | 2019          | 2       | McCann       | Vivian     | School Crossing Guard      | 6D44     | PPD Police               | 11                | 11880       | Salaried    | nan                    | 3007.13            | nan                     | nan                           | 0                           | Civil Service     | G                     | nan               | nan              | 32583\n",
       "nan      | 31050      | nan                  | 2019          | 2       | Vidra        | Christina  | School Crossing Guard      | 6D44     | PPD Police               | 11                | 11880       | Salaried    | nan                    | 3504.6             | nan                     | nan                           | 0                           | Civil Service     | G                     | nan               | nan              | 19521\n",
       "nan      | 66859      | nan                  | 2019          | 2       | Rice         | Shenida    | School Crossing Guard      | 6D44     | PPD Police               | 11                | 11880       | Salaried    | nan                    | 3696.24            | nan                     | nan                           | 0                           | Civil Service     | G                     | 3                 | 2019             | 10424\n",
       "nan      | 68788      | nan                  | 2019          | 2       | Nichols      | Melisa     | School Crossing Guard      | 6D44     | PPD Police               | 11                | 11880       | Salaried    | nan                    | 2955.15            | nan                     | nan                           | 0                           | Civil Service     | G                     | 3                 | 2021             | 19174\n",
       "nan      | 105884     | nan                  | 2019          | 2       | Boland       | Joanne     | School Crossing Guard      | 6D44     | PPD Police               | 11                | 11880       | Salaried    | nan                    | 3326.4             | nan                     | nan                           | 0                           | Civil Service     | G                     | nan               | nan              | 25268\n",
       "nan      | 106494     | nan                  | 2019          | 2       | Mcmillian    | Yolanda    | School Crossing Guard      | 6D44     | PPD Police               | 11                | 11880       | Salaried    | nan                    | 3326.4             | nan                     | nan                           | 0                           | Civil Service     | G                     | nan               | nan              | 25845\n",
       "nan      | 106805     | nan                  | 2019          | 2       | DUAIME       | JOHN       | School Crossing Guard      | 6D44     | PPD Police               | 11                | 11880       | Salaried    | nan                    | 2970               | nan                     | nan                           | 0                           | Civil Service     | G                     | nan               | nan              | 12078\n",
       "nan      | 106806     | nan                  | 2019          | 2       | STEINER      | DESIREE    | School Crossing Guard      | 6D44     | PPD Police               | 11                | 11880       | Salaried    | nan                    | 3267               | nan                     | nan                           | 0                           | Civil Service     | G                     | nan               | nan              | 18970\n",
       "... (285464 rows omitted)"
      ]
     },
     "execution_count": 22,
     "metadata": {},
     "output_type": "execute_result"
    }
   ],
   "source": [
    "url = \"https://phl.carto.com/api/v2/sql?filename=employee_earnings&format=csv&q=SELECT%20*%20FROM%20employee_earnings\"\n",
    "data = Table.read_table(url)\n",
    "data.sort('base_salary',descending=False)"
   ]
  },
  {
   "cell_type": "markdown",
   "metadata": {},
   "source": [
    "### Farmers Markets Locations\n",
    "\n",
    "Locations of farmers markets in Philadelphia.\n",
    "\n",
    "Trouble downloading or have questions about this City dataset? Visit the OpenDataPhilly Discussion Group"
   ]
  },
  {
   "cell_type": "code",
   "execution_count": 31,
   "metadata": {},
   "outputs": [
    {
     "data": {
      "text/html": [
       "<table border=\"1\" class=\"dataframe\">\n",
       "    <thead>\n",
       "        <tr>\n",
       "            <th>X</th> <th>Y</th> <th>OBJECTID</th> <th>ADDRESS</th> <th>NEIGHBORHOOD</th> <th>NAME</th> <th>ADDRESS_NOTES</th> <th>ZIP</th> <th>DAY</th> <th>TIME</th> <th>MONTHS</th> <th>ACCEPT_SNAP_ACCESS</th> <th>ACCEPT_FMNP</th> <th>ACCEPT_PHILLY_FOOD_BUCKS_</th> <th>MAJOR_BUS_SUBWAY_ROUTES</th> <th>OPERATOR</th> <th>MARKET_WEBSITE</th> <th>ACTIVE</th> <th>NOTES</th>\n",
       "        </tr>\n",
       "    </thead>\n",
       "    <tbody>\n",
       "        <tr>\n",
       "            <td>-75.121 </td> <td>39.9783</td> <td>1       </td> <td>2501 E Cumberland Ave           </td> <td>Bridesburg/\n",
       "Kensington/Port Richmond</td> <td>Greensgrow Farm Stand                                  </td> <td>nan                          </td> <td>19125</td> <td>Thurs-Sun </td> <td>10am-4pm                                                    </td> <td>May - Thanksgiving               </td> <td>Y                 </td> <td>Y          </td> <td>Y                        </td> <td>Bus Lines 25, 39, 43, 89                 </td> <td>Greensgrow Farm                                         </td> <td>https://www.greensgrow.org                                  </td> <td>Y     </td> <td>nan                                                         </td>\n",
       "        </tr>\n",
       "        <tr>\n",
       "            <td>-75.1671</td> <td>40.035 </td> <td>2       </td> <td>215 E. Penn St                  </td> <td>Germantown/ Chestnut Hill           </td> <td>Germantown Kitchen Garden Farm Stand                   </td> <td>nan                          </td> <td>19144</td> <td>Sat       </td> <td>9am-1pm                                                     </td> <td>May  - October                   </td> <td>Y                 </td> <td>Y          </td> <td>Y                        </td> <td>Bus Line 23                              </td> <td>Germantown Kitchen Garden                               </td> <td>https://www.germantownkitchengarden.com                     </td> <td>Y     </td> <td>Can order online from their online nursery                  </td>\n",
       "        </tr>\n",
       "        <tr>\n",
       "            <td>-75.1915</td> <td>40.0079</td> <td>3       </td> <td>4100 Ridge Ave                  </td> <td>Germantown/ Chestnut Hill           </td> <td>East Falls Farmers' Market                             </td> <td>In parking lot under Route 1 </td> <td>19129</td> <td>Sat       </td> <td>10am-2pm                                                    </td> <td>May - November                   </td> <td>Y                 </td> <td>Y          </td> <td>Y                        </td> <td>Bus Line 61                              </td> <td>East Falls Development Corporation                      </td> <td>https://www.eastfallsfarmersmarket.com/                     </td> <td>Y     </td> <td>Pre-ordering online, pre-pay online or e-payments. see w ...</td>\n",
       "        </tr>\n",
       "        <tr>\n",
       "            <td>-75.1681</td> <td>40.0325</td> <td>4       </td> <td>5267 Germantown Ave             </td> <td>Northwest                           </td> <td>Youth Farmstand at Grumblethorpe House                 </td> <td>nan                          </td> <td>19144</td> <td>Sat       </td> <td>9:30am-1:30pm                                               </td> <td>June - Aug                       </td> <td>Y                 </td> <td>Y          </td> <td>N                        </td> <td>Bus Line 23                              </td> <td>Grumblethorpe House                                     </td> <td>https://www.freedomsbackyard.com/grumblethorpe/             </td> <td>Y     </td> <td>nan                                                         </td>\n",
       "        </tr>\n",
       "        <tr>\n",
       "            <td>-75.1387</td> <td>39.9531</td> <td>5       </td> <td>121 N. Christopher Columbus Blvd</td> <td>Penns Landing                       </td> <td>The Food Trust's Market at Cherry Street Pier          </td> <td>nan                          </td> <td>19106</td> <td>Saturdays </td> <td>10 - 2pm                                                    </td> <td>July 13th - Novemeber 16th       </td> <td>Y                 </td> <td>Y          </td> <td>Y                        </td> <td>nan                                      </td> <td>The Food Trust                                          </td> <td>https://www.thefoodtrust.org/farmers-markets                </td> <td>N     </td> <td>nan                                                         </td>\n",
       "        </tr>\n",
       "        <tr>\n",
       "            <td>-75.2135</td> <td>39.9583</td> <td>6       </td> <td>4610 Market St                  </td> <td>West                                </td> <td>Walnut Hill Farm Stand                                 </td> <td>nan                          </td> <td>19139</td> <td>Thurs     </td> <td>3-7pm                                                       </td> <td>June- October                    </td> <td>Y                 </td> <td>Y          </td> <td>Y                        </td> <td>MFL (46th St stop), Bus Lines 30, 31, 64\n",
       "</td> <td>The Enterprise Center, Walnut HIll Community Association</td> <td>https://www.theenterprisecenter.com/community/farm-and-g ...</td> <td>Y     </td> <td>Also have 12 community garden beds that are open to the  ...</td>\n",
       "        </tr>\n",
       "        <tr>\n",
       "            <td>-75.22  </td> <td>39.9662</td> <td>7       </td> <td>4901 Brown St                   </td> <td>West                                </td> <td>Mill Creek Farm Farm Stand                             </td> <td>Between 49th and 50th Streets</td> <td>19139</td> <td>Saturdays </td> <td>11am-2pm                                                    </td> <td>July 18th - Nov 7th              </td> <td>Y                 </td> <td>Y          </td> <td>N                        </td> <td>Bus Lines 30, 52, 64                     </td> <td>Mill Creek Farm                                         </td> <td>https://www.millcreekurbanfarm.org                          </td> <td>Y     </td> <td>nan                                                         </td>\n",
       "        </tr>\n",
       "        <tr>\n",
       "            <td>-75.1349</td> <td>39.9819</td> <td>8       </td> <td>Diamond St and Mascher St       </td> <td>Bridesburg/\n",
       "Kensington/Port Richmond</td> <td>Norris Square Neighborhood Project Community Farm Stand</td> <td>Raices Garden                </td> <td>19122</td> <td>Saturdays </td> <td>10am-1:30pm                                                 </td> <td>June - October                   </td> <td>Y                 </td> <td>Y          </td> <td>Y                        </td> <td>Bus Lines 3, 39, 89                      </td> <td>Norris Square Neighborhood Project                      </td> <td>https://www.myneighborhoodproject.org                       </td> <td>Y     </td> <td>nan                                                         </td>\n",
       "        </tr>\n",
       "        <tr>\n",
       "            <td>-75.1707</td> <td>39.9501</td> <td>9       </td> <td>18th St and Walnut St           </td> <td>Center City                         </td> <td>Rittenhouse Farmers' Market                            </td> <td>nan                          </td> <td>19103</td> <td>Tues & Sat</td> <td>Tues 10am-2pm, \n",
       "Sat 9am-3pm (may to Nov); 10am - 2pm (De ...</td> <td>Tues-  Year round\n",
       "Sat- Year round</td> <td>N                 </td> <td>Y          </td> <td>N                        </td> <td>Bus Lines 9, 17                          </td> <td>Farm to City                                            </td> <td>https://www.farmtocitymarkets.com                           </td> <td>Y     </td> <td>Issues with accepting SNAP right now, don't have machine ...</td>\n",
       "        </tr>\n",
       "        <tr>\n",
       "            <td>-75.174 </td> <td>39.9673</td> <td>10      </td> <td>22nd St and Fairmount Ave       </td> <td>Center City                         </td> <td>Fairmount Farmers' Market                              </td> <td>nan                          </td> <td>19130</td> <td>Thurs     </td> <td>3-7pm                                                       </td> <td>Open year round                  </td> <td>Y                 </td> <td>Y          </td> <td>Y                        </td> <td>PHLASH,\n",
       "Bus Lines 7, 32, 33, 48          </td> <td>The Food Trust                                          </td> <td>https://www.thefoodtrust.org/farmers-markets                </td> <td>Y     </td> <td>nan                                                         </td>\n",
       "        </tr>\n",
       "    </tbody>\n",
       "</table>\n",
       "<p>... (35 rows omitted)</p>"
      ],
      "text/plain": [
       "X        | Y       | OBJECTID | ADDRESS                          | NEIGHBORHOOD                         | NAME                                                    | ADDRESS_NOTES                 | ZIP   | DAY        | TIME                                                         | MONTHS                            | ACCEPT_SNAP_ACCESS | ACCEPT_FMNP | ACCEPT_PHILLY_FOOD_BUCKS_ | MAJOR_BUS_SUBWAY_ROUTES                   | OPERATOR                                                 | MARKET_WEBSITE                                               | ACTIVE | NOTES\n",
       "-75.121  | 39.9783 | 1        | 2501 E Cumberland Ave            | Bridesburg/\n",
       "Kensington/Port Richmond | Greensgrow Farm Stand                                   | nan                           | 19125 | Thurs-Sun  | 10am-4pm                                                     | May - Thanksgiving                | Y                  | Y           | Y                         | Bus Lines 25, 39, 43, 89                  | Greensgrow Farm                                          | https://www.greensgrow.org                                   | Y      | nan\n",
       "-75.1671 | 40.035  | 2        | 215 E. Penn St                   | Germantown/ Chestnut Hill            | Germantown Kitchen Garden Farm Stand                    | nan                           | 19144 | Sat        | 9am-1pm                                                      | May  - October                    | Y                  | Y           | Y                         | Bus Line 23                               | Germantown Kitchen Garden                                | https://www.germantownkitchengarden.com                      | Y      | Can order online from their online nursery\n",
       "-75.1915 | 40.0079 | 3        | 4100 Ridge Ave                   | Germantown/ Chestnut Hill            | East Falls Farmers' Market                              | In parking lot under Route 1  | 19129 | Sat        | 10am-2pm                                                     | May - November                    | Y                  | Y           | Y                         | Bus Line 61                               | East Falls Development Corporation                       | https://www.eastfallsfarmersmarket.com/                      | Y      | Pre-ordering online, pre-pay online or e-payments. see w ...\n",
       "-75.1681 | 40.0325 | 4        | 5267 Germantown Ave              | Northwest                            | Youth Farmstand at Grumblethorpe House                  | nan                           | 19144 | Sat        | 9:30am-1:30pm                                                | June - Aug                        | Y                  | Y           | N                         | Bus Line 23                               | Grumblethorpe House                                      | https://www.freedomsbackyard.com/grumblethorpe/              | Y      | nan\n",
       "-75.1387 | 39.9531 | 5        | 121 N. Christopher Columbus Blvd | Penns Landing                        | The Food Trust's Market at Cherry Street Pier           | nan                           | 19106 | Saturdays  | 10 - 2pm                                                     | July 13th - Novemeber 16th        | Y                  | Y           | Y                         | nan                                       | The Food Trust                                           | https://www.thefoodtrust.org/farmers-markets                 | N      | nan\n",
       "-75.2135 | 39.9583 | 6        | 4610 Market St                   | West                                 | Walnut Hill Farm Stand                                  | nan                           | 19139 | Thurs      | 3-7pm                                                        | June- October                     | Y                  | Y           | Y                         | MFL (46th St stop), Bus Lines 30, 31, 64\n",
       " | The Enterprise Center, Walnut HIll Community Association | https://www.theenterprisecenter.com/community/farm-and-g ... | Y      | Also have 12 community garden beds that are open to the  ...\n",
       "-75.22   | 39.9662 | 7        | 4901 Brown St                    | West                                 | Mill Creek Farm Farm Stand                              | Between 49th and 50th Streets | 19139 | Saturdays  | 11am-2pm                                                     | July 18th - Nov 7th               | Y                  | Y           | N                         | Bus Lines 30, 52, 64                      | Mill Creek Farm                                          | https://www.millcreekurbanfarm.org                           | Y      | nan\n",
       "-75.1349 | 39.9819 | 8        | Diamond St and Mascher St        | Bridesburg/\n",
       "Kensington/Port Richmond | Norris Square Neighborhood Project Community Farm Stand | Raices Garden                 | 19122 | Saturdays  | 10am-1:30pm                                                  | June - October                    | Y                  | Y           | Y                         | Bus Lines 3, 39, 89                       | Norris Square Neighborhood Project                       | https://www.myneighborhoodproject.org                        | Y      | nan\n",
       "-75.1707 | 39.9501 | 9        | 18th St and Walnut St            | Center City                          | Rittenhouse Farmers' Market                             | nan                           | 19103 | Tues & Sat | Tues 10am-2pm, \n",
       "Sat 9am-3pm (may to Nov); 10am - 2pm (De ... | Tues-  Year round\n",
       "Sat- Year round | N                  | Y           | N                         | Bus Lines 9, 17                           | Farm to City                                             | https://www.farmtocitymarkets.com                            | Y      | Issues with accepting SNAP right now, don't have machine ...\n",
       "-75.174  | 39.9673 | 10       | 22nd St and Fairmount Ave        | Center City                          | Fairmount Farmers' Market                               | nan                           | 19130 | Thurs      | 3-7pm                                                        | Open year round                   | Y                  | Y           | Y                         | PHLASH,\n",
       "Bus Lines 7, 32, 33, 48           | The Food Trust                                           | https://www.thefoodtrust.org/farmers-markets                 | Y      | nan\n",
       "... (35 rows omitted)"
      ]
     },
     "execution_count": 31,
     "metadata": {},
     "output_type": "execute_result"
    }
   ],
   "source": [
    "url = \"https://opendata.arcgis.com/datasets/0707c1f31e2446e881d680b0a5ee54bc_0.csv\"\n",
    "data = Table.read_table(url)\n",
    "data"
   ]
  },
  {
   "cell_type": "markdown",
   "metadata": {},
   "source": [
    "#### Map Farmer's market data\n",
    "See Inferential Thinking: https://inferentialthinking.com/chapters/08/5/Bike_Sharing_in_the_Bay_Area.html?highlight=map\n"
   ]
  },
  {
   "cell_type": "code",
   "execution_count": 36,
   "metadata": {},
   "outputs": [
    {
     "data": {
      "text/html": [
       "<div style=\"width:100%;\"><div style=\"position:relative;width:100%;height:0;padding-bottom:60%;\"><span style=\"color:#565656\">Make this Notebook Trusted to load map: File -> Trust Notebook</span><iframe src=\"about:blank\" style=\"position:absolute;width:100%;height:100%;left:0;top:0;border:none !important;\" data-html=%3C%21DOCTYPE%20html%3E%0A%3Chead%3E%20%20%20%20%0A%20%20%20%20%3Cmeta%20http-equiv%3D%22content-type%22%20content%3D%22text/html%3B%20charset%3DUTF-8%22%20/%3E%0A%20%20%20%20%0A%20%20%20%20%20%20%20%20%3Cscript%3E%0A%20%20%20%20%20%20%20%20%20%20%20%20L_NO_TOUCH%20%3D%20false%3B%0A%20%20%20%20%20%20%20%20%20%20%20%20L_DISABLE_3D%20%3D%20false%3B%0A%20%20%20%20%20%20%20%20%3C/script%3E%0A%20%20%20%20%0A%20%20%20%20%3Cstyle%3Ehtml%2C%20body%20%7Bwidth%3A%20100%25%3Bheight%3A%20100%25%3Bmargin%3A%200%3Bpadding%3A%200%3B%7D%3C/style%3E%0A%20%20%20%20%3Cstyle%3E%23map%20%7Bposition%3Aabsolute%3Btop%3A0%3Bbottom%3A0%3Bright%3A0%3Bleft%3A0%3B%7D%3C/style%3E%0A%20%20%20%20%3Cscript%20src%3D%22https%3A//cdn.jsdelivr.net/npm/leaflet%401.6.0/dist/leaflet.js%22%3E%3C/script%3E%0A%20%20%20%20%3Cscript%20src%3D%22https%3A//code.jquery.com/jquery-1.12.4.min.js%22%3E%3C/script%3E%0A%20%20%20%20%3Cscript%20src%3D%22https%3A//maxcdn.bootstrapcdn.com/bootstrap/3.2.0/js/bootstrap.min.js%22%3E%3C/script%3E%0A%20%20%20%20%3Cscript%20src%3D%22https%3A//cdnjs.cloudflare.com/ajax/libs/Leaflet.awesome-markers/2.0.2/leaflet.awesome-markers.js%22%3E%3C/script%3E%0A%20%20%20%20%3Clink%20rel%3D%22stylesheet%22%20href%3D%22https%3A//cdn.jsdelivr.net/npm/leaflet%401.6.0/dist/leaflet.css%22/%3E%0A%20%20%20%20%3Clink%20rel%3D%22stylesheet%22%20href%3D%22https%3A//maxcdn.bootstrapcdn.com/bootstrap/3.2.0/css/bootstrap.min.css%22/%3E%0A%20%20%20%20%3Clink%20rel%3D%22stylesheet%22%20href%3D%22https%3A//maxcdn.bootstrapcdn.com/bootstrap/3.2.0/css/bootstrap-theme.min.css%22/%3E%0A%20%20%20%20%3Clink%20rel%3D%22stylesheet%22%20href%3D%22https%3A//maxcdn.bootstrapcdn.com/font-awesome/4.6.3/css/font-awesome.min.css%22/%3E%0A%20%20%20%20%3Clink%20rel%3D%22stylesheet%22%20href%3D%22https%3A//cdnjs.cloudflare.com/ajax/libs/Leaflet.awesome-markers/2.0.2/leaflet.awesome-markers.css%22/%3E%0A%20%20%20%20%3Clink%20rel%3D%22stylesheet%22%20href%3D%22https%3A//cdn.jsdelivr.net/gh/python-visualization/folium/folium/templates/leaflet.awesome.rotate.min.css%22/%3E%0A%20%20%20%20%0A%20%20%20%20%20%20%20%20%20%20%20%20%3Cmeta%20name%3D%22viewport%22%20content%3D%22width%3Ddevice-width%2C%0A%20%20%20%20%20%20%20%20%20%20%20%20%20%20%20%20initial-scale%3D1.0%2C%20maximum-scale%3D1.0%2C%20user-scalable%3Dno%22%20/%3E%0A%20%20%20%20%20%20%20%20%20%20%20%20%3Cstyle%3E%0A%20%20%20%20%20%20%20%20%20%20%20%20%20%20%20%20%23map_c239fe58d6db4565baaa547b4a3d333b%20%7B%0A%20%20%20%20%20%20%20%20%20%20%20%20%20%20%20%20%20%20%20%20position%3A%20relative%3B%0A%20%20%20%20%20%20%20%20%20%20%20%20%20%20%20%20%20%20%20%20width%3A%20960.0px%3B%0A%20%20%20%20%20%20%20%20%20%20%20%20%20%20%20%20%20%20%20%20height%3A%20500.0px%3B%0A%20%20%20%20%20%20%20%20%20%20%20%20%20%20%20%20%20%20%20%20left%3A%200.0%25%3B%0A%20%20%20%20%20%20%20%20%20%20%20%20%20%20%20%20%20%20%20%20top%3A%200.0%25%3B%0A%20%20%20%20%20%20%20%20%20%20%20%20%20%20%20%20%7D%0A%20%20%20%20%20%20%20%20%20%20%20%20%3C/style%3E%0A%20%20%20%20%20%20%20%20%0A%3C/head%3E%0A%3Cbody%3E%20%20%20%20%0A%20%20%20%20%0A%20%20%20%20%20%20%20%20%20%20%20%20%3Cdiv%20class%3D%22folium-map%22%20id%3D%22map_c239fe58d6db4565baaa547b4a3d333b%22%20%3E%3C/div%3E%0A%20%20%20%20%20%20%20%20%0A%3C/body%3E%0A%3Cscript%3E%20%20%20%20%0A%20%20%20%20%0A%20%20%20%20%20%20%20%20%20%20%20%20var%20map_c239fe58d6db4565baaa547b4a3d333b%20%3D%20L.map%28%0A%20%20%20%20%20%20%20%20%20%20%20%20%20%20%20%20%22map_c239fe58d6db4565baaa547b4a3d333b%22%2C%0A%20%20%20%20%20%20%20%20%20%20%20%20%20%20%20%20%7B%0A%20%20%20%20%20%20%20%20%20%20%20%20%20%20%20%20%20%20%20%20center%3A%20%5B40.0103122973131%2C%20-75.13716074164199%5D%2C%0A%20%20%20%20%20%20%20%20%20%20%20%20%20%20%20%20%20%20%20%20crs%3A%20L.CRS.EPSG3857%2C%0A%20%20%20%20%20%20%20%20%20%20%20%20%20%20%20%20%20%20%20%20zoom%3A%2010.0%2C%0A%20%20%20%20%20%20%20%20%20%20%20%20%20%20%20%20%20%20%20%20zoomControl%3A%20true%2C%0A%20%20%20%20%20%20%20%20%20%20%20%20%20%20%20%20%20%20%20%20preferCanvas%3A%20false%2C%0A%20%20%20%20%20%20%20%20%20%20%20%20%20%20%20%20%20%20%20%20clusteredMarker%3A%20false%2C%0A%20%20%20%20%20%20%20%20%20%20%20%20%20%20%20%20%20%20%20%20includeColorScaleOutliers%3A%20true%2C%0A%20%20%20%20%20%20%20%20%20%20%20%20%20%20%20%20%20%20%20%20radiusInMeters%3A%20false%2C%0A%20%20%20%20%20%20%20%20%20%20%20%20%20%20%20%20%7D%0A%20%20%20%20%20%20%20%20%20%20%20%20%29%3B%0A%0A%20%20%20%20%20%20%20%20%20%20%20%20%0A%0A%20%20%20%20%20%20%20%20%0A%20%20%20%20%0A%20%20%20%20%20%20%20%20%20%20%20%20var%20tile_layer_f7e89394153b49bd9cb68606afd312be%20%3D%20L.tileLayer%28%0A%20%20%20%20%20%20%20%20%20%20%20%20%20%20%20%20%22https%3A//%7Bs%7D.tile.openstreetmap.org/%7Bz%7D/%7Bx%7D/%7By%7D.png%22%2C%0A%20%20%20%20%20%20%20%20%20%20%20%20%20%20%20%20%7B%22attribution%22%3A%20%22Data%20by%20%5Cu0026copy%3B%20%5Cu003ca%20href%3D%5C%22http%3A//openstreetmap.org%5C%22%5Cu003eOpenStreetMap%5Cu003c/a%5Cu003e%2C%20under%20%5Cu003ca%20href%3D%5C%22http%3A//www.openstreetmap.org/copyright%5C%22%5Cu003eODbL%5Cu003c/a%5Cu003e.%22%2C%20%22detectRetina%22%3A%20false%2C%20%22maxNativeZoom%22%3A%2017%2C%20%22maxZoom%22%3A%2017%2C%20%22minZoom%22%3A%208.0%2C%20%22noWrap%22%3A%20false%2C%20%22opacity%22%3A%201%2C%20%22subdomains%22%3A%20%22abc%22%2C%20%22tms%22%3A%20false%7D%0A%20%20%20%20%20%20%20%20%20%20%20%20%29.addTo%28map_c239fe58d6db4565baaa547b4a3d333b%29%3B%0A%20%20%20%20%20%20%20%20%0A%20%20%20%20%0A%20%20%20%20%20%20%20%20%20%20%20%20var%20circle_marker_032ad2e7fe1f4e72af664d411ea13af3%20%3D%20L.circleMarker%28%0A%20%20%20%20%20%20%20%20%20%20%20%20%20%20%20%20%5B39.978310113983795%2C%20-75.1209857838639%5D%2C%0A%20%20%20%20%20%20%20%20%20%20%20%20%20%20%20%20%7B%22bubblingMouseEvents%22%3A%20true%2C%20%22color%22%3A%20%22%233388ff%22%2C%20%22dashArray%22%3A%20null%2C%20%22dashOffset%22%3A%20null%2C%20%22fill%22%3A%20true%2C%20%22fillColor%22%3A%20%22green%22%2C%20%22fillOpacity%22%3A%200.2%2C%20%22fillRule%22%3A%20%22evenodd%22%2C%20%22lineCap%22%3A%20%22round%22%2C%20%22lineJoin%22%3A%20%22round%22%2C%20%22opacity%22%3A%201.0%2C%20%22radius%22%3A%2010.0%2C%20%22stroke%22%3A%20true%2C%20%22weight%22%3A%203%7D%0A%20%20%20%20%20%20%20%20%20%20%20%20%29.addTo%28map_c239fe58d6db4565baaa547b4a3d333b%29%3B%0A%20%20%20%20%20%20%20%20%0A%20%20%20%20%0A%20%20%20%20%20%20%20%20var%20popup_100681b99ea14291a55b52b15efe3c52%20%3D%20L.popup%28%7B%22maxWidth%22%3A%20%22100%25%22%7D%29%3B%0A%0A%20%20%20%20%20%20%20%20%0A%20%20%20%20%20%20%20%20%20%20%20%20var%20html_26ea89e54b3a429496c91d854b0dbcc0%20%3D%20%24%28%60%3Cdiv%20id%3D%22html_26ea89e54b3a429496c91d854b0dbcc0%22%20style%3D%22width%3A%20100.0%25%3B%20height%3A%20100.0%25%3B%22%3EGreensgrow%20Farm%20Stand%3C/div%3E%60%29%5B0%5D%3B%0A%20%20%20%20%20%20%20%20%20%20%20%20popup_100681b99ea14291a55b52b15efe3c52.setContent%28html_26ea89e54b3a429496c91d854b0dbcc0%29%3B%0A%20%20%20%20%20%20%20%20%0A%0A%20%20%20%20%20%20%20%20circle_marker_032ad2e7fe1f4e72af664d411ea13af3.bindPopup%28popup_100681b99ea14291a55b52b15efe3c52%29%0A%20%20%20%20%20%20%20%20%3B%0A%0A%20%20%20%20%20%20%20%20%0A%20%20%20%20%0A%20%20%20%20%0A%20%20%20%20%20%20%20%20%20%20%20%20var%20circle_marker_46a9311ebfa24a6eb2f069ac21ed9090%20%3D%20L.circleMarker%28%0A%20%20%20%20%20%20%20%20%20%20%20%20%20%20%20%20%5B40.0349946696099%2C%20-75.167079074157%5D%2C%0A%20%20%20%20%20%20%20%20%20%20%20%20%20%20%20%20%7B%22bubblingMouseEvents%22%3A%20true%2C%20%22color%22%3A%20%22%233388ff%22%2C%20%22dashArray%22%3A%20null%2C%20%22dashOffset%22%3A%20null%2C%20%22fill%22%3A%20true%2C%20%22fillColor%22%3A%20%22green%22%2C%20%22fillOpacity%22%3A%200.2%2C%20%22fillRule%22%3A%20%22evenodd%22%2C%20%22lineCap%22%3A%20%22round%22%2C%20%22lineJoin%22%3A%20%22round%22%2C%20%22opacity%22%3A%201.0%2C%20%22radius%22%3A%2010.0%2C%20%22stroke%22%3A%20true%2C%20%22weight%22%3A%203%7D%0A%20%20%20%20%20%20%20%20%20%20%20%20%29.addTo%28map_c239fe58d6db4565baaa547b4a3d333b%29%3B%0A%20%20%20%20%20%20%20%20%0A%20%20%20%20%0A%20%20%20%20%20%20%20%20var%20popup_d21c51d2a729498f9d116f9de7c7de61%20%3D%20L.popup%28%7B%22maxWidth%22%3A%20%22100%25%22%7D%29%3B%0A%0A%20%20%20%20%20%20%20%20%0A%20%20%20%20%20%20%20%20%20%20%20%20var%20html_a3068501e5104d1b916a22eddcd9eb9e%20%3D%20%24%28%60%3Cdiv%20id%3D%22html_a3068501e5104d1b916a22eddcd9eb9e%22%20style%3D%22width%3A%20100.0%25%3B%20height%3A%20100.0%25%3B%22%3EGermantown%20Kitchen%20Garden%20Farm%20Stand%3C/div%3E%60%29%5B0%5D%3B%0A%20%20%20%20%20%20%20%20%20%20%20%20popup_d21c51d2a729498f9d116f9de7c7de61.setContent%28html_a3068501e5104d1b916a22eddcd9eb9e%29%3B%0A%20%20%20%20%20%20%20%20%0A%0A%20%20%20%20%20%20%20%20circle_marker_46a9311ebfa24a6eb2f069ac21ed9090.bindPopup%28popup_d21c51d2a729498f9d116f9de7c7de61%29%0A%20%20%20%20%20%20%20%20%3B%0A%0A%20%20%20%20%20%20%20%20%0A%20%20%20%20%0A%20%20%20%20%0A%20%20%20%20%20%20%20%20%20%20%20%20var%20circle_marker_eb934cddc76840d49a2d2f60831f73cc%20%3D%20L.circleMarker%28%0A%20%20%20%20%20%20%20%20%20%20%20%20%20%20%20%20%5B40.0079442858928%2C%20-75.19154763543321%5D%2C%0A%20%20%20%20%20%20%20%20%20%20%20%20%20%20%20%20%7B%22bubblingMouseEvents%22%3A%20true%2C%20%22color%22%3A%20%22%233388ff%22%2C%20%22dashArray%22%3A%20null%2C%20%22dashOffset%22%3A%20null%2C%20%22fill%22%3A%20true%2C%20%22fillColor%22%3A%20%22green%22%2C%20%22fillOpacity%22%3A%200.2%2C%20%22fillRule%22%3A%20%22evenodd%22%2C%20%22lineCap%22%3A%20%22round%22%2C%20%22lineJoin%22%3A%20%22round%22%2C%20%22opacity%22%3A%201.0%2C%20%22radius%22%3A%2010.0%2C%20%22stroke%22%3A%20true%2C%20%22weight%22%3A%203%7D%0A%20%20%20%20%20%20%20%20%20%20%20%20%29.addTo%28map_c239fe58d6db4565baaa547b4a3d333b%29%3B%0A%20%20%20%20%20%20%20%20%0A%20%20%20%20%0A%20%20%20%20%20%20%20%20var%20popup_e590387d704c42bf97a25fee7b8eb5e1%20%3D%20L.popup%28%7B%22maxWidth%22%3A%20%22100%25%22%7D%29%3B%0A%0A%20%20%20%20%20%20%20%20%0A%20%20%20%20%20%20%20%20%20%20%20%20var%20html_9873105ce20b40899ca317a25a3ce129%20%3D%20%24%28%60%3Cdiv%20id%3D%22html_9873105ce20b40899ca317a25a3ce129%22%20style%3D%22width%3A%20100.0%25%3B%20height%3A%20100.0%25%3B%22%3EEast%20Falls%20Farmers%27%20Market%3C/div%3E%60%29%5B0%5D%3B%0A%20%20%20%20%20%20%20%20%20%20%20%20popup_e590387d704c42bf97a25fee7b8eb5e1.setContent%28html_9873105ce20b40899ca317a25a3ce129%29%3B%0A%20%20%20%20%20%20%20%20%0A%0A%20%20%20%20%20%20%20%20circle_marker_eb934cddc76840d49a2d2f60831f73cc.bindPopup%28popup_e590387d704c42bf97a25fee7b8eb5e1%29%0A%20%20%20%20%20%20%20%20%3B%0A%0A%20%20%20%20%20%20%20%20%0A%20%20%20%20%0A%20%20%20%20%0A%20%20%20%20%20%20%20%20%20%20%20%20var%20circle_marker_301f8ca36a454389b61010b755673e53%20%3D%20L.circleMarker%28%0A%20%20%20%20%20%20%20%20%20%20%20%20%20%20%20%20%5B40.0324832599444%2C%20-75.16810306696429%5D%2C%0A%20%20%20%20%20%20%20%20%20%20%20%20%20%20%20%20%7B%22bubblingMouseEvents%22%3A%20true%2C%20%22color%22%3A%20%22%233388ff%22%2C%20%22dashArray%22%3A%20null%2C%20%22dashOffset%22%3A%20null%2C%20%22fill%22%3A%20true%2C%20%22fillColor%22%3A%20%22green%22%2C%20%22fillOpacity%22%3A%200.2%2C%20%22fillRule%22%3A%20%22evenodd%22%2C%20%22lineCap%22%3A%20%22round%22%2C%20%22lineJoin%22%3A%20%22round%22%2C%20%22opacity%22%3A%201.0%2C%20%22radius%22%3A%2010.0%2C%20%22stroke%22%3A%20true%2C%20%22weight%22%3A%203%7D%0A%20%20%20%20%20%20%20%20%20%20%20%20%29.addTo%28map_c239fe58d6db4565baaa547b4a3d333b%29%3B%0A%20%20%20%20%20%20%20%20%0A%20%20%20%20%0A%20%20%20%20%20%20%20%20var%20popup_1816c6e352204800a4e2b90c4c842cf8%20%3D%20L.popup%28%7B%22maxWidth%22%3A%20%22100%25%22%7D%29%3B%0A%0A%20%20%20%20%20%20%20%20%0A%20%20%20%20%20%20%20%20%20%20%20%20var%20html_c0bc954667a24c8e85e79b22062ecf46%20%3D%20%24%28%60%3Cdiv%20id%3D%22html_c0bc954667a24c8e85e79b22062ecf46%22%20style%3D%22width%3A%20100.0%25%3B%20height%3A%20100.0%25%3B%22%3EYouth%20Farmstand%20at%20Grumblethorpe%20House%3C/div%3E%60%29%5B0%5D%3B%0A%20%20%20%20%20%20%20%20%20%20%20%20popup_1816c6e352204800a4e2b90c4c842cf8.setContent%28html_c0bc954667a24c8e85e79b22062ecf46%29%3B%0A%20%20%20%20%20%20%20%20%0A%0A%20%20%20%20%20%20%20%20circle_marker_301f8ca36a454389b61010b755673e53.bindPopup%28popup_1816c6e352204800a4e2b90c4c842cf8%29%0A%20%20%20%20%20%20%20%20%3B%0A%0A%20%20%20%20%20%20%20%20%0A%20%20%20%20%0A%20%20%20%20%0A%20%20%20%20%20%20%20%20%20%20%20%20var%20circle_marker_b7304940a4b946139ceb9556defbc84b%20%3D%20L.circleMarker%28%0A%20%20%20%20%20%20%20%20%20%20%20%20%20%20%20%20%5B39.953104866413796%2C%20-75.13867708242941%5D%2C%0A%20%20%20%20%20%20%20%20%20%20%20%20%20%20%20%20%7B%22bubblingMouseEvents%22%3A%20true%2C%20%22color%22%3A%20%22%233388ff%22%2C%20%22dashArray%22%3A%20null%2C%20%22dashOffset%22%3A%20null%2C%20%22fill%22%3A%20true%2C%20%22fillColor%22%3A%20%22green%22%2C%20%22fillOpacity%22%3A%200.2%2C%20%22fillRule%22%3A%20%22evenodd%22%2C%20%22lineCap%22%3A%20%22round%22%2C%20%22lineJoin%22%3A%20%22round%22%2C%20%22opacity%22%3A%201.0%2C%20%22radius%22%3A%2010.0%2C%20%22stroke%22%3A%20true%2C%20%22weight%22%3A%203%7D%0A%20%20%20%20%20%20%20%20%20%20%20%20%29.addTo%28map_c239fe58d6db4565baaa547b4a3d333b%29%3B%0A%20%20%20%20%20%20%20%20%0A%20%20%20%20%0A%20%20%20%20%20%20%20%20var%20popup_7839fac3b7704abe97082c3abb506dfb%20%3D%20L.popup%28%7B%22maxWidth%22%3A%20%22100%25%22%7D%29%3B%0A%0A%20%20%20%20%20%20%20%20%0A%20%20%20%20%20%20%20%20%20%20%20%20var%20html_0e8799f70df3494592e8eb8ea4107647%20%3D%20%24%28%60%3Cdiv%20id%3D%22html_0e8799f70df3494592e8eb8ea4107647%22%20style%3D%22width%3A%20100.0%25%3B%20height%3A%20100.0%25%3B%22%3EThe%20Food%20Trust%27s%20Market%20at%20Cherry%20Street%20Pier%3C/div%3E%60%29%5B0%5D%3B%0A%20%20%20%20%20%20%20%20%20%20%20%20popup_7839fac3b7704abe97082c3abb506dfb.setContent%28html_0e8799f70df3494592e8eb8ea4107647%29%3B%0A%20%20%20%20%20%20%20%20%0A%0A%20%20%20%20%20%20%20%20circle_marker_b7304940a4b946139ceb9556defbc84b.bindPopup%28popup_7839fac3b7704abe97082c3abb506dfb%29%0A%20%20%20%20%20%20%20%20%3B%0A%0A%20%20%20%20%20%20%20%20%0A%20%20%20%20%0A%20%20%20%20%0A%20%20%20%20%20%20%20%20%20%20%20%20var%20circle_marker_a7877671acea4c6ab4f0412f2eae6fc0%20%3D%20L.circleMarker%28%0A%20%20%20%20%20%20%20%20%20%20%20%20%20%20%20%20%5B39.958313437891604%2C%20-75.21352545859291%5D%2C%0A%20%20%20%20%20%20%20%20%20%20%20%20%20%20%20%20%7B%22bubblingMouseEvents%22%3A%20true%2C%20%22color%22%3A%20%22%233388ff%22%2C%20%22dashArray%22%3A%20null%2C%20%22dashOffset%22%3A%20null%2C%20%22fill%22%3A%20true%2C%20%22fillColor%22%3A%20%22green%22%2C%20%22fillOpacity%22%3A%200.2%2C%20%22fillRule%22%3A%20%22evenodd%22%2C%20%22lineCap%22%3A%20%22round%22%2C%20%22lineJoin%22%3A%20%22round%22%2C%20%22opacity%22%3A%201.0%2C%20%22radius%22%3A%2010.0%2C%20%22stroke%22%3A%20true%2C%20%22weight%22%3A%203%7D%0A%20%20%20%20%20%20%20%20%20%20%20%20%29.addTo%28map_c239fe58d6db4565baaa547b4a3d333b%29%3B%0A%20%20%20%20%20%20%20%20%0A%20%20%20%20%0A%20%20%20%20%20%20%20%20var%20popup_436bfbd93c9b421d8b9747f8450c92a2%20%3D%20L.popup%28%7B%22maxWidth%22%3A%20%22100%25%22%7D%29%3B%0A%0A%20%20%20%20%20%20%20%20%0A%20%20%20%20%20%20%20%20%20%20%20%20var%20html_0d8d24be543d438ba0b3f208175a70b1%20%3D%20%24%28%60%3Cdiv%20id%3D%22html_0d8d24be543d438ba0b3f208175a70b1%22%20style%3D%22width%3A%20100.0%25%3B%20height%3A%20100.0%25%3B%22%3EWalnut%20Hill%20Farm%20Stand%3C/div%3E%60%29%5B0%5D%3B%0A%20%20%20%20%20%20%20%20%20%20%20%20popup_436bfbd93c9b421d8b9747f8450c92a2.setContent%28html_0d8d24be543d438ba0b3f208175a70b1%29%3B%0A%20%20%20%20%20%20%20%20%0A%0A%20%20%20%20%20%20%20%20circle_marker_a7877671acea4c6ab4f0412f2eae6fc0.bindPopup%28popup_436bfbd93c9b421d8b9747f8450c92a2%29%0A%20%20%20%20%20%20%20%20%3B%0A%0A%20%20%20%20%20%20%20%20%0A%20%20%20%20%0A%20%20%20%20%0A%20%20%20%20%20%20%20%20%20%20%20%20var%20circle_marker_1877ac2a6f9244fc94b604d92f694ee6%20%3D%20L.circleMarker%28%0A%20%20%20%20%20%20%20%20%20%20%20%20%20%20%20%20%5B39.966215170976604%2C%20-75.21995953036429%5D%2C%0A%20%20%20%20%20%20%20%20%20%20%20%20%20%20%20%20%7B%22bubblingMouseEvents%22%3A%20true%2C%20%22color%22%3A%20%22%233388ff%22%2C%20%22dashArray%22%3A%20null%2C%20%22dashOffset%22%3A%20null%2C%20%22fill%22%3A%20true%2C%20%22fillColor%22%3A%20%22green%22%2C%20%22fillOpacity%22%3A%200.2%2C%20%22fillRule%22%3A%20%22evenodd%22%2C%20%22lineCap%22%3A%20%22round%22%2C%20%22lineJoin%22%3A%20%22round%22%2C%20%22opacity%22%3A%201.0%2C%20%22radius%22%3A%2010.0%2C%20%22stroke%22%3A%20true%2C%20%22weight%22%3A%203%7D%0A%20%20%20%20%20%20%20%20%20%20%20%20%29.addTo%28map_c239fe58d6db4565baaa547b4a3d333b%29%3B%0A%20%20%20%20%20%20%20%20%0A%20%20%20%20%0A%20%20%20%20%20%20%20%20var%20popup_312566a0fd0d445bb038556ddcb08e95%20%3D%20L.popup%28%7B%22maxWidth%22%3A%20%22100%25%22%7D%29%3B%0A%0A%20%20%20%20%20%20%20%20%0A%20%20%20%20%20%20%20%20%20%20%20%20var%20html_dd42538e80d543d8ad850dcaa6858d18%20%3D%20%24%28%60%3Cdiv%20id%3D%22html_dd42538e80d543d8ad850dcaa6858d18%22%20style%3D%22width%3A%20100.0%25%3B%20height%3A%20100.0%25%3B%22%3EMill%20Creek%20Farm%20Farm%20Stand%3C/div%3E%60%29%5B0%5D%3B%0A%20%20%20%20%20%20%20%20%20%20%20%20popup_312566a0fd0d445bb038556ddcb08e95.setContent%28html_dd42538e80d543d8ad850dcaa6858d18%29%3B%0A%20%20%20%20%20%20%20%20%0A%0A%20%20%20%20%20%20%20%20circle_marker_1877ac2a6f9244fc94b604d92f694ee6.bindPopup%28popup_312566a0fd0d445bb038556ddcb08e95%29%0A%20%20%20%20%20%20%20%20%3B%0A%0A%20%20%20%20%20%20%20%20%0A%20%20%20%20%0A%20%20%20%20%0A%20%20%20%20%20%20%20%20%20%20%20%20var%20circle_marker_cd0cbf49d092459295faf86e47ebc799%20%3D%20L.circleMarker%28%0A%20%20%20%20%20%20%20%20%20%20%20%20%20%20%20%20%5B39.9818965432368%2C%20-75.13487242352299%5D%2C%0A%20%20%20%20%20%20%20%20%20%20%20%20%20%20%20%20%7B%22bubblingMouseEvents%22%3A%20true%2C%20%22color%22%3A%20%22%233388ff%22%2C%20%22dashArray%22%3A%20null%2C%20%22dashOffset%22%3A%20null%2C%20%22fill%22%3A%20true%2C%20%22fillColor%22%3A%20%22green%22%2C%20%22fillOpacity%22%3A%200.2%2C%20%22fillRule%22%3A%20%22evenodd%22%2C%20%22lineCap%22%3A%20%22round%22%2C%20%22lineJoin%22%3A%20%22round%22%2C%20%22opacity%22%3A%201.0%2C%20%22radius%22%3A%2010.0%2C%20%22stroke%22%3A%20true%2C%20%22weight%22%3A%203%7D%0A%20%20%20%20%20%20%20%20%20%20%20%20%29.addTo%28map_c239fe58d6db4565baaa547b4a3d333b%29%3B%0A%20%20%20%20%20%20%20%20%0A%20%20%20%20%0A%20%20%20%20%20%20%20%20var%20popup_1709e7fdca4d4c7a8723e98a23102e3e%20%3D%20L.popup%28%7B%22maxWidth%22%3A%20%22100%25%22%7D%29%3B%0A%0A%20%20%20%20%20%20%20%20%0A%20%20%20%20%20%20%20%20%20%20%20%20var%20html_6779bf94c4ea4c37b527b797e26e5af3%20%3D%20%24%28%60%3Cdiv%20id%3D%22html_6779bf94c4ea4c37b527b797e26e5af3%22%20style%3D%22width%3A%20100.0%25%3B%20height%3A%20100.0%25%3B%22%3ENorris%20Square%20Neighborhood%20Project%20Community%20Farm%20Stand%3C/div%3E%60%29%5B0%5D%3B%0A%20%20%20%20%20%20%20%20%20%20%20%20popup_1709e7fdca4d4c7a8723e98a23102e3e.setContent%28html_6779bf94c4ea4c37b527b797e26e5af3%29%3B%0A%20%20%20%20%20%20%20%20%0A%0A%20%20%20%20%20%20%20%20circle_marker_cd0cbf49d092459295faf86e47ebc799.bindPopup%28popup_1709e7fdca4d4c7a8723e98a23102e3e%29%0A%20%20%20%20%20%20%20%20%3B%0A%0A%20%20%20%20%20%20%20%20%0A%20%20%20%20%0A%20%20%20%20%0A%20%20%20%20%20%20%20%20%20%20%20%20var%20circle_marker_6e821648ccb74f12b0959026a48c7876%20%3D%20L.circleMarker%28%0A%20%20%20%20%20%20%20%20%20%20%20%20%20%20%20%20%5B39.9501409326424%2C%20-75.1706702802697%5D%2C%0A%20%20%20%20%20%20%20%20%20%20%20%20%20%20%20%20%7B%22bubblingMouseEvents%22%3A%20true%2C%20%22color%22%3A%20%22%233388ff%22%2C%20%22dashArray%22%3A%20null%2C%20%22dashOffset%22%3A%20null%2C%20%22fill%22%3A%20true%2C%20%22fillColor%22%3A%20%22green%22%2C%20%22fillOpacity%22%3A%200.2%2C%20%22fillRule%22%3A%20%22evenodd%22%2C%20%22lineCap%22%3A%20%22round%22%2C%20%22lineJoin%22%3A%20%22round%22%2C%20%22opacity%22%3A%201.0%2C%20%22radius%22%3A%2010.0%2C%20%22stroke%22%3A%20true%2C%20%22weight%22%3A%203%7D%0A%20%20%20%20%20%20%20%20%20%20%20%20%29.addTo%28map_c239fe58d6db4565baaa547b4a3d333b%29%3B%0A%20%20%20%20%20%20%20%20%0A%20%20%20%20%0A%20%20%20%20%20%20%20%20var%20popup_1e8ed8190b41406683ee3468805fda2d%20%3D%20L.popup%28%7B%22maxWidth%22%3A%20%22100%25%22%7D%29%3B%0A%0A%20%20%20%20%20%20%20%20%0A%20%20%20%20%20%20%20%20%20%20%20%20var%20html_09ee844a3c2a4221b462ea2c44621719%20%3D%20%24%28%60%3Cdiv%20id%3D%22html_09ee844a3c2a4221b462ea2c44621719%22%20style%3D%22width%3A%20100.0%25%3B%20height%3A%20100.0%25%3B%22%3ERittenhouse%20Farmers%27%20Market%3C/div%3E%60%29%5B0%5D%3B%0A%20%20%20%20%20%20%20%20%20%20%20%20popup_1e8ed8190b41406683ee3468805fda2d.setContent%28html_09ee844a3c2a4221b462ea2c44621719%29%3B%0A%20%20%20%20%20%20%20%20%0A%0A%20%20%20%20%20%20%20%20circle_marker_6e821648ccb74f12b0959026a48c7876.bindPopup%28popup_1e8ed8190b41406683ee3468805fda2d%29%0A%20%20%20%20%20%20%20%20%3B%0A%0A%20%20%20%20%20%20%20%20%0A%20%20%20%20%0A%20%20%20%20%0A%20%20%20%20%20%20%20%20%20%20%20%20var%20circle_marker_f342342fda3748dc9dd2edfa6ea936f3%20%3D%20L.circleMarker%28%0A%20%20%20%20%20%20%20%20%20%20%20%20%20%20%20%20%5B39.967323225718395%2C%20-75.1739859733517%5D%2C%0A%20%20%20%20%20%20%20%20%20%20%20%20%20%20%20%20%7B%22bubblingMouseEvents%22%3A%20true%2C%20%22color%22%3A%20%22%233388ff%22%2C%20%22dashArray%22%3A%20null%2C%20%22dashOffset%22%3A%20null%2C%20%22fill%22%3A%20true%2C%20%22fillColor%22%3A%20%22green%22%2C%20%22fillOpacity%22%3A%200.2%2C%20%22fillRule%22%3A%20%22evenodd%22%2C%20%22lineCap%22%3A%20%22round%22%2C%20%22lineJoin%22%3A%20%22round%22%2C%20%22opacity%22%3A%201.0%2C%20%22radius%22%3A%2010.0%2C%20%22stroke%22%3A%20true%2C%20%22weight%22%3A%203%7D%0A%20%20%20%20%20%20%20%20%20%20%20%20%29.addTo%28map_c239fe58d6db4565baaa547b4a3d333b%29%3B%0A%20%20%20%20%20%20%20%20%0A%20%20%20%20%0A%20%20%20%20%20%20%20%20var%20popup_158c7e836b4740a8b95eeffec1355d3a%20%3D%20L.popup%28%7B%22maxWidth%22%3A%20%22100%25%22%7D%29%3B%0A%0A%20%20%20%20%20%20%20%20%0A%20%20%20%20%20%20%20%20%20%20%20%20var%20html_0709e5ec5159419daf9a7e5d7cbe95d4%20%3D%20%24%28%60%3Cdiv%20id%3D%22html_0709e5ec5159419daf9a7e5d7cbe95d4%22%20style%3D%22width%3A%20100.0%25%3B%20height%3A%20100.0%25%3B%22%3EFairmount%20Farmers%27%20Market%3C/div%3E%60%29%5B0%5D%3B%0A%20%20%20%20%20%20%20%20%20%20%20%20popup_158c7e836b4740a8b95eeffec1355d3a.setContent%28html_0709e5ec5159419daf9a7e5d7cbe95d4%29%3B%0A%20%20%20%20%20%20%20%20%0A%0A%20%20%20%20%20%20%20%20circle_marker_f342342fda3748dc9dd2edfa6ea936f3.bindPopup%28popup_158c7e836b4740a8b95eeffec1355d3a%29%0A%20%20%20%20%20%20%20%20%3B%0A%0A%20%20%20%20%20%20%20%20%0A%20%20%20%20%0A%20%20%20%20%0A%20%20%20%20%20%20%20%20%20%20%20%20var%20circle_marker_3c62881312b84435a9dd1ee81ae182ee%20%3D%20L.circleMarker%28%0A%20%20%20%20%20%20%20%20%20%20%20%20%20%20%20%20%5B39.9500159958506%2C%20-75.15706422067709%5D%2C%0A%20%20%20%20%20%20%20%20%20%20%20%20%20%20%20%20%7B%22bubblingMouseEvents%22%3A%20true%2C%20%22color%22%3A%20%22%233388ff%22%2C%20%22dashArray%22%3A%20null%2C%20%22dashOffset%22%3A%20null%2C%20%22fill%22%3A%20true%2C%20%22fillColor%22%3A%20%22green%22%2C%20%22fillOpacity%22%3A%200.2%2C%20%22fillRule%22%3A%20%22evenodd%22%2C%20%22lineCap%22%3A%20%22round%22%2C%20%22lineJoin%22%3A%20%22round%22%2C%20%22opacity%22%3A%201.0%2C%20%22radius%22%3A%2010.0%2C%20%22stroke%22%3A%20true%2C%20%22weight%22%3A%203%7D%0A%20%20%20%20%20%20%20%20%20%20%20%20%29.addTo%28map_c239fe58d6db4565baaa547b4a3d333b%29%3B%0A%20%20%20%20%20%20%20%20%0A%20%20%20%20%0A%20%20%20%20%20%20%20%20var%20popup_c8bd545284674dd4aa65f280ff62f1a1%20%3D%20L.popup%28%7B%22maxWidth%22%3A%20%22100%25%22%7D%29%3B%0A%0A%20%20%20%20%20%20%20%20%0A%20%20%20%20%20%20%20%20%20%20%20%20var%20html_0eac2f8767084a7bacdcfcbb7eb5b4ca%20%3D%20%24%28%60%3Cdiv%20id%3D%22html_0eac2f8767084a7bacdcfcbb7eb5b4ca%22%20style%3D%22width%3A%20100.0%25%3B%20height%3A%20100.0%25%3B%22%3EJefferson%20Farmers%27%20Market%3C/div%3E%60%29%5B0%5D%3B%0A%20%20%20%20%20%20%20%20%20%20%20%20popup_c8bd545284674dd4aa65f280ff62f1a1.setContent%28html_0eac2f8767084a7bacdcfcbb7eb5b4ca%29%3B%0A%20%20%20%20%20%20%20%20%0A%0A%20%20%20%20%20%20%20%20circle_marker_3c62881312b84435a9dd1ee81ae182ee.bindPopup%28popup_c8bd545284674dd4aa65f280ff62f1a1%29%0A%20%20%20%20%20%20%20%20%3B%0A%0A%20%20%20%20%20%20%20%20%0A%20%20%20%20%0A%20%20%20%20%0A%20%20%20%20%20%20%20%20%20%20%20%20var%20circle_marker_9a4c9e1ae9124deda3ef87d92cb97832%20%3D%20L.circleMarker%28%0A%20%20%20%20%20%20%20%20%20%20%20%20%20%20%20%20%5B39.9421693880093%2C%20-75.1454519812647%5D%2C%0A%20%20%20%20%20%20%20%20%20%20%20%20%20%20%20%20%7B%22bubblingMouseEvents%22%3A%20true%2C%20%22color%22%3A%20%22%233388ff%22%2C%20%22dashArray%22%3A%20null%2C%20%22dashOffset%22%3A%20null%2C%20%22fill%22%3A%20true%2C%20%22fillColor%22%3A%20%22green%22%2C%20%22fillOpacity%22%3A%200.2%2C%20%22fillRule%22%3A%20%22evenodd%22%2C%20%22lineCap%22%3A%20%22round%22%2C%20%22lineJoin%22%3A%20%22round%22%2C%20%22opacity%22%3A%201.0%2C%20%22radius%22%3A%2010.0%2C%20%22stroke%22%3A%20true%2C%20%22weight%22%3A%203%7D%0A%20%20%20%20%20%20%20%20%20%20%20%20%29.addTo%28map_c239fe58d6db4565baaa547b4a3d333b%29%3B%0A%20%20%20%20%20%20%20%20%0A%20%20%20%20%0A%20%20%20%20%20%20%20%20var%20popup_73ee90e615ad4c3193c3f7d2d2db4dd4%20%3D%20L.popup%28%7B%22maxWidth%22%3A%20%22100%25%22%7D%29%3B%0A%0A%20%20%20%20%20%20%20%20%0A%20%20%20%20%20%20%20%20%20%20%20%20var%20html_99f54fbec4cc448a8215669523b1f703%20%3D%20%24%28%60%3Cdiv%20id%3D%22html_99f54fbec4cc448a8215669523b1f703%22%20style%3D%22width%3A%20100.0%25%3B%20height%3A%20100.0%25%3B%22%3EHeadhouse%20Farmers%27%20Market%3C/div%3E%60%29%5B0%5D%3B%0A%20%20%20%20%20%20%20%20%20%20%20%20popup_73ee90e615ad4c3193c3f7d2d2db4dd4.setContent%28html_99f54fbec4cc448a8215669523b1f703%29%3B%0A%20%20%20%20%20%20%20%20%0A%0A%20%20%20%20%20%20%20%20circle_marker_9a4c9e1ae9124deda3ef87d92cb97832.bindPopup%28popup_73ee90e615ad4c3193c3f7d2d2db4dd4%29%0A%20%20%20%20%20%20%20%20%3B%0A%0A%20%20%20%20%20%20%20%20%0A%20%20%20%20%0A%20%20%20%20%0A%20%20%20%20%20%20%20%20%20%20%20%20var%20circle_marker_ed6cad4efe46414e970c76cc3816f840%20%3D%20L.circleMarker%28%0A%20%20%20%20%20%20%20%20%20%20%20%20%20%20%20%20%5B39.950661308270796%2C%20-75.1443651066827%5D%2C%0A%20%20%20%20%20%20%20%20%20%20%20%20%20%20%20%20%7B%22bubblingMouseEvents%22%3A%20true%2C%20%22color%22%3A%20%22%233388ff%22%2C%20%22dashArray%22%3A%20null%2C%20%22dashOffset%22%3A%20null%2C%20%22fill%22%3A%20true%2C%20%22fillColor%22%3A%20%22green%22%2C%20%22fillOpacity%22%3A%200.2%2C%20%22fillRule%22%3A%20%22evenodd%22%2C%20%22lineCap%22%3A%20%22round%22%2C%20%22lineJoin%22%3A%20%22round%22%2C%20%22opacity%22%3A%201.0%2C%20%22radius%22%3A%2010.0%2C%20%22stroke%22%3A%20true%2C%20%22weight%22%3A%203%7D%0A%20%20%20%20%20%20%20%20%20%20%20%20%29.addTo%28map_c239fe58d6db4565baaa547b4a3d333b%29%3B%0A%20%20%20%20%20%20%20%20%0A%20%20%20%20%0A%20%20%20%20%20%20%20%20var%20popup_4064a0ab2f244b0a9fe0b9382d0166e6%20%3D%20L.popup%28%7B%22maxWidth%22%3A%20%22100%25%22%7D%29%3B%0A%0A%20%20%20%20%20%20%20%20%0A%20%20%20%20%20%20%20%20%20%20%20%20var%20html_56c3b34ae548491b9289cb3e1b303aa3%20%3D%20%24%28%60%3Cdiv%20id%3D%22html_56c3b34ae548491b9289cb3e1b303aa3%22%20style%3D%22width%3A%20100.0%25%3B%20height%3A%20100.0%25%3B%22%3EFarmers%20Market%20at%20Christ%20Church%20%3C/div%3E%60%29%5B0%5D%3B%0A%20%20%20%20%20%20%20%20%20%20%20%20popup_4064a0ab2f244b0a9fe0b9382d0166e6.setContent%28html_56c3b34ae548491b9289cb3e1b303aa3%29%3B%0A%20%20%20%20%20%20%20%20%0A%0A%20%20%20%20%20%20%20%20circle_marker_ed6cad4efe46414e970c76cc3816f840.bindPopup%28popup_4064a0ab2f244b0a9fe0b9382d0166e6%29%0A%20%20%20%20%20%20%20%20%3B%0A%0A%20%20%20%20%20%20%20%20%0A%20%20%20%20%0A%20%20%20%20%0A%20%20%20%20%20%20%20%20%20%20%20%20var%20circle_marker_56200e2c019e4f49bbc03e07f478ceca%20%3D%20L.circleMarker%28%0A%20%20%20%20%20%20%20%20%20%20%20%20%20%20%20%20%5B39.9473405553032%2C%20-75.17932423670521%5D%2C%0A%20%20%20%20%20%20%20%20%20%20%20%20%20%20%20%20%7B%22bubblingMouseEvents%22%3A%20true%2C%20%22color%22%3A%20%22%233388ff%22%2C%20%22dashArray%22%3A%20null%2C%20%22dashOffset%22%3A%20null%2C%20%22fill%22%3A%20true%2C%20%22fillColor%22%3A%20%22green%22%2C%20%22fillOpacity%22%3A%200.2%2C%20%22fillRule%22%3A%20%22evenodd%22%2C%20%22lineCap%22%3A%20%22round%22%2C%20%22lineJoin%22%3A%20%22round%22%2C%20%22opacity%22%3A%201.0%2C%20%22radius%22%3A%2010.0%2C%20%22stroke%22%3A%20true%2C%20%22weight%22%3A%203%7D%0A%20%20%20%20%20%20%20%20%20%20%20%20%29.addTo%28map_c239fe58d6db4565baaa547b4a3d333b%29%3B%0A%20%20%20%20%20%20%20%20%0A%20%20%20%20%0A%20%20%20%20%20%20%20%20var%20popup_007072fdb82d4ef795d9a7547cc5029f%20%3D%20L.popup%28%7B%22maxWidth%22%3A%20%22100%25%22%7D%29%3B%0A%0A%20%20%20%20%20%20%20%20%0A%20%20%20%20%20%20%20%20%20%20%20%20var%20html_4662a282e3b74c758c0302cc92164c77%20%3D%20%24%28%60%3Cdiv%20id%3D%22html_4662a282e3b74c758c0302cc92164c77%22%20style%3D%22width%3A%20100.0%25%3B%20height%3A%20100.0%25%3B%22%3EFitler%20Square%20Farmers%27%20Market%3C/div%3E%60%29%5B0%5D%3B%0A%20%20%20%20%20%20%20%20%20%20%20%20popup_007072fdb82d4ef795d9a7547cc5029f.setContent%28html_4662a282e3b74c758c0302cc92164c77%29%3B%0A%20%20%20%20%20%20%20%20%0A%0A%20%20%20%20%20%20%20%20circle_marker_56200e2c019e4f49bbc03e07f478ceca.bindPopup%28popup_007072fdb82d4ef795d9a7547cc5029f%29%0A%20%20%20%20%20%20%20%20%3B%0A%0A%20%20%20%20%20%20%20%20%0A%20%20%20%20%0A%20%20%20%20%0A%20%20%20%20%20%20%20%20%20%20%20%20var%20circle_marker_c5c3c736f44e40a0b4ccfd1e02783f10%20%3D%20L.circleMarker%28%0A%20%20%20%20%20%20%20%20%20%20%20%20%20%20%20%20%5B40.067771227234005%2C%20-75.19693767006929%5D%2C%0A%20%20%20%20%20%20%20%20%20%20%20%20%20%20%20%20%7B%22bubblingMouseEvents%22%3A%20true%2C%20%22color%22%3A%20%22%233388ff%22%2C%20%22dashArray%22%3A%20null%2C%20%22dashOffset%22%3A%20null%2C%20%22fill%22%3A%20true%2C%20%22fillColor%22%3A%20%22green%22%2C%20%22fillOpacity%22%3A%200.2%2C%20%22fillRule%22%3A%20%22evenodd%22%2C%20%22lineCap%22%3A%20%22round%22%2C%20%22lineJoin%22%3A%20%22round%22%2C%20%22opacity%22%3A%201.0%2C%20%22radius%22%3A%2010.0%2C%20%22stroke%22%3A%20true%2C%20%22weight%22%3A%203%7D%0A%20%20%20%20%20%20%20%20%20%20%20%20%29.addTo%28map_c239fe58d6db4565baaa547b4a3d333b%29%3B%0A%20%20%20%20%20%20%20%20%0A%20%20%20%20%0A%20%20%20%20%20%20%20%20var%20popup_c1da041afac1478bb8069f2e9477f2e5%20%3D%20L.popup%28%7B%22maxWidth%22%3A%20%22100%25%22%7D%29%3B%0A%0A%20%20%20%20%20%20%20%20%0A%20%20%20%20%20%20%20%20%20%20%20%20var%20html_c482dbcb32cb4dc1a39a0c48e6cfa86c%20%3D%20%24%28%60%3Cdiv%20id%3D%22html_c482dbcb32cb4dc1a39a0c48e6cfa86c%22%20style%3D%22width%3A%20100.0%25%3B%20height%3A%20100.0%25%3B%22%3EChestnut%20Hill%20Farmers%27%20Market%3C/div%3E%60%29%5B0%5D%3B%0A%20%20%20%20%20%20%20%20%20%20%20%20popup_c1da041afac1478bb8069f2e9477f2e5.setContent%28html_c482dbcb32cb4dc1a39a0c48e6cfa86c%29%3B%0A%20%20%20%20%20%20%20%20%0A%0A%20%20%20%20%20%20%20%20circle_marker_c5c3c736f44e40a0b4ccfd1e02783f10.bindPopup%28popup_c1da041afac1478bb8069f2e9477f2e5%29%0A%20%20%20%20%20%20%20%20%3B%0A%0A%20%20%20%20%20%20%20%20%0A%20%20%20%20%0A%20%20%20%20%0A%20%20%20%20%20%20%20%20%20%20%20%20var%20circle_marker_2937274e4b58433d956c9fa67ba60c2f%20%3D%20L.circleMarker%28%0A%20%20%20%20%20%20%20%20%20%20%20%20%20%20%20%20%5B40.034013563413%2C%20-75.172070780572%5D%2C%0A%20%20%20%20%20%20%20%20%20%20%20%20%20%20%20%20%7B%22bubblingMouseEvents%22%3A%20true%2C%20%22color%22%3A%20%22%233388ff%22%2C%20%22dashArray%22%3A%20null%2C%20%22dashOffset%22%3A%20null%2C%20%22fill%22%3A%20true%2C%20%22fillColor%22%3A%20%22green%22%2C%20%22fillOpacity%22%3A%200.2%2C%20%22fillRule%22%3A%20%22evenodd%22%2C%20%22lineCap%22%3A%20%22round%22%2C%20%22lineJoin%22%3A%20%22round%22%2C%20%22opacity%22%3A%201.0%2C%20%22radius%22%3A%2010.0%2C%20%22stroke%22%3A%20true%2C%20%22weight%22%3A%203%7D%0A%20%20%20%20%20%20%20%20%20%20%20%20%29.addTo%28map_c239fe58d6db4565baaa547b4a3d333b%29%3B%0A%20%20%20%20%20%20%20%20%0A%20%20%20%20%0A%20%20%20%20%20%20%20%20var%20popup_edc645f99da34a809634d029382e698b%20%3D%20L.popup%28%7B%22maxWidth%22%3A%20%22100%25%22%7D%29%3B%0A%0A%20%20%20%20%20%20%20%20%0A%20%20%20%20%20%20%20%20%20%20%20%20var%20html_42b814cca4944883a23892f9026c0c09%20%3D%20%24%28%60%3Cdiv%20id%3D%22html_42b814cca4944883a23892f9026c0c09%22%20style%3D%22width%3A%20100.0%25%3B%20height%3A%20100.0%25%3B%22%3EGermantown%20Farmers%27%20Market%3C/div%3E%60%29%5B0%5D%3B%0A%20%20%20%20%20%20%20%20%20%20%20%20popup_edc645f99da34a809634d029382e698b.setContent%28html_42b814cca4944883a23892f9026c0c09%29%3B%0A%20%20%20%20%20%20%20%20%0A%0A%20%20%20%20%20%20%20%20circle_marker_2937274e4b58433d956c9fa67ba60c2f.bindPopup%28popup_edc645f99da34a809634d029382e698b%29%0A%20%20%20%20%20%20%20%20%3B%0A%0A%20%20%20%20%20%20%20%20%0A%20%20%20%20%0A%20%20%20%20%0A%20%20%20%20%20%20%20%20%20%20%20%20var%20circle_marker_9e4257d83b014af3a5ca9cd6e3cc2d1c%20%3D%20L.circleMarker%28%0A%20%20%20%20%20%20%20%20%20%20%20%20%20%20%20%20%5B39.9785860518014%2C%20-75.1568714990861%5D%2C%0A%20%20%20%20%20%20%20%20%20%20%20%20%20%20%20%20%7B%22bubblingMouseEvents%22%3A%20true%2C%20%22color%22%3A%20%22%233388ff%22%2C%20%22dashArray%22%3A%20null%2C%20%22dashOffset%22%3A%20null%2C%20%22fill%22%3A%20true%2C%20%22fillColor%22%3A%20%22green%22%2C%20%22fillOpacity%22%3A%200.2%2C%20%22fillRule%22%3A%20%22evenodd%22%2C%20%22lineCap%22%3A%20%22round%22%2C%20%22lineJoin%22%3A%20%22round%22%2C%20%22opacity%22%3A%201.0%2C%20%22radius%22%3A%2010.0%2C%20%22stroke%22%3A%20true%2C%20%22weight%22%3A%203%7D%0A%20%20%20%20%20%20%20%20%20%20%20%20%29.addTo%28map_c239fe58d6db4565baaa547b4a3d333b%29%3B%0A%20%20%20%20%20%20%20%20%0A%20%20%20%20%0A%20%20%20%20%20%20%20%20var%20popup_1f2d3d8ff778461d988401f9a66ac0ea%20%3D%20L.popup%28%7B%22maxWidth%22%3A%20%22100%25%22%7D%29%3B%0A%0A%20%20%20%20%20%20%20%20%0A%20%20%20%20%20%20%20%20%20%20%20%20var%20html_b41b272577654e8281e7845382cc7839%20%3D%20%24%28%60%3Cdiv%20id%3D%22html_b41b272577654e8281e7845382cc7839%22%20style%3D%22width%3A%20100.0%25%3B%20height%3A%20100.0%25%3B%22%3ECecil%20B.%20Moore%20Farmers%27%20Market%3C/div%3E%60%29%5B0%5D%3B%0A%20%20%20%20%20%20%20%20%20%20%20%20popup_1f2d3d8ff778461d988401f9a66ac0ea.setContent%28html_b41b272577654e8281e7845382cc7839%29%3B%0A%20%20%20%20%20%20%20%20%0A%0A%20%20%20%20%20%20%20%20circle_marker_9e4257d83b014af3a5ca9cd6e3cc2d1c.bindPopup%28popup_1f2d3d8ff778461d988401f9a66ac0ea%29%0A%20%20%20%20%20%20%20%20%3B%0A%0A%20%20%20%20%20%20%20%20%0A%20%20%20%20%0A%20%20%20%20%0A%20%20%20%20%20%20%20%20%20%20%20%20var%20circle_marker_8bc8fcf9c6114fe8ac4054bf1cada0dd%20%3D%20L.circleMarker%28%0A%20%20%20%20%20%20%20%20%20%20%20%20%20%20%20%20%5B40.038056000188206%2C%20-75.1437604274493%5D%2C%0A%20%20%20%20%20%20%20%20%20%20%20%20%20%20%20%20%7B%22bubblingMouseEvents%22%3A%20true%2C%20%22color%22%3A%20%22%233388ff%22%2C%20%22dashArray%22%3A%20null%2C%20%22dashOffset%22%3A%20null%2C%20%22fill%22%3A%20true%2C%20%22fillColor%22%3A%20%22green%22%2C%20%22fillOpacity%22%3A%200.2%2C%20%22fillRule%22%3A%20%22evenodd%22%2C%20%22lineCap%22%3A%20%22round%22%2C%20%22lineJoin%22%3A%20%22round%22%2C%20%22opacity%22%3A%201.0%2C%20%22radius%22%3A%2010.0%2C%20%22stroke%22%3A%20true%2C%20%22weight%22%3A%203%7D%0A%20%20%20%20%20%20%20%20%20%20%20%20%29.addTo%28map_c239fe58d6db4565baaa547b4a3d333b%29%3B%0A%20%20%20%20%20%20%20%20%0A%20%20%20%20%0A%20%20%20%20%20%20%20%20var%20popup_776eb5a7bc5f4278879e80b46329dcce%20%3D%20L.popup%28%7B%22maxWidth%22%3A%20%22100%25%22%7D%29%3B%0A%0A%20%20%20%20%20%20%20%20%0A%20%20%20%20%20%20%20%20%20%20%20%20var%20html_bbfd45e2b7cc40fe9d3944595e4a8671%20%3D%20%24%28%60%3Cdiv%20id%3D%22html_bbfd45e2b7cc40fe9d3944595e4a8671%22%20style%3D%22width%3A%20100.0%25%3B%20height%3A%20100.0%25%3B%22%3EPark%20%26%20Tabor%20Farmers%27%20Market%3C/div%3E%60%29%5B0%5D%3B%0A%20%20%20%20%20%20%20%20%20%20%20%20popup_776eb5a7bc5f4278879e80b46329dcce.setContent%28html_bbfd45e2b7cc40fe9d3944595e4a8671%29%3B%0A%20%20%20%20%20%20%20%20%0A%0A%20%20%20%20%20%20%20%20circle_marker_8bc8fcf9c6114fe8ac4054bf1cada0dd.bindPopup%28popup_776eb5a7bc5f4278879e80b46329dcce%29%0A%20%20%20%20%20%20%20%20%3B%0A%0A%20%20%20%20%20%20%20%20%0A%20%20%20%20%0A%20%20%20%20%0A%20%20%20%20%20%20%20%20%20%20%20%20var%20circle_marker_34b9e396e4114bd8bea89820c5d5223c%20%3D%20L.circleMarker%28%0A%20%20%20%20%20%20%20%20%20%20%20%20%20%20%20%20%5B40.0166186895481%2C%20-75.1471857569694%5D%2C%0A%20%20%20%20%20%20%20%20%20%20%20%20%20%20%20%20%7B%22bubblingMouseEvents%22%3A%20true%2C%20%22color%22%3A%20%22%233388ff%22%2C%20%22dashArray%22%3A%20null%2C%20%22dashOffset%22%3A%20null%2C%20%22fill%22%3A%20true%2C%20%22fillColor%22%3A%20%22green%22%2C%20%22fillOpacity%22%3A%200.2%2C%20%22fillRule%22%3A%20%22evenodd%22%2C%20%22lineCap%22%3A%20%22round%22%2C%20%22lineJoin%22%3A%20%22round%22%2C%20%22opacity%22%3A%201.0%2C%20%22radius%22%3A%2010.0%2C%20%22stroke%22%3A%20true%2C%20%22weight%22%3A%203%7D%0A%20%20%20%20%20%20%20%20%20%20%20%20%29.addTo%28map_c239fe58d6db4565baaa547b4a3d333b%29%3B%0A%20%20%20%20%20%20%20%20%0A%20%20%20%20%0A%20%20%20%20%20%20%20%20var%20popup_53244336393f4b6f920951283be914e9%20%3D%20L.popup%28%7B%22maxWidth%22%3A%20%22100%25%22%7D%29%3B%0A%0A%20%20%20%20%20%20%20%20%0A%20%20%20%20%20%20%20%20%20%20%20%20var%20html_428b232e371948319d5aa89bc2ba9a38%20%3D%20%24%28%60%3Cdiv%20id%3D%22html_428b232e371948319d5aa89bc2ba9a38%22%20style%3D%22width%3A%20100.0%25%3B%20height%3A%20100.0%25%3B%22%3EHunting%20Park%20Farmers%27%20Market%3C/div%3E%60%29%5B0%5D%3B%0A%20%20%20%20%20%20%20%20%20%20%20%20popup_53244336393f4b6f920951283be914e9.setContent%28html_428b232e371948319d5aa89bc2ba9a38%29%3B%0A%20%20%20%20%20%20%20%20%0A%0A%20%20%20%20%20%20%20%20circle_marker_34b9e396e4114bd8bea89820c5d5223c.bindPopup%28popup_53244336393f4b6f920951283be914e9%29%0A%20%20%20%20%20%20%20%20%3B%0A%0A%20%20%20%20%20%20%20%20%0A%20%20%20%20%0A%20%20%20%20%0A%20%20%20%20%20%20%20%20%20%20%20%20var%20circle_marker_8d0d0564750844dd930d7c537a3124c7%20%3D%20L.circleMarker%28%0A%20%20%20%20%20%20%20%20%20%20%20%20%20%20%20%20%5B39.991923582408%2C%20-75.18613203249521%5D%2C%0A%20%20%20%20%20%20%20%20%20%20%20%20%20%20%20%20%7B%22bubblingMouseEvents%22%3A%20true%2C%20%22color%22%3A%20%22%233388ff%22%2C%20%22dashArray%22%3A%20null%2C%20%22dashOffset%22%3A%20null%2C%20%22fill%22%3A%20true%2C%20%22fillColor%22%3A%20%22green%22%2C%20%22fillOpacity%22%3A%200.2%2C%20%22fillRule%22%3A%20%22evenodd%22%2C%20%22lineCap%22%3A%20%22round%22%2C%20%22lineJoin%22%3A%20%22round%22%2C%20%22opacity%22%3A%201.0%2C%20%22radius%22%3A%2010.0%2C%20%22stroke%22%3A%20true%2C%20%22weight%22%3A%203%7D%0A%20%20%20%20%20%20%20%20%20%20%20%20%29.addTo%28map_c239fe58d6db4565baaa547b4a3d333b%29%3B%0A%20%20%20%20%20%20%20%20%0A%20%20%20%20%0A%20%20%20%20%20%20%20%20var%20popup_fdbd24a506e448a48e5745fdf3df2091%20%3D%20L.popup%28%7B%22maxWidth%22%3A%20%22100%25%22%7D%29%3B%0A%0A%20%20%20%20%20%20%20%20%0A%20%20%20%20%20%20%20%20%20%20%20%20var%20html_1dc45f3085e64684b1ebe2bd9f48b61c%20%3D%20%24%28%60%3Cdiv%20id%3D%22html_1dc45f3085e64684b1ebe2bd9f48b61c%22%20style%3D%22width%3A%20100.0%25%3B%20height%3A%20100.0%25%3B%22%3E33rd%20%26%20Dauphin%20Farmers%27%20Market%3C/div%3E%60%29%5B0%5D%3B%0A%20%20%20%20%20%20%20%20%20%20%20%20popup_fdbd24a506e448a48e5745fdf3df2091.setContent%28html_1dc45f3085e64684b1ebe2bd9f48b61c%29%3B%0A%20%20%20%20%20%20%20%20%0A%0A%20%20%20%20%20%20%20%20circle_marker_8d0d0564750844dd930d7c537a3124c7.bindPopup%28popup_fdbd24a506e448a48e5745fdf3df2091%29%0A%20%20%20%20%20%20%20%20%3B%0A%0A%20%20%20%20%20%20%20%20%0A%20%20%20%20%0A%20%20%20%20%0A%20%20%20%20%20%20%20%20%20%20%20%20var%20circle_marker_b21ca33f70e5411f99fd62c607070b5f%20%3D%20L.circleMarker%28%0A%20%20%20%20%20%20%20%20%20%20%20%20%20%20%20%20%5B39.991860933546704%2C%20-75.1383539388355%5D%2C%0A%20%20%20%20%20%20%20%20%20%20%20%20%20%20%20%20%7B%22bubblingMouseEvents%22%3A%20true%2C%20%22color%22%3A%20%22%233388ff%22%2C%20%22dashArray%22%3A%20null%2C%20%22dashOffset%22%3A%20null%2C%20%22fill%22%3A%20true%2C%20%22fillColor%22%3A%20%22green%22%2C%20%22fillOpacity%22%3A%200.2%2C%20%22fillRule%22%3A%20%22evenodd%22%2C%20%22lineCap%22%3A%20%22round%22%2C%20%22lineJoin%22%3A%20%22round%22%2C%20%22opacity%22%3A%201.0%2C%20%22radius%22%3A%2010.0%2C%20%22stroke%22%3A%20true%2C%20%22weight%22%3A%203%7D%0A%20%20%20%20%20%20%20%20%20%20%20%20%29.addTo%28map_c239fe58d6db4565baaa547b4a3d333b%29%3B%0A%20%20%20%20%20%20%20%20%0A%20%20%20%20%0A%20%20%20%20%20%20%20%20var%20popup_9989fc09823a41e7a8e302eb75e97828%20%3D%20L.popup%28%7B%22maxWidth%22%3A%20%22100%25%22%7D%29%3B%0A%0A%20%20%20%20%20%20%20%20%0A%20%20%20%20%20%20%20%20%20%20%20%20var%20html_a65baf1590954922a29b9ea64d84093b%20%3D%20%24%28%60%3Cdiv%20id%3D%22html_a65baf1590954922a29b9ea64d84093b%22%20style%3D%22width%3A%20100.0%25%3B%20height%3A%20100.0%25%3B%22%3E4th%20%26%20Lehigh%20Farmers%27%20Market%3C/div%3E%60%29%5B0%5D%3B%0A%20%20%20%20%20%20%20%20%20%20%20%20popup_9989fc09823a41e7a8e302eb75e97828.setContent%28html_a65baf1590954922a29b9ea64d84093b%29%3B%0A%20%20%20%20%20%20%20%20%0A%0A%20%20%20%20%20%20%20%20circle_marker_b21ca33f70e5411f99fd62c607070b5f.bindPopup%28popup_9989fc09823a41e7a8e302eb75e97828%29%0A%20%20%20%20%20%20%20%20%3B%0A%0A%20%20%20%20%20%20%20%20%0A%20%20%20%20%0A%20%20%20%20%0A%20%20%20%20%20%20%20%20%20%20%20%20var%20circle_marker_6beddcc287f94dbb9973aedd3dc291e4%20%3D%20L.circleMarker%28%0A%20%20%20%20%20%20%20%20%20%20%20%20%20%20%20%20%5B40.004093305001895%2C%20-75.172278026018%5D%2C%0A%20%20%20%20%20%20%20%20%20%20%20%20%20%20%20%20%7B%22bubblingMouseEvents%22%3A%20true%2C%20%22color%22%3A%20%22%233388ff%22%2C%20%22dashArray%22%3A%20null%2C%20%22dashOffset%22%3A%20null%2C%20%22fill%22%3A%20true%2C%20%22fillColor%22%3A%20%22green%22%2C%20%22fillOpacity%22%3A%200.2%2C%20%22fillRule%22%3A%20%22evenodd%22%2C%20%22lineCap%22%3A%20%22round%22%2C%20%22lineJoin%22%3A%20%22round%22%2C%20%22opacity%22%3A%201.0%2C%20%22radius%22%3A%2010.0%2C%20%22stroke%22%3A%20true%2C%20%22weight%22%3A%203%7D%0A%20%20%20%20%20%20%20%20%20%20%20%20%29.addTo%28map_c239fe58d6db4565baaa547b4a3d333b%29%3B%0A%20%20%20%20%20%20%20%20%0A%20%20%20%20%0A%20%20%20%20%20%20%20%20var%20popup_69a98a4abfc5452ebb0c0729e50e94a3%20%3D%20L.popup%28%7B%22maxWidth%22%3A%20%22100%25%22%7D%29%3B%0A%0A%20%20%20%20%20%20%20%20%0A%20%20%20%20%20%20%20%20%20%20%20%20var%20html_6db45075dfa24d2f9d3b427eaca5e4ab%20%3D%20%24%28%60%3Cdiv%20id%3D%22html_6db45075dfa24d2f9d3b427eaca5e4ab%22%20style%3D%22width%3A%20100.0%25%3B%20height%3A%20100.0%25%3B%22%3E26th%20%26%20Allegheny%20Farmers%27%20Market%3C/div%3E%60%29%5B0%5D%3B%0A%20%20%20%20%20%20%20%20%20%20%20%20popup_69a98a4abfc5452ebb0c0729e50e94a3.setContent%28html_6db45075dfa24d2f9d3b427eaca5e4ab%29%3B%0A%20%20%20%20%20%20%20%20%0A%0A%20%20%20%20%20%20%20%20circle_marker_6beddcc287f94dbb9973aedd3dc291e4.bindPopup%28popup_69a98a4abfc5452ebb0c0729e50e94a3%29%0A%20%20%20%20%20%20%20%20%3B%0A%0A%20%20%20%20%20%20%20%20%0A%20%20%20%20%0A%20%20%20%20%0A%20%20%20%20%20%20%20%20%20%20%20%20var%20circle_marker_925990f02cbc43b78813847aa06e51e6%20%3D%20L.circleMarker%28%0A%20%20%20%20%20%20%20%20%20%20%20%20%20%20%20%20%5B39.977197893747004%2C%20-75.1797812413063%5D%2C%0A%20%20%20%20%20%20%20%20%20%20%20%20%20%20%20%20%7B%22bubblingMouseEvents%22%3A%20true%2C%20%22color%22%3A%20%22%233388ff%22%2C%20%22dashArray%22%3A%20null%2C%20%22dashOffset%22%3A%20null%2C%20%22fill%22%3A%20true%2C%20%22fillColor%22%3A%20%22green%22%2C%20%22fillOpacity%22%3A%200.2%2C%20%22fillRule%22%3A%20%22evenodd%22%2C%20%22lineCap%22%3A%20%22round%22%2C%20%22lineJoin%22%3A%20%22round%22%2C%20%22opacity%22%3A%201.0%2C%20%22radius%22%3A%2010.0%2C%20%22stroke%22%3A%20true%2C%20%22weight%22%3A%203%7D%0A%20%20%20%20%20%20%20%20%20%20%20%20%29.addTo%28map_c239fe58d6db4565baaa547b4a3d333b%29%3B%0A%20%20%20%20%20%20%20%20%0A%20%20%20%20%0A%20%20%20%20%20%20%20%20var%20popup_be9653325c03461a996e081e56aabc9f%20%3D%20L.popup%28%7B%22maxWidth%22%3A%20%22100%25%22%7D%29%3B%0A%0A%20%20%20%20%20%20%20%20%0A%20%20%20%20%20%20%20%20%20%20%20%20var%20html_23c98d41204145cf9f0ce8b2ad793baa%20%3D%20%24%28%60%3Cdiv%20id%3D%22html_23c98d41204145cf9f0ce8b2ad793baa%22%20style%3D%22width%3A%20100.0%25%3B%20height%3A%20100.0%25%3B%22%3EBrewerytown%20Garden%20Farm%20Stand%20%3C/div%3E%60%29%5B0%5D%3B%0A%20%20%20%20%20%20%20%20%20%20%20%20popup_be9653325c03461a996e081e56aabc9f.setContent%28html_23c98d41204145cf9f0ce8b2ad793baa%29%3B%0A%20%20%20%20%20%20%20%20%0A%0A%20%20%20%20%20%20%20%20circle_marker_925990f02cbc43b78813847aa06e51e6.bindPopup%28popup_be9653325c03461a996e081e56aabc9f%29%0A%20%20%20%20%20%20%20%20%3B%0A%0A%20%20%20%20%20%20%20%20%0A%20%20%20%20%0A%20%20%20%20%0A%20%20%20%20%20%20%20%20%20%20%20%20var%20circle_marker_daca4b12598f4de3b11f1ca1447c14f2%20%3D%20L.circleMarker%28%0A%20%20%20%20%20%20%20%20%20%20%20%20%20%20%20%20%5B40.040694677866995%2C%20-75.0762400372753%5D%2C%0A%20%20%20%20%20%20%20%20%20%20%20%20%20%20%20%20%7B%22bubblingMouseEvents%22%3A%20true%2C%20%22color%22%3A%20%22%233388ff%22%2C%20%22dashArray%22%3A%20null%2C%20%22dashOffset%22%3A%20null%2C%20%22fill%22%3A%20true%2C%20%22fillColor%22%3A%20%22green%22%2C%20%22fillOpacity%22%3A%200.2%2C%20%22fillRule%22%3A%20%22evenodd%22%2C%20%22lineCap%22%3A%20%22round%22%2C%20%22lineJoin%22%3A%20%22round%22%2C%20%22opacity%22%3A%201.0%2C%20%22radius%22%3A%2010.0%2C%20%22stroke%22%3A%20true%2C%20%22weight%22%3A%203%7D%0A%20%20%20%20%20%20%20%20%20%20%20%20%29.addTo%28map_c239fe58d6db4565baaa547b4a3d333b%29%3B%0A%20%20%20%20%20%20%20%20%0A%20%20%20%20%0A%20%20%20%20%20%20%20%20var%20popup_89bb01a2434b41f782b1c8c337ba3a1d%20%3D%20L.popup%28%7B%22maxWidth%22%3A%20%22100%25%22%7D%29%3B%0A%0A%20%20%20%20%20%20%20%20%0A%20%20%20%20%20%20%20%20%20%20%20%20var%20html_9239a9eb164d439292bf1c6295910eb0%20%3D%20%24%28%60%3Cdiv%20id%3D%22html_9239a9eb164d439292bf1c6295910eb0%22%20style%3D%22width%3A%20100.0%25%3B%20height%3A%20100.0%25%3B%22%3EOxford%20Circle%20Market%20at%20Castor%20%26%20Hellerman%20%3C/div%3E%60%29%5B0%5D%3B%0A%20%20%20%20%20%20%20%20%20%20%20%20popup_89bb01a2434b41f782b1c8c337ba3a1d.setContent%28html_9239a9eb164d439292bf1c6295910eb0%29%3B%0A%20%20%20%20%20%20%20%20%0A%0A%20%20%20%20%20%20%20%20circle_marker_daca4b12598f4de3b11f1ca1447c14f2.bindPopup%28popup_89bb01a2434b41f782b1c8c337ba3a1d%29%0A%20%20%20%20%20%20%20%20%3B%0A%0A%20%20%20%20%20%20%20%20%0A%20%20%20%20%0A%20%20%20%20%0A%20%20%20%20%20%20%20%20%20%20%20%20var%20circle_marker_9d2883fe540447dc9e859b4d660fe418%20%3D%20L.circleMarker%28%0A%20%20%20%20%20%20%20%20%20%20%20%20%20%20%20%20%5B40.0232670645821%2C%20-75.0768437040259%5D%2C%0A%20%20%20%20%20%20%20%20%20%20%20%20%20%20%20%20%7B%22bubblingMouseEvents%22%3A%20true%2C%20%22color%22%3A%20%22%233388ff%22%2C%20%22dashArray%22%3A%20null%2C%20%22dashOffset%22%3A%20null%2C%20%22fill%22%3A%20true%2C%20%22fillColor%22%3A%20%22green%22%2C%20%22fillOpacity%22%3A%200.2%2C%20%22fillRule%22%3A%20%22evenodd%22%2C%20%22lineCap%22%3A%20%22round%22%2C%20%22lineJoin%22%3A%20%22round%22%2C%20%22opacity%22%3A%201.0%2C%20%22radius%22%3A%2010.0%2C%20%22stroke%22%3A%20true%2C%20%22weight%22%3A%203%7D%0A%20%20%20%20%20%20%20%20%20%20%20%20%29.addTo%28map_c239fe58d6db4565baaa547b4a3d333b%29%3B%0A%20%20%20%20%20%20%20%20%0A%20%20%20%20%0A%20%20%20%20%20%20%20%20var%20popup_e3db104bef574816862cdfa6c6908749%20%3D%20L.popup%28%7B%22maxWidth%22%3A%20%22100%25%22%7D%29%3B%0A%0A%20%20%20%20%20%20%20%20%0A%20%20%20%20%20%20%20%20%20%20%20%20var%20html_e6352ac067bb42279e9a21b89d69c3a2%20%3D%20%24%28%60%3Cdiv%20id%3D%22html_e6352ac067bb42279e9a21b89d69c3a2%22%20style%3D%22width%3A%20100.0%25%3B%20height%3A%20100.0%25%3B%22%3EFrankford%20Transportation%20Center%20Farmers%27%20Market%3C/div%3E%60%29%5B0%5D%3B%0A%20%20%20%20%20%20%20%20%20%20%20%20popup_e3db104bef574816862cdfa6c6908749.setContent%28html_e6352ac067bb42279e9a21b89d69c3a2%29%3B%0A%20%20%20%20%20%20%20%20%0A%0A%20%20%20%20%20%20%20%20circle_marker_9d2883fe540447dc9e859b4d660fe418.bindPopup%28popup_e3db104bef574816862cdfa6c6908749%29%0A%20%20%20%20%20%20%20%20%3B%0A%0A%20%20%20%20%20%20%20%20%0A%20%20%20%20%0A%20%20%20%20%0A%20%20%20%20%20%20%20%20%20%20%20%20var%20circle_marker_37f65ced13af4e7482d1bb19ea6aa783%20%3D%20L.circleMarker%28%0A%20%20%20%20%20%20%20%20%20%20%20%20%20%20%20%20%5B39.9803814820313%2C%20-75.17089445200409%5D%2C%0A%20%20%20%20%20%20%20%20%20%20%20%20%20%20%20%20%7B%22bubblingMouseEvents%22%3A%20true%2C%20%22color%22%3A%20%22%233388ff%22%2C%20%22dashArray%22%3A%20null%2C%20%22dashOffset%22%3A%20null%2C%20%22fill%22%3A%20true%2C%20%22fillColor%22%3A%20%22green%22%2C%20%22fillOpacity%22%3A%200.2%2C%20%22fillRule%22%3A%20%22evenodd%22%2C%20%22lineCap%22%3A%20%22round%22%2C%20%22lineJoin%22%3A%20%22round%22%2C%20%22opacity%22%3A%201.0%2C%20%22radius%22%3A%2010.0%2C%20%22stroke%22%3A%20true%2C%20%22weight%22%3A%203%7D%0A%20%20%20%20%20%20%20%20%20%20%20%20%29.addTo%28map_c239fe58d6db4565baaa547b4a3d333b%29%3B%0A%20%20%20%20%20%20%20%20%0A%20%20%20%20%0A%20%20%20%20%20%20%20%20var%20popup_8979d48850c14b8d9e7d2dcb9c64223e%20%3D%20L.popup%28%7B%22maxWidth%22%3A%20%22100%25%22%7D%29%3B%0A%0A%20%20%20%20%20%20%20%20%0A%20%20%20%20%20%20%20%20%20%20%20%20var%20html_5ae905341368425188c14a1cbb39e683%20%3D%20%24%28%60%3Cdiv%20id%3D%22html_5ae905341368425188c14a1cbb39e683%22%20style%3D%22width%3A%20100.0%25%3B%20height%3A%20100.0%25%3B%22%3ESanctuary%20Farm%20Farm%20Stand%3C/div%3E%60%29%5B0%5D%3B%0A%20%20%20%20%20%20%20%20%20%20%20%20popup_8979d48850c14b8d9e7d2dcb9c64223e.setContent%28html_5ae905341368425188c14a1cbb39e683%29%3B%0A%20%20%20%20%20%20%20%20%0A%0A%20%20%20%20%20%20%20%20circle_marker_37f65ced13af4e7482d1bb19ea6aa783.bindPopup%28popup_8979d48850c14b8d9e7d2dcb9c64223e%29%0A%20%20%20%20%20%20%20%20%3B%0A%0A%20%20%20%20%20%20%20%20%0A%20%20%20%20%0A%20%20%20%20%0A%20%20%20%20%20%20%20%20%20%20%20%20var%20circle_marker_bb450a1f705d4b24a76782c4aeba3ae7%20%3D%20L.circleMarker%28%0A%20%20%20%20%20%20%20%20%20%20%20%20%20%20%20%20%5B40.1016538543214%2C%20-75.02087001076109%5D%2C%0A%20%20%20%20%20%20%20%20%20%20%20%20%20%20%20%20%7B%22bubblingMouseEvents%22%3A%20true%2C%20%22color%22%3A%20%22%233388ff%22%2C%20%22dashArray%22%3A%20null%2C%20%22dashOffset%22%3A%20null%2C%20%22fill%22%3A%20true%2C%20%22fillColor%22%3A%20%22green%22%2C%20%22fillOpacity%22%3A%200.2%2C%20%22fillRule%22%3A%20%22evenodd%22%2C%20%22lineCap%22%3A%20%22round%22%2C%20%22lineJoin%22%3A%20%22round%22%2C%20%22opacity%22%3A%201.0%2C%20%22radius%22%3A%2010.0%2C%20%22stroke%22%3A%20true%2C%20%22weight%22%3A%203%7D%0A%20%20%20%20%20%20%20%20%20%20%20%20%29.addTo%28map_c239fe58d6db4565baaa547b4a3d333b%29%3B%0A%20%20%20%20%20%20%20%20%0A%20%20%20%20%0A%20%20%20%20%20%20%20%20var%20popup_f96bfd0645fd4e559df6ae16de157d06%20%3D%20L.popup%28%7B%22maxWidth%22%3A%20%22100%25%22%7D%29%3B%0A%0A%20%20%20%20%20%20%20%20%0A%20%20%20%20%20%20%20%20%20%20%20%20var%20html_bc6cfd6c77fb4ffb87a759e867861f2a%20%3D%20%24%28%60%3Cdiv%20id%3D%22html_bc6cfd6c77fb4ffb87a759e867861f2a%22%20style%3D%22width%3A%20100.0%25%3B%20height%3A%20100.0%25%3B%22%3EKleinlife%20Farmers%27%20Market%3C/div%3E%60%29%5B0%5D%3B%0A%20%20%20%20%20%20%20%20%20%20%20%20popup_f96bfd0645fd4e559df6ae16de157d06.setContent%28html_bc6cfd6c77fb4ffb87a759e867861f2a%29%3B%0A%20%20%20%20%20%20%20%20%0A%0A%20%20%20%20%20%20%20%20circle_marker_bb450a1f705d4b24a76782c4aeba3ae7.bindPopup%28popup_f96bfd0645fd4e559df6ae16de157d06%29%0A%20%20%20%20%20%20%20%20%3B%0A%0A%20%20%20%20%20%20%20%20%0A%20%20%20%20%0A%20%20%20%20%0A%20%20%20%20%20%20%20%20%20%20%20%20var%20circle_marker_a670ffd46c9b4165aed378d8a119a395%20%3D%20L.circleMarker%28%0A%20%20%20%20%20%20%20%20%20%20%20%20%20%20%20%20%5B40.049368017771705%2C%20-75.2192638483768%5D%2C%0A%20%20%20%20%20%20%20%20%20%20%20%20%20%20%20%20%7B%22bubblingMouseEvents%22%3A%20true%2C%20%22color%22%3A%20%22%233388ff%22%2C%20%22dashArray%22%3A%20null%2C%20%22dashOffset%22%3A%20null%2C%20%22fill%22%3A%20true%2C%20%22fillColor%22%3A%20%22green%22%2C%20%22fillOpacity%22%3A%200.2%2C%20%22fillRule%22%3A%20%22evenodd%22%2C%20%22lineCap%22%3A%20%22round%22%2C%20%22lineJoin%22%3A%20%22round%22%2C%20%22opacity%22%3A%201.0%2C%20%22radius%22%3A%2010.0%2C%20%22stroke%22%3A%20true%2C%20%22weight%22%3A%203%7D%0A%20%20%20%20%20%20%20%20%20%20%20%20%29.addTo%28map_c239fe58d6db4565baaa547b4a3d333b%29%3B%0A%20%20%20%20%20%20%20%20%0A%20%20%20%20%0A%20%20%20%20%20%20%20%20var%20popup_4dfeb9ae312f44e2b42628b2d95f1797%20%3D%20L.popup%28%7B%22maxWidth%22%3A%20%22100%25%22%7D%29%3B%0A%0A%20%20%20%20%20%20%20%20%0A%20%20%20%20%20%20%20%20%20%20%20%20var%20html_9bd7ddaaad014781812e2edb38c3f9d1%20%3D%20%24%28%60%3Cdiv%20id%3D%22html_9bd7ddaaad014781812e2edb38c3f9d1%22%20style%3D%22width%3A%20100.0%25%3B%20height%3A%20100.0%25%3B%22%3EHenry%20Got%20Crops%20Farm%20Market%3C/div%3E%60%29%5B0%5D%3B%0A%20%20%20%20%20%20%20%20%20%20%20%20popup_4dfeb9ae312f44e2b42628b2d95f1797.setContent%28html_9bd7ddaaad014781812e2edb38c3f9d1%29%3B%0A%20%20%20%20%20%20%20%20%0A%0A%20%20%20%20%20%20%20%20circle_marker_a670ffd46c9b4165aed378d8a119a395.bindPopup%28popup_4dfeb9ae312f44e2b42628b2d95f1797%29%0A%20%20%20%20%20%20%20%20%3B%0A%0A%20%20%20%20%20%20%20%20%0A%20%20%20%20%0A%20%20%20%20%0A%20%20%20%20%20%20%20%20%20%20%20%20var%20circle_marker_db0179524ef5485ba79c4f338746a476%20%3D%20L.circleMarker%28%0A%20%20%20%20%20%20%20%20%20%20%20%20%20%20%20%20%5B40.046386615997896%2C%20-75.1959153526179%5D%2C%0A%20%20%20%20%20%20%20%20%20%20%20%20%20%20%20%20%7B%22bubblingMouseEvents%22%3A%20true%2C%20%22color%22%3A%20%22%233388ff%22%2C%20%22dashArray%22%3A%20null%2C%20%22dashOffset%22%3A%20null%2C%20%22fill%22%3A%20true%2C%20%22fillColor%22%3A%20%22green%22%2C%20%22fillOpacity%22%3A%200.2%2C%20%22fillRule%22%3A%20%22evenodd%22%2C%20%22lineCap%22%3A%20%22round%22%2C%20%22lineJoin%22%3A%20%22round%22%2C%20%22opacity%22%3A%201.0%2C%20%22radius%22%3A%2010.0%2C%20%22stroke%22%3A%20true%2C%20%22weight%22%3A%203%7D%0A%20%20%20%20%20%20%20%20%20%20%20%20%29.addTo%28map_c239fe58d6db4565baaa547b4a3d333b%29%3B%0A%20%20%20%20%20%20%20%20%0A%20%20%20%20%0A%20%20%20%20%20%20%20%20var%20popup_692ca1aec9fb44319a6f3eff95048c79%20%3D%20L.popup%28%7B%22maxWidth%22%3A%20%22100%25%22%7D%29%3B%0A%0A%20%20%20%20%20%20%20%20%0A%20%20%20%20%20%20%20%20%20%20%20%20var%20html_dda8872c744f40a084778f49e3c9c4de%20%3D%20%24%28%60%3Cdiv%20id%3D%22html_dda8872c744f40a084778f49e3c9c4de%22%20style%3D%22width%3A%20100.0%25%3B%20height%3A%20100.0%25%3B%22%3EMt.%20Airy%20Farmers%27%20Market%3C/div%3E%60%29%5B0%5D%3B%0A%20%20%20%20%20%20%20%20%20%20%20%20popup_692ca1aec9fb44319a6f3eff95048c79.setContent%28html_dda8872c744f40a084778f49e3c9c4de%29%3B%0A%20%20%20%20%20%20%20%20%0A%0A%20%20%20%20%20%20%20%20circle_marker_db0179524ef5485ba79c4f338746a476.bindPopup%28popup_692ca1aec9fb44319a6f3eff95048c79%29%0A%20%20%20%20%20%20%20%20%3B%0A%0A%20%20%20%20%20%20%20%20%0A%20%20%20%20%0A%20%20%20%20%0A%20%20%20%20%20%20%20%20%20%20%20%20var%20circle_marker_8cff69d1d8b24080b2c622a119c503f7%20%3D%20L.circleMarker%28%0A%20%20%20%20%20%20%20%20%20%20%20%20%20%20%20%20%5B40.064295045190704%2C%20-75.1535160003583%5D%2C%0A%20%20%20%20%20%20%20%20%20%20%20%20%20%20%20%20%7B%22bubblingMouseEvents%22%3A%20true%2C%20%22color%22%3A%20%22%233388ff%22%2C%20%22dashArray%22%3A%20null%2C%20%22dashOffset%22%3A%20null%2C%20%22fill%22%3A%20true%2C%20%22fillColor%22%3A%20%22green%22%2C%20%22fillOpacity%22%3A%200.2%2C%20%22fillRule%22%3A%20%22evenodd%22%2C%20%22lineCap%22%3A%20%22round%22%2C%20%22lineJoin%22%3A%20%22round%22%2C%20%22opacity%22%3A%201.0%2C%20%22radius%22%3A%2010.0%2C%20%22stroke%22%3A%20true%2C%20%22weight%22%3A%203%7D%0A%20%20%20%20%20%20%20%20%20%20%20%20%29.addTo%28map_c239fe58d6db4565baaa547b4a3d333b%29%3B%0A%20%20%20%20%20%20%20%20%0A%20%20%20%20%0A%20%20%20%20%20%20%20%20var%20popup_13e49c2410854905a7509844dd16598b%20%3D%20L.popup%28%7B%22maxWidth%22%3A%20%22100%25%22%7D%29%3B%0A%0A%20%20%20%20%20%20%20%20%0A%20%20%20%20%20%20%20%20%20%20%20%20var%20html_da4a4a09cabb4468a66fb17306c571ff%20%3D%20%24%28%60%3Cdiv%20id%3D%22html_da4a4a09cabb4468a66fb17306c571ff%22%20style%3D%22width%3A%20100.0%25%3B%20height%3A%20100.0%25%3B%22%3EWest%20Oak%20Lane%20Farmers%27%20Market%3C/div%3E%60%29%5B0%5D%3B%0A%20%20%20%20%20%20%20%20%20%20%20%20popup_13e49c2410854905a7509844dd16598b.setContent%28html_da4a4a09cabb4468a66fb17306c571ff%29%3B%0A%20%20%20%20%20%20%20%20%0A%0A%20%20%20%20%20%20%20%20circle_marker_8cff69d1d8b24080b2c622a119c503f7.bindPopup%28popup_13e49c2410854905a7509844dd16598b%29%0A%20%20%20%20%20%20%20%20%3B%0A%0A%20%20%20%20%20%20%20%20%0A%20%20%20%20%0A%20%20%20%20%0A%20%20%20%20%20%20%20%20%20%20%20%20var%20circle_marker_5ec98612f56b475d8131fbf82afddd0c%20%3D%20L.circleMarker%28%0A%20%20%20%20%20%20%20%20%20%20%20%20%20%20%20%20%5B40.02572121270371%2C%20-75.2207167468552%5D%2C%0A%20%20%20%20%20%20%20%20%20%20%20%20%20%20%20%20%7B%22bubblingMouseEvents%22%3A%20true%2C%20%22color%22%3A%20%22%233388ff%22%2C%20%22dashArray%22%3A%20null%2C%20%22dashOffset%22%3A%20null%2C%20%22fill%22%3A%20true%2C%20%22fillColor%22%3A%20%22green%22%2C%20%22fillOpacity%22%3A%200.2%2C%20%22fillRule%22%3A%20%22evenodd%22%2C%20%22lineCap%22%3A%20%22round%22%2C%20%22lineJoin%22%3A%20%22round%22%2C%20%22opacity%22%3A%201.0%2C%20%22radius%22%3A%2010.0%2C%20%22stroke%22%3A%20true%2C%20%22weight%22%3A%203%7D%0A%20%20%20%20%20%20%20%20%20%20%20%20%29.addTo%28map_c239fe58d6db4565baaa547b4a3d333b%29%3B%0A%20%20%20%20%20%20%20%20%0A%20%20%20%20%0A%20%20%20%20%20%20%20%20var%20popup_444c83b878614a91b92f25625ac5a5a8%20%3D%20L.popup%28%7B%22maxWidth%22%3A%20%22100%25%22%7D%29%3B%0A%0A%20%20%20%20%20%20%20%20%0A%20%20%20%20%20%20%20%20%20%20%20%20var%20html_e8c83221d04c46dbbd03270b465571d5%20%3D%20%24%28%60%3Cdiv%20id%3D%22html_e8c83221d04c46dbbd03270b465571d5%22%20style%3D%22width%3A%20100.0%25%3B%20height%3A%20100.0%25%3B%22%3EPretzel%20Park%20Farmers%27%20Market%3C/div%3E%60%29%5B0%5D%3B%0A%20%20%20%20%20%20%20%20%20%20%20%20popup_444c83b878614a91b92f25625ac5a5a8.setContent%28html_e8c83221d04c46dbbd03270b465571d5%29%3B%0A%20%20%20%20%20%20%20%20%0A%0A%20%20%20%20%20%20%20%20circle_marker_5ec98612f56b475d8131fbf82afddd0c.bindPopup%28popup_444c83b878614a91b92f25625ac5a5a8%29%0A%20%20%20%20%20%20%20%20%3B%0A%0A%20%20%20%20%20%20%20%20%0A%20%20%20%20%0A%20%20%20%20%0A%20%20%20%20%20%20%20%20%20%20%20%20var%20circle_marker_3c3a0e1151b04c04a9d6218d2efdb56d%20%3D%20L.circleMarker%28%0A%20%20%20%20%20%20%20%20%20%20%20%20%20%20%20%20%5B40.0373573016429%2C%20-75.2210430468332%5D%2C%0A%20%20%20%20%20%20%20%20%20%20%20%20%20%20%20%20%7B%22bubblingMouseEvents%22%3A%20true%2C%20%22color%22%3A%20%22%233388ff%22%2C%20%22dashArray%22%3A%20null%2C%20%22dashOffset%22%3A%20null%2C%20%22fill%22%3A%20true%2C%20%22fillColor%22%3A%20%22green%22%2C%20%22fillOpacity%22%3A%200.2%2C%20%22fillRule%22%3A%20%22evenodd%22%2C%20%22lineCap%22%3A%20%22round%22%2C%20%22lineJoin%22%3A%20%22round%22%2C%20%22opacity%22%3A%201.0%2C%20%22radius%22%3A%2010.0%2C%20%22stroke%22%3A%20true%2C%20%22weight%22%3A%203%7D%0A%20%20%20%20%20%20%20%20%20%20%20%20%29.addTo%28map_c239fe58d6db4565baaa547b4a3d333b%29%3B%0A%20%20%20%20%20%20%20%20%0A%20%20%20%20%0A%20%20%20%20%20%20%20%20var%20popup_54a5ae79da5b4ceeb124995569dc8dba%20%3D%20L.popup%28%7B%22maxWidth%22%3A%20%22100%25%22%7D%29%3B%0A%0A%20%20%20%20%20%20%20%20%0A%20%20%20%20%20%20%20%20%20%20%20%20var%20html_8021c129bea94774b1bda1cd21aa6086%20%3D%20%24%28%60%3Cdiv%20id%3D%22html_8021c129bea94774b1bda1cd21aa6086%22%20style%3D%22width%3A%20100.0%25%3B%20height%3A%20100.0%25%3B%22%3EGorgas%20Park%20Farmers%27%20Market%3C/div%3E%60%29%5B0%5D%3B%0A%20%20%20%20%20%20%20%20%20%20%20%20popup_54a5ae79da5b4ceeb124995569dc8dba.setContent%28html_8021c129bea94774b1bda1cd21aa6086%29%3B%0A%20%20%20%20%20%20%20%20%0A%0A%20%20%20%20%20%20%20%20circle_marker_3c3a0e1151b04c04a9d6218d2efdb56d.bindPopup%28popup_54a5ae79da5b4ceeb124995569dc8dba%29%0A%20%20%20%20%20%20%20%20%3B%0A%0A%20%20%20%20%20%20%20%20%0A%20%20%20%20%0A%20%20%20%20%0A%20%20%20%20%20%20%20%20%20%20%20%20var%20circle_marker_f28cebd11e384e9d954627a01a48d4c9%20%3D%20L.circleMarker%28%0A%20%20%20%20%20%20%20%20%20%20%20%20%20%20%20%20%5B39.9189707403048%2C%20-75.15743542859109%5D%2C%0A%20%20%20%20%20%20%20%20%20%20%20%20%20%20%20%20%7B%22bubblingMouseEvents%22%3A%20true%2C%20%22color%22%3A%20%22%233388ff%22%2C%20%22dashArray%22%3A%20null%2C%20%22dashOffset%22%3A%20null%2C%20%22fill%22%3A%20true%2C%20%22fillColor%22%3A%20%22green%22%2C%20%22fillOpacity%22%3A%200.2%2C%20%22fillRule%22%3A%20%22evenodd%22%2C%20%22lineCap%22%3A%20%22round%22%2C%20%22lineJoin%22%3A%20%22round%22%2C%20%22opacity%22%3A%201.0%2C%20%22radius%22%3A%2010.0%2C%20%22stroke%22%3A%20true%2C%20%22weight%22%3A%203%7D%0A%20%20%20%20%20%20%20%20%20%20%20%20%29.addTo%28map_c239fe58d6db4565baaa547b4a3d333b%29%3B%0A%20%20%20%20%20%20%20%20%0A%20%20%20%20%0A%20%20%20%20%20%20%20%20var%20popup_11fed36d2fa543e2a277be6444dd0c7d%20%3D%20L.popup%28%7B%22maxWidth%22%3A%20%22100%25%22%7D%29%3B%0A%0A%20%20%20%20%20%20%20%20%0A%20%20%20%20%20%20%20%20%20%20%20%20var%20html_95fd7607011d411292a99ced63bada90%20%3D%20%24%28%60%3Cdiv%20id%3D%22html_95fd7607011d411292a99ced63bada90%22%20style%3D%22width%3A%20100.0%25%3B%20height%3A%20100.0%25%3B%22%3ENovick%20Family%20Urban%20Farm%20Stand%3C/div%3E%60%29%5B0%5D%3B%0A%20%20%20%20%20%20%20%20%20%20%20%20popup_11fed36d2fa543e2a277be6444dd0c7d.setContent%28html_95fd7607011d411292a99ced63bada90%29%3B%0A%20%20%20%20%20%20%20%20%0A%0A%20%20%20%20%20%20%20%20circle_marker_f28cebd11e384e9d954627a01a48d4c9.bindPopup%28popup_11fed36d2fa543e2a277be6444dd0c7d%29%0A%20%20%20%20%20%20%20%20%3B%0A%0A%20%20%20%20%20%20%20%20%0A%20%20%20%20%0A%20%20%20%20%0A%20%20%20%20%20%20%20%20%20%20%20%20var%20circle_marker_51d10b5181b94ec9b8088188cffa9469%20%3D%20L.circleMarker%28%0A%20%20%20%20%20%20%20%20%20%20%20%20%20%20%20%20%5B39.932170940121004%2C%20-75.1814220711753%5D%2C%0A%20%20%20%20%20%20%20%20%20%20%20%20%20%20%20%20%7B%22bubblingMouseEvents%22%3A%20true%2C%20%22color%22%3A%20%22%233388ff%22%2C%20%22dashArray%22%3A%20null%2C%20%22dashOffset%22%3A%20null%2C%20%22fill%22%3A%20true%2C%20%22fillColor%22%3A%20%22green%22%2C%20%22fillOpacity%22%3A%200.2%2C%20%22fillRule%22%3A%20%22evenodd%22%2C%20%22lineCap%22%3A%20%22round%22%2C%20%22lineJoin%22%3A%20%22round%22%2C%20%22opacity%22%3A%201.0%2C%20%22radius%22%3A%2010.0%2C%20%22stroke%22%3A%20true%2C%20%22weight%22%3A%203%7D%0A%20%20%20%20%20%20%20%20%20%20%20%20%29.addTo%28map_c239fe58d6db4565baaa547b4a3d333b%29%3B%0A%20%20%20%20%20%20%20%20%0A%20%20%20%20%0A%20%20%20%20%20%20%20%20var%20popup_32996379da964a6fbb808e69ca8433f5%20%3D%20L.popup%28%7B%22maxWidth%22%3A%20%22100%25%22%7D%29%3B%0A%0A%20%20%20%20%20%20%20%20%0A%20%20%20%20%20%20%20%20%20%20%20%20var%20html_29897c14601f44439127b2704f54074d%20%3D%20%24%28%60%3Cdiv%20id%3D%22html_29897c14601f44439127b2704f54074d%22%20style%3D%22width%3A%20100.0%25%3B%20height%3A%20100.0%25%3B%22%3E22nd%20%26%20Tasker%20Farmers%27%20Market%3C/div%3E%60%29%5B0%5D%3B%0A%20%20%20%20%20%20%20%20%20%20%20%20popup_32996379da964a6fbb808e69ca8433f5.setContent%28html_29897c14601f44439127b2704f54074d%29%3B%0A%20%20%20%20%20%20%20%20%0A%0A%20%20%20%20%20%20%20%20circle_marker_51d10b5181b94ec9b8088188cffa9469.bindPopup%28popup_32996379da964a6fbb808e69ca8433f5%29%0A%20%20%20%20%20%20%20%20%3B%0A%0A%20%20%20%20%20%20%20%20%0A%20%20%20%20%0A%20%20%20%20%0A%20%20%20%20%20%20%20%20%20%20%20%20var%20circle_marker_e512354491974c049635f3293b0f1c2e%20%3D%20L.circleMarker%28%0A%20%20%20%20%20%20%20%20%20%20%20%20%20%20%20%20%5B39.9292654336042%2C%20-75.16869095067409%5D%2C%0A%20%20%20%20%20%20%20%20%20%20%20%20%20%20%20%20%7B%22bubblingMouseEvents%22%3A%20true%2C%20%22color%22%3A%20%22%233388ff%22%2C%20%22dashArray%22%3A%20null%2C%20%22dashOffset%22%3A%20null%2C%20%22fill%22%3A%20true%2C%20%22fillColor%22%3A%20%22green%22%2C%20%22fillOpacity%22%3A%200.2%2C%20%22fillRule%22%3A%20%22evenodd%22%2C%20%22lineCap%22%3A%20%22round%22%2C%20%22lineJoin%22%3A%20%22round%22%2C%20%22opacity%22%3A%201.0%2C%20%22radius%22%3A%2010.0%2C%20%22stroke%22%3A%20true%2C%20%22weight%22%3A%203%7D%0A%20%20%20%20%20%20%20%20%20%20%20%20%29.addTo%28map_c239fe58d6db4565baaa547b4a3d333b%29%3B%0A%20%20%20%20%20%20%20%20%0A%20%20%20%20%0A%20%20%20%20%20%20%20%20var%20popup_8159a2398f644b3f884a14bd56917cbe%20%3D%20L.popup%28%7B%22maxWidth%22%3A%20%22100%25%22%7D%29%3B%0A%0A%20%20%20%20%20%20%20%20%0A%20%20%20%20%20%20%20%20%20%20%20%20var%20html_61c65e8ebb964cde99e88231f16e72b4%20%3D%20%24%28%60%3Cdiv%20id%3D%22html_61c65e8ebb964cde99e88231f16e72b4%22%20style%3D%22width%3A%20100.0%25%3B%20height%3A%20100.0%25%3B%22%3EBroad%20%26%20Morris%20Farmers%27%20Market%3C/div%3E%60%29%5B0%5D%3B%0A%20%20%20%20%20%20%20%20%20%20%20%20popup_8159a2398f644b3f884a14bd56917cbe.setContent%28html_61c65e8ebb964cde99e88231f16e72b4%29%3B%0A%20%20%20%20%20%20%20%20%0A%0A%20%20%20%20%20%20%20%20circle_marker_e512354491974c049635f3293b0f1c2e.bindPopup%28popup_8159a2398f644b3f884a14bd56917cbe%29%0A%20%20%20%20%20%20%20%20%3B%0A%0A%20%20%20%20%20%20%20%20%0A%20%20%20%20%0A%20%20%20%20%0A%20%20%20%20%20%20%20%20%20%20%20%20var%20circle_marker_d62edbc35b184ee2bcb5a2bc3b4b36d8%20%3D%20L.circleMarker%28%0A%20%20%20%20%20%20%20%20%20%20%20%20%20%20%20%20%5B39.9313673949505%2C%20-75.1622124802482%5D%2C%0A%20%20%20%20%20%20%20%20%20%20%20%20%20%20%20%20%7B%22bubblingMouseEvents%22%3A%20true%2C%20%22color%22%3A%20%22%233388ff%22%2C%20%22dashArray%22%3A%20null%2C%20%22dashOffset%22%3A%20null%2C%20%22fill%22%3A%20true%2C%20%22fillColor%22%3A%20%22green%22%2C%20%22fillOpacity%22%3A%200.2%2C%20%22fillRule%22%3A%20%22evenodd%22%2C%20%22lineCap%22%3A%20%22round%22%2C%20%22lineJoin%22%3A%20%22round%22%2C%20%22opacity%22%3A%201.0%2C%20%22radius%22%3A%2010.0%2C%20%22stroke%22%3A%20true%2C%20%22weight%22%3A%203%7D%0A%20%20%20%20%20%20%20%20%20%20%20%20%29.addTo%28map_c239fe58d6db4565baaa547b4a3d333b%29%3B%0A%20%20%20%20%20%20%20%20%0A%20%20%20%20%0A%20%20%20%20%20%20%20%20var%20popup_6d633acc39f648c09fa4d58a0945d213%20%3D%20L.popup%28%7B%22maxWidth%22%3A%20%22100%25%22%7D%29%3B%0A%0A%20%20%20%20%20%20%20%20%0A%20%20%20%20%20%20%20%20%20%20%20%20var%20html_cd2028e45efa46048547fb6ad35f027d%20%3D%20%24%28%60%3Cdiv%20id%3D%22html_cd2028e45efa46048547fb6ad35f027d%22%20style%3D%22width%3A%20100.0%25%3B%20height%3A%20100.0%25%3B%22%3EThe%20Fountain%20Farmers%27%20Market%3C/div%3E%60%29%5B0%5D%3B%0A%20%20%20%20%20%20%20%20%20%20%20%20popup_6d633acc39f648c09fa4d58a0945d213.setContent%28html_cd2028e45efa46048547fb6ad35f027d%29%3B%0A%20%20%20%20%20%20%20%20%0A%0A%20%20%20%20%20%20%20%20circle_marker_d62edbc35b184ee2bcb5a2bc3b4b36d8.bindPopup%28popup_6d633acc39f648c09fa4d58a0945d213%29%0A%20%20%20%20%20%20%20%20%3B%0A%0A%20%20%20%20%20%20%20%20%0A%20%20%20%20%0A%20%20%20%20%0A%20%20%20%20%20%20%20%20%20%20%20%20var%20circle_marker_636b6a1bb87443469b529cff3fa52657%20%3D%20L.circleMarker%28%0A%20%20%20%20%20%20%20%20%20%20%20%20%20%20%20%20%5B39.9269713114332%2C%20-75.15116236616241%5D%2C%0A%20%20%20%20%20%20%20%20%20%20%20%20%20%20%20%20%7B%22bubblingMouseEvents%22%3A%20true%2C%20%22color%22%3A%20%22%233388ff%22%2C%20%22dashArray%22%3A%20null%2C%20%22dashOffset%22%3A%20null%2C%20%22fill%22%3A%20true%2C%20%22fillColor%22%3A%20%22green%22%2C%20%22fillOpacity%22%3A%200.2%2C%20%22fillRule%22%3A%20%22evenodd%22%2C%20%22lineCap%22%3A%20%22round%22%2C%20%22lineJoin%22%3A%20%22round%22%2C%20%22opacity%22%3A%201.0%2C%20%22radius%22%3A%2010.0%2C%20%22stroke%22%3A%20true%2C%20%22weight%22%3A%203%7D%0A%20%20%20%20%20%20%20%20%20%20%20%20%29.addTo%28map_c239fe58d6db4565baaa547b4a3d333b%29%3B%0A%20%20%20%20%20%20%20%20%0A%20%20%20%20%0A%20%20%20%20%20%20%20%20var%20popup_49b4e63bf9314a66b518a9e8a4187c08%20%3D%20L.popup%28%7B%22maxWidth%22%3A%20%22100%25%22%7D%29%3B%0A%0A%20%20%20%20%20%20%20%20%0A%20%20%20%20%20%20%20%20%20%20%20%20var%20html_4ad2e99e84dc4f7bb844167a3f28be1b%20%3D%20%24%28%60%3Cdiv%20id%3D%22html_4ad2e99e84dc4f7bb844167a3f28be1b%22%20style%3D%22width%3A%20100.0%25%3B%20height%3A%20100.0%25%3B%22%3EDickinson%20Square%20Farmers%27%20Market%3C/div%3E%60%29%5B0%5D%3B%0A%20%20%20%20%20%20%20%20%20%20%20%20popup_49b4e63bf9314a66b518a9e8a4187c08.setContent%28html_4ad2e99e84dc4f7bb844167a3f28be1b%29%3B%0A%20%20%20%20%20%20%20%20%0A%0A%20%20%20%20%20%20%20%20circle_marker_636b6a1bb87443469b529cff3fa52657.bindPopup%28popup_49b4e63bf9314a66b518a9e8a4187c08%29%0A%20%20%20%20%20%20%20%20%3B%0A%0A%20%20%20%20%20%20%20%20%0A%20%20%20%20%0A%20%20%20%20%0A%20%20%20%20%20%20%20%20%20%20%20%20var%20circle_marker_91ccc7d7ad0146c9bb528937b898c351%20%3D%20L.circleMarker%28%0A%20%20%20%20%20%20%20%20%20%20%20%20%20%20%20%20%5B39.964905106540705%2C%20-75.2245930345067%5D%2C%0A%20%20%20%20%20%20%20%20%20%20%20%20%20%20%20%20%7B%22bubblingMouseEvents%22%3A%20true%2C%20%22color%22%3A%20%22%233388ff%22%2C%20%22dashArray%22%3A%20null%2C%20%22dashOffset%22%3A%20null%2C%20%22fill%22%3A%20true%2C%20%22fillColor%22%3A%20%22green%22%2C%20%22fillOpacity%22%3A%200.2%2C%20%22fillRule%22%3A%20%22evenodd%22%2C%20%22lineCap%22%3A%20%22round%22%2C%20%22lineJoin%22%3A%20%22round%22%2C%20%22opacity%22%3A%201.0%2C%20%22radius%22%3A%2010.0%2C%20%22stroke%22%3A%20true%2C%20%22weight%22%3A%203%7D%0A%20%20%20%20%20%20%20%20%20%20%20%20%29.addTo%28map_c239fe58d6db4565baaa547b4a3d333b%29%3B%0A%20%20%20%20%20%20%20%20%0A%20%20%20%20%0A%20%20%20%20%20%20%20%20var%20popup_e68e627e739a4e388017440697cc204b%20%3D%20L.popup%28%7B%22maxWidth%22%3A%20%22100%25%22%7D%29%3B%0A%0A%20%20%20%20%20%20%20%20%0A%20%20%20%20%20%20%20%20%20%20%20%20var%20html_43d57761bfb44e05bdb553583fce90bc%20%3D%20%24%28%60%3Cdiv%20id%3D%22html_43d57761bfb44e05bdb553583fce90bc%22%20style%3D%22width%3A%20100.0%25%3B%20height%3A%20100.0%25%3B%22%3E52nd%20%26%20Haverford%20Farmers%27%20Market%3C/div%3E%60%29%5B0%5D%3B%0A%20%20%20%20%20%20%20%20%20%20%20%20popup_e68e627e739a4e388017440697cc204b.setContent%28html_43d57761bfb44e05bdb553583fce90bc%29%3B%0A%20%20%20%20%20%20%20%20%0A%0A%20%20%20%20%20%20%20%20circle_marker_91ccc7d7ad0146c9bb528937b898c351.bindPopup%28popup_e68e627e739a4e388017440697cc204b%29%0A%20%20%20%20%20%20%20%20%3B%0A%0A%20%20%20%20%20%20%20%20%0A%20%20%20%20%0A%20%20%20%20%0A%20%20%20%20%20%20%20%20%20%20%20%20var%20circle_marker_f7b0b49eb2074eddb197ab3401242bb9%20%3D%20L.circleMarker%28%0A%20%20%20%20%20%20%20%20%20%20%20%20%20%20%20%20%5B39.9357418193926%2C%20-75.22853605914041%5D%2C%0A%20%20%20%20%20%20%20%20%20%20%20%20%20%20%20%20%7B%22bubblingMouseEvents%22%3A%20true%2C%20%22color%22%3A%20%22%233388ff%22%2C%20%22dashArray%22%3A%20null%2C%20%22dashOffset%22%3A%20null%2C%20%22fill%22%3A%20true%2C%20%22fillColor%22%3A%20%22green%22%2C%20%22fillOpacity%22%3A%200.2%2C%20%22fillRule%22%3A%20%22evenodd%22%2C%20%22lineCap%22%3A%20%22round%22%2C%20%22lineJoin%22%3A%20%22round%22%2C%20%22opacity%22%3A%201.0%2C%20%22radius%22%3A%2010.0%2C%20%22stroke%22%3A%20true%2C%20%22weight%22%3A%203%7D%0A%20%20%20%20%20%20%20%20%20%20%20%20%29.addTo%28map_c239fe58d6db4565baaa547b4a3d333b%29%3B%0A%20%20%20%20%20%20%20%20%0A%20%20%20%20%0A%20%20%20%20%20%20%20%20var%20popup_7033bdd5607c4259b2f5a167cddecf95%20%3D%20L.popup%28%7B%22maxWidth%22%3A%20%22100%25%22%7D%29%3B%0A%0A%20%20%20%20%20%20%20%20%0A%20%20%20%20%20%20%20%20%20%20%20%20var%20html_d55066435859412c8b0f3136290306d5%20%3D%20%24%28%60%3Cdiv%20id%3D%22html_d55066435859412c8b0f3136290306d5%22%20style%3D%22width%3A%20100.0%25%3B%20height%3A%20100.0%25%3B%22%3E58th%20%26%20Chester%20Farmers%27%20Market%3C/div%3E%60%29%5B0%5D%3B%0A%20%20%20%20%20%20%20%20%20%20%20%20popup_7033bdd5607c4259b2f5a167cddecf95.setContent%28html_d55066435859412c8b0f3136290306d5%29%3B%0A%20%20%20%20%20%20%20%20%0A%0A%20%20%20%20%20%20%20%20circle_marker_f7b0b49eb2074eddb197ab3401242bb9.bindPopup%28popup_7033bdd5607c4259b2f5a167cddecf95%29%0A%20%20%20%20%20%20%20%20%3B%0A%0A%20%20%20%20%20%20%20%20%0A%20%20%20%20%0A%20%20%20%20%0A%20%20%20%20%20%20%20%20%20%20%20%20var%20circle_marker_0f89c807d3c642fab40436434f796cca%20%3D%20L.circleMarker%28%0A%20%20%20%20%20%20%20%20%20%20%20%20%20%20%20%20%5B39.9479162667234%2C%20-75.2263305331802%5D%2C%0A%20%20%20%20%20%20%20%20%20%20%20%20%20%20%20%20%7B%22bubblingMouseEvents%22%3A%20true%2C%20%22color%22%3A%20%22%233388ff%22%2C%20%22dashArray%22%3A%20null%2C%20%22dashOffset%22%3A%20null%2C%20%22fill%22%3A%20true%2C%20%22fillColor%22%3A%20%22green%22%2C%20%22fillOpacity%22%3A%200.2%2C%20%22fillRule%22%3A%20%22evenodd%22%2C%20%22lineCap%22%3A%20%22round%22%2C%20%22lineJoin%22%3A%20%22round%22%2C%20%22opacity%22%3A%201.0%2C%20%22radius%22%3A%2010.0%2C%20%22stroke%22%3A%20true%2C%20%22weight%22%3A%203%7D%0A%20%20%20%20%20%20%20%20%20%20%20%20%29.addTo%28map_c239fe58d6db4565baaa547b4a3d333b%29%3B%0A%20%20%20%20%20%20%20%20%0A%20%20%20%20%0A%20%20%20%20%20%20%20%20var%20popup_4f9d7085bc2b40a7820062971052c2d4%20%3D%20L.popup%28%7B%22maxWidth%22%3A%20%22100%25%22%7D%29%3B%0A%0A%20%20%20%20%20%20%20%20%0A%20%20%20%20%20%20%20%20%20%20%20%20var%20html_71030e7901ca4ba89cbaf7861bc31703%20%3D%20%24%28%60%3Cdiv%20id%3D%22html_71030e7901ca4ba89cbaf7861bc31703%22%20style%3D%22width%3A%20100.0%25%3B%20height%3A%20100.0%25%3B%22%3EGreensgrow%20West%20Farm%20Stand%3C/div%3E%60%29%5B0%5D%3B%0A%20%20%20%20%20%20%20%20%20%20%20%20popup_4f9d7085bc2b40a7820062971052c2d4.setContent%28html_71030e7901ca4ba89cbaf7861bc31703%29%3B%0A%20%20%20%20%20%20%20%20%0A%0A%20%20%20%20%20%20%20%20circle_marker_0f89c807d3c642fab40436434f796cca.bindPopup%28popup_4f9d7085bc2b40a7820062971052c2d4%29%0A%20%20%20%20%20%20%20%20%3B%0A%0A%20%20%20%20%20%20%20%20%0A%20%20%20%20%0A%20%20%20%20%0A%20%20%20%20%20%20%20%20%20%20%20%20var%20circle_marker_b7cf1d47744f4386ac336652c495cf94%20%3D%20L.circleMarker%28%0A%20%20%20%20%20%20%20%20%20%20%20%20%20%20%20%20%5B39.988301990981896%2C%20-75.25345147252291%5D%2C%0A%20%20%20%20%20%20%20%20%20%20%20%20%20%20%20%20%7B%22bubblingMouseEvents%22%3A%20true%2C%20%22color%22%3A%20%22%233388ff%22%2C%20%22dashArray%22%3A%20null%2C%20%22dashOffset%22%3A%20null%2C%20%22fill%22%3A%20true%2C%20%22fillColor%22%3A%20%22green%22%2C%20%22fillOpacity%22%3A%200.2%2C%20%22fillRule%22%3A%20%22evenodd%22%2C%20%22lineCap%22%3A%20%22round%22%2C%20%22lineJoin%22%3A%20%22round%22%2C%20%22opacity%22%3A%201.0%2C%20%22radius%22%3A%2010.0%2C%20%22stroke%22%3A%20true%2C%20%22weight%22%3A%203%7D%0A%20%20%20%20%20%20%20%20%20%20%20%20%29.addTo%28map_c239fe58d6db4565baaa547b4a3d333b%29%3B%0A%20%20%20%20%20%20%20%20%0A%20%20%20%20%0A%20%20%20%20%20%20%20%20var%20popup_1a60800bea6042de82570ed44642430c%20%3D%20L.popup%28%7B%22maxWidth%22%3A%20%22100%25%22%7D%29%3B%0A%0A%20%20%20%20%20%20%20%20%0A%20%20%20%20%20%20%20%20%20%20%20%20var%20html_ce132e90630b4a96b3950a3a063b9122%20%3D%20%24%28%60%3Cdiv%20id%3D%22html_ce132e90630b4a96b3950a3a063b9122%22%20style%3D%22width%3A%20100.0%25%3B%20height%3A%20100.0%25%3B%22%3EOverbrook%20Farmers%27%20Market%3C/div%3E%60%29%5B0%5D%3B%0A%20%20%20%20%20%20%20%20%20%20%20%20popup_1a60800bea6042de82570ed44642430c.setContent%28html_ce132e90630b4a96b3950a3a063b9122%29%3B%0A%20%20%20%20%20%20%20%20%0A%0A%20%20%20%20%20%20%20%20circle_marker_b7cf1d47744f4386ac336652c495cf94.bindPopup%28popup_1a60800bea6042de82570ed44642430c%29%0A%20%20%20%20%20%20%20%20%3B%0A%0A%20%20%20%20%20%20%20%20%0A%20%20%20%20%0A%20%20%20%20%0A%20%20%20%20%20%20%20%20%20%20%20%20var%20circle_marker_80a0849afdb041d99728db2973ba366f%20%3D%20L.circleMarker%28%0A%20%20%20%20%20%20%20%20%20%20%20%20%20%20%20%20%5B39.953151326139604%2C%20-75.194789105576%5D%2C%0A%20%20%20%20%20%20%20%20%20%20%20%20%20%20%20%20%7B%22bubblingMouseEvents%22%3A%20true%2C%20%22color%22%3A%20%22%233388ff%22%2C%20%22dashArray%22%3A%20null%2C%20%22dashOffset%22%3A%20null%2C%20%22fill%22%3A%20true%2C%20%22fillColor%22%3A%20%22green%22%2C%20%22fillOpacity%22%3A%200.2%2C%20%22fillRule%22%3A%20%22evenodd%22%2C%20%22lineCap%22%3A%20%22round%22%2C%20%22lineJoin%22%3A%20%22round%22%2C%20%22opacity%22%3A%201.0%2C%20%22radius%22%3A%2010.0%2C%20%22stroke%22%3A%20true%2C%20%22weight%22%3A%203%7D%0A%20%20%20%20%20%20%20%20%20%20%20%20%29.addTo%28map_c239fe58d6db4565baaa547b4a3d333b%29%3B%0A%20%20%20%20%20%20%20%20%0A%20%20%20%20%0A%20%20%20%20%20%20%20%20var%20popup_126b2636bf17490e9d159170cad2534b%20%3D%20L.popup%28%7B%22maxWidth%22%3A%20%22100%25%22%7D%29%3B%0A%0A%20%20%20%20%20%20%20%20%0A%20%20%20%20%20%20%20%20%20%20%20%20var%20html_43a18120d6b3436db7c0611648f07172%20%3D%20%24%28%60%3Cdiv%20id%3D%22html_43a18120d6b3436db7c0611648f07172%22%20style%3D%22width%3A%20100.0%25%3B%20height%3A%20100.0%25%3B%22%3EUniversity%20Square%20Farmers%27%20Market%3C/div%3E%60%29%5B0%5D%3B%0A%20%20%20%20%20%20%20%20%20%20%20%20popup_126b2636bf17490e9d159170cad2534b.setContent%28html_43a18120d6b3436db7c0611648f07172%29%3B%0A%20%20%20%20%20%20%20%20%0A%0A%20%20%20%20%20%20%20%20circle_marker_80a0849afdb041d99728db2973ba366f.bindPopup%28popup_126b2636bf17490e9d159170cad2534b%29%0A%20%20%20%20%20%20%20%20%3B%0A%0A%20%20%20%20%20%20%20%20%0A%20%20%20%20%0A%20%20%20%20%0A%20%20%20%20%20%20%20%20%20%20%20%20var%20circle_marker_c223f5bac24042df99dcb33208b26b7c%20%3D%20L.circleMarker%28%0A%20%20%20%20%20%20%20%20%20%20%20%20%20%20%20%20%5B39.949550820199%2C%20-75.2092619487418%5D%2C%0A%20%20%20%20%20%20%20%20%20%20%20%20%20%20%20%20%7B%22bubblingMouseEvents%22%3A%20true%2C%20%22color%22%3A%20%22%233388ff%22%2C%20%22dashArray%22%3A%20null%2C%20%22dashOffset%22%3A%20null%2C%20%22fill%22%3A%20true%2C%20%22fillColor%22%3A%20%22green%22%2C%20%22fillOpacity%22%3A%200.2%2C%20%22fillRule%22%3A%20%22evenodd%22%2C%20%22lineCap%22%3A%20%22round%22%2C%20%22lineJoin%22%3A%20%22round%22%2C%20%22opacity%22%3A%201.0%2C%20%22radius%22%3A%2010.0%2C%20%22stroke%22%3A%20true%2C%20%22weight%22%3A%203%7D%0A%20%20%20%20%20%20%20%20%20%20%20%20%29.addTo%28map_c239fe58d6db4565baaa547b4a3d333b%29%3B%0A%20%20%20%20%20%20%20%20%0A%20%20%20%20%0A%20%20%20%20%20%20%20%20var%20popup_5c54e3fb3f074e83aba0c1c84e285c9b%20%3D%20L.popup%28%7B%22maxWidth%22%3A%20%22100%25%22%7D%29%3B%0A%0A%20%20%20%20%20%20%20%20%0A%20%20%20%20%20%20%20%20%20%20%20%20var%20html_d6e19cc673c84514b220c319975a000d%20%3D%20%24%28%60%3Cdiv%20id%3D%22html_d6e19cc673c84514b220c319975a000d%22%20style%3D%22width%3A%20100.0%25%3B%20height%3A%20100.0%25%3B%22%3EClark%20Park%20Farmer%27s%20Market%3C/div%3E%60%29%5B0%5D%3B%0A%20%20%20%20%20%20%20%20%20%20%20%20popup_5c54e3fb3f074e83aba0c1c84e285c9b.setContent%28html_d6e19cc673c84514b220c319975a000d%29%3B%0A%20%20%20%20%20%20%20%20%0A%0A%20%20%20%20%20%20%20%20circle_marker_c223f5bac24042df99dcb33208b26b7c.bindPopup%28popup_5c54e3fb3f074e83aba0c1c84e285c9b%29%0A%20%20%20%20%20%20%20%20%3B%0A%0A%20%20%20%20%20%20%20%20%0A%20%20%20%20%0A%20%20%20%20%0A%20%20%20%20%20%20%20%20%20%20%20%20var%20circle_marker_c4efcda9010743428a3c9d1779d1fb14%20%3D%20L.circleMarker%28%0A%20%20%20%20%20%20%20%20%20%20%20%20%20%20%20%20%5B39.932732222220295%2C%20-75.212075328766%5D%2C%0A%20%20%20%20%20%20%20%20%20%20%20%20%20%20%20%20%7B%22bubblingMouseEvents%22%3A%20true%2C%20%22color%22%3A%20%22%233388ff%22%2C%20%22dashArray%22%3A%20null%2C%20%22dashOffset%22%3A%20null%2C%20%22fill%22%3A%20true%2C%20%22fillColor%22%3A%20%22green%22%2C%20%22fillOpacity%22%3A%200.2%2C%20%22fillRule%22%3A%20%22evenodd%22%2C%20%22lineCap%22%3A%20%22round%22%2C%20%22lineJoin%22%3A%20%22round%22%2C%20%22opacity%22%3A%201.0%2C%20%22radius%22%3A%2010.0%2C%20%22stroke%22%3A%20true%2C%20%22weight%22%3A%203%7D%0A%20%20%20%20%20%20%20%20%20%20%20%20%29.addTo%28map_c239fe58d6db4565baaa547b4a3d333b%29%3B%0A%20%20%20%20%20%20%20%20%0A%20%20%20%20%0A%20%20%20%20%20%20%20%20var%20popup_b53e7ff77d034b77bd2f33b07e963a5d%20%3D%20L.popup%28%7B%22maxWidth%22%3A%20%22100%25%22%7D%29%3B%0A%0A%20%20%20%20%20%20%20%20%0A%20%20%20%20%20%20%20%20%20%20%20%20var%20html_0385adee8c034e42ac0bc0b1e19157f9%20%3D%20%24%28%60%3Cdiv%20id%3D%22html_0385adee8c034e42ac0bc0b1e19157f9%22%20style%3D%22width%3A%20100.0%25%3B%20height%3A%20100.0%25%3B%22%3ESankofa%20Community%20Farm%20at%20Bartram%27s%20Garden%20Farm%20Stand%3C/div%3E%60%29%5B0%5D%3B%0A%20%20%20%20%20%20%20%20%20%20%20%20popup_b53e7ff77d034b77bd2f33b07e963a5d.setContent%28html_0385adee8c034e42ac0bc0b1e19157f9%29%3B%0A%20%20%20%20%20%20%20%20%0A%0A%20%20%20%20%20%20%20%20circle_marker_c4efcda9010743428a3c9d1779d1fb14.bindPopup%28popup_b53e7ff77d034b77bd2f33b07e963a5d%29%0A%20%20%20%20%20%20%20%20%3B%0A%0A%20%20%20%20%20%20%20%20%0A%20%20%20%20%0A%20%20%20%20%0A%20%20%20%20%20%20%20%20%20%20%20%20var%20circle_marker_b16b31e612ea4d04b05b299f9af5d204%20%3D%20L.circleMarker%28%0A%20%20%20%20%20%20%20%20%20%20%20%20%20%20%20%20%5B39.9781118308627%2C%20-75.2131048466686%5D%2C%0A%20%20%20%20%20%20%20%20%20%20%20%20%20%20%20%20%7B%22bubblingMouseEvents%22%3A%20true%2C%20%22color%22%3A%20%22%233388ff%22%2C%20%22dashArray%22%3A%20null%2C%20%22dashOffset%22%3A%20null%2C%20%22fill%22%3A%20true%2C%20%22fillColor%22%3A%20%22green%22%2C%20%22fillOpacity%22%3A%200.2%2C%20%22fillRule%22%3A%20%22evenodd%22%2C%20%22lineCap%22%3A%20%22round%22%2C%20%22lineJoin%22%3A%20%22round%22%2C%20%22opacity%22%3A%201.0%2C%20%22radius%22%3A%2010.0%2C%20%22stroke%22%3A%20true%2C%20%22weight%22%3A%203%7D%0A%20%20%20%20%20%20%20%20%20%20%20%20%29.addTo%28map_c239fe58d6db4565baaa547b4a3d333b%29%3B%0A%20%20%20%20%20%20%20%20%0A%20%20%20%20%0A%20%20%20%20%20%20%20%20var%20popup_072336fc0d2345509f37c8e72b2ff22e%20%3D%20L.popup%28%7B%22maxWidth%22%3A%20%22100%25%22%7D%29%3B%0A%0A%20%20%20%20%20%20%20%20%0A%20%20%20%20%20%20%20%20%20%20%20%20var%20html_3ef6012084fd489b967e8123d01475cc%20%3D%20%24%28%60%3Cdiv%20id%3D%22html_3ef6012084fd489b967e8123d01475cc%22%20style%3D%22width%3A%20100.0%25%3B%20height%3A%20100.0%25%3B%22%3EEast%20Parkside%20Farmers%27%20Market%3C/div%3E%60%29%5B0%5D%3B%0A%20%20%20%20%20%20%20%20%20%20%20%20popup_072336fc0d2345509f37c8e72b2ff22e.setContent%28html_3ef6012084fd489b967e8123d01475cc%29%3B%0A%20%20%20%20%20%20%20%20%0A%0A%20%20%20%20%20%20%20%20circle_marker_b16b31e612ea4d04b05b299f9af5d204.bindPopup%28popup_072336fc0d2345509f37c8e72b2ff22e%29%0A%20%20%20%20%20%20%20%20%3B%0A%0A%20%20%20%20%20%20%20%20%0A%20%20%20%20%0A%3C/script%3E onload=\"this.contentDocument.open();this.contentDocument.write(    decodeURIComponent(this.getAttribute('data-html')));this.contentDocument.close();\" allowfullscreen webkitallowfullscreen mozallowfullscreen></iframe></div></div>"
      ],
      "text/plain": [
       "<datascience.maps.Map at 0x7f9118d95950>"
      ]
     },
     "execution_count": 36,
     "metadata": {},
     "output_type": "execute_result"
    }
   ],
   "source": [
    "data = data.relabeled('X','long').relabeled('Y','lat')\n",
    "FM_Philly = data.select('lat', 'long', 'NAME').relabel('NAME', 'labels')\n",
    "Circle.map_table(FM_Philly, color='green')"
   ]
  },
  {
   "cell_type": "markdown",
   "metadata": {},
   "source": [
    "### Palmer Penguins\n",
    "See: https://allisonhorst.github.io/palmerpenguins/"
   ]
  },
  {
   "cell_type": "code",
   "execution_count": 39,
   "metadata": {},
   "outputs": [
    {
     "data": {
      "text/html": [
       "<table border=\"1\" class=\"dataframe\">\n",
       "    <thead>\n",
       "        <tr>\n",
       "            <th>species</th> <th>island</th> <th>bill_length_mm</th> <th>bill_depth_mm</th> <th>flipper_length_mm</th> <th>body_mass_g</th> <th>sex</th>\n",
       "        </tr>\n",
       "    </thead>\n",
       "    <tbody>\n",
       "        <tr>\n",
       "            <td>Adelie </td> <td>Torgersen</td> <td>39.1          </td> <td>18.7         </td> <td>181              </td> <td>3750       </td> <td>MALE  </td>\n",
       "        </tr>\n",
       "        <tr>\n",
       "            <td>Adelie </td> <td>Torgersen</td> <td>39.5          </td> <td>17.4         </td> <td>186              </td> <td>3800       </td> <td>FEMALE</td>\n",
       "        </tr>\n",
       "        <tr>\n",
       "            <td>Adelie </td> <td>Torgersen</td> <td>40.3          </td> <td>18           </td> <td>195              </td> <td>3250       </td> <td>FEMALE</td>\n",
       "        </tr>\n",
       "        <tr>\n",
       "            <td>Adelie </td> <td>Torgersen</td> <td>nan           </td> <td>nan          </td> <td>nan              </td> <td>nan        </td> <td>nan   </td>\n",
       "        </tr>\n",
       "        <tr>\n",
       "            <td>Adelie </td> <td>Torgersen</td> <td>36.7          </td> <td>19.3         </td> <td>193              </td> <td>3450       </td> <td>FEMALE</td>\n",
       "        </tr>\n",
       "        <tr>\n",
       "            <td>Adelie </td> <td>Torgersen</td> <td>39.3          </td> <td>20.6         </td> <td>190              </td> <td>3650       </td> <td>MALE  </td>\n",
       "        </tr>\n",
       "        <tr>\n",
       "            <td>Adelie </td> <td>Torgersen</td> <td>38.9          </td> <td>17.8         </td> <td>181              </td> <td>3625       </td> <td>FEMALE</td>\n",
       "        </tr>\n",
       "        <tr>\n",
       "            <td>Adelie </td> <td>Torgersen</td> <td>39.2          </td> <td>19.6         </td> <td>195              </td> <td>4675       </td> <td>MALE  </td>\n",
       "        </tr>\n",
       "        <tr>\n",
       "            <td>Adelie </td> <td>Torgersen</td> <td>34.1          </td> <td>18.1         </td> <td>193              </td> <td>3475       </td> <td>nan   </td>\n",
       "        </tr>\n",
       "        <tr>\n",
       "            <td>Adelie </td> <td>Torgersen</td> <td>42            </td> <td>20.2         </td> <td>190              </td> <td>4250       </td> <td>nan   </td>\n",
       "        </tr>\n",
       "    </tbody>\n",
       "</table>\n",
       "<p>... (334 rows omitted)</p>"
      ],
      "text/plain": [
       "species | island    | bill_length_mm | bill_depth_mm | flipper_length_mm | body_mass_g | sex\n",
       "Adelie  | Torgersen | 39.1           | 18.7          | 181               | 3750        | MALE\n",
       "Adelie  | Torgersen | 39.5           | 17.4          | 186               | 3800        | FEMALE\n",
       "Adelie  | Torgersen | 40.3           | 18            | 195               | 3250        | FEMALE\n",
       "Adelie  | Torgersen | nan            | nan           | nan               | nan         | nan\n",
       "Adelie  | Torgersen | 36.7           | 19.3          | 193               | 3450        | FEMALE\n",
       "Adelie  | Torgersen | 39.3           | 20.6          | 190               | 3650        | MALE\n",
       "Adelie  | Torgersen | 38.9           | 17.8          | 181               | 3625        | FEMALE\n",
       "Adelie  | Torgersen | 39.2           | 19.6          | 195               | 4675        | MALE\n",
       "Adelie  | Torgersen | 34.1           | 18.1          | 193               | 3475        | nan\n",
       "Adelie  | Torgersen | 42             | 20.2          | 190               | 4250        | nan\n",
       "... (334 rows omitted)"
      ]
     },
     "execution_count": 39,
     "metadata": {},
     "output_type": "execute_result"
    }
   ],
   "source": [
    "url = \"https://raw.githubusercontent.com/mwaskom/seaborn-data/master/penguins.csv\"\n",
    "data = Table.read_table(url)\n",
    "data"
   ]
  },
  {
   "cell_type": "markdown",
   "metadata": {},
   "source": [
    "### Jeopardy\n",
    "see: https://www.jeopardy.com"
   ]
  },
  {
   "cell_type": "code",
   "execution_count": 42,
   "metadata": {},
   "outputs": [],
   "source": [
    "contestant = \"https://raw.githubusercontent.com/anuparna/jeopardy/master/dataset/contestants.csv\"\n",
    "locations =  \"https://raw.githubusercontent.com/anuparna/jeopardy/master/dataset/locations.csv\"\n",
    "results =  \"https://raw.githubusercontent.com/anuparna/jeopardy/master/dataset/final_results.csv\"\n",
    "loc = Table.read_table(locations)\n",
    "contest = Table.read_table(contestant)\n",
    "outcome = Table.read_table(results)"
   ]
  },
  {
   "cell_type": "code",
   "execution_count": 43,
   "metadata": {},
   "outputs": [
    {
     "data": {
      "text/html": [
       "<table border=\"1\" class=\"dataframe\">\n",
       "    <thead>\n",
       "        <tr>\n",
       "            <th>game_id</th> <th>player_id</th> <th>seat_location</th> <th>season</th>\n",
       "        </tr>\n",
       "    </thead>\n",
       "    <tbody>\n",
       "        <tr>\n",
       "            <td>5635   </td> <td>11367    </td> <td>right          </td> <td>33    </td>\n",
       "        </tr>\n",
       "        <tr>\n",
       "            <td>5635   </td> <td>11368    </td> <td>middle         </td> <td>33    </td>\n",
       "        </tr>\n",
       "        <tr>\n",
       "            <td>5635   </td> <td>11363    </td> <td>returning_champ</td> <td>33    </td>\n",
       "        </tr>\n",
       "        <tr>\n",
       "            <td>5634   </td> <td>11365    </td> <td>right          </td> <td>33    </td>\n",
       "        </tr>\n",
       "        <tr>\n",
       "            <td>5634   </td> <td>11366    </td> <td>middle         </td> <td>33    </td>\n",
       "        </tr>\n",
       "        <tr>\n",
       "            <td>5634   </td> <td>11363    </td> <td>returning_champ</td> <td>33    </td>\n",
       "        </tr>\n",
       "        <tr>\n",
       "            <td>5633   </td> <td>11363    </td> <td>right          </td> <td>33    </td>\n",
       "        </tr>\n",
       "        <tr>\n",
       "            <td>5633   </td> <td>11364    </td> <td>middle         </td> <td>33    </td>\n",
       "        </tr>\n",
       "        <tr>\n",
       "            <td>5633   </td> <td>11359    </td> <td>returning_champ</td> <td>33    </td>\n",
       "        </tr>\n",
       "        <tr>\n",
       "            <td>5631   </td> <td>11359    </td> <td>right          </td> <td>33    </td>\n",
       "        </tr>\n",
       "    </tbody>\n",
       "</table>\n",
       "<p>... (12002 rows omitted)</p>"
      ],
      "text/plain": [
       "game_id | player_id | seat_location   | season\n",
       "5635    | 11367     | right           | 33\n",
       "5635    | 11368     | middle          | 33\n",
       "5635    | 11363     | returning_champ | 33\n",
       "5634    | 11365     | right           | 33\n",
       "5634    | 11366     | middle          | 33\n",
       "5634    | 11363     | returning_champ | 33\n",
       "5633    | 11363     | right           | 33\n",
       "5633    | 11364     | middle          | 33\n",
       "5633    | 11359     | returning_champ | 33\n",
       "5631    | 11359     | right           | 33\n",
       "... (12002 rows omitted)"
      ]
     },
     "execution_count": 43,
     "metadata": {},
     "output_type": "execute_result"
    }
   ],
   "source": [
    "loc"
   ]
  },
  {
   "cell_type": "code",
   "execution_count": 44,
   "metadata": {},
   "outputs": [
    {
     "data": {
      "text/html": [
       "<table border=\"1\" class=\"dataframe\">\n",
       "    <thead>\n",
       "        <tr>\n",
       "            <th>player_id</th> <th>player_first_name</th> <th>player_last_name</th> <th>hometown_city</th> <th>hometown_state</th> <th>occupation</th>\n",
       "        </tr>\n",
       "    </thead>\n",
       "    <tbody>\n",
       "        <tr>\n",
       "            <td>11367    </td> <td>Seth             </td> <td>Madej           </td> <td>Los Angeles  </td> <td>California    </td> <td>a writer                               </td>\n",
       "        </tr>\n",
       "        <tr>\n",
       "            <td>11368    </td> <td>Rich             </td> <td>Steeves         </td> <td>Norwalk      </td> <td>Connecticut   </td> <td>a manager of commercial support content</td>\n",
       "        </tr>\n",
       "        <tr>\n",
       "            <td>11363    </td> <td>Ragavan          </td> <td>Ramsubramani    </td> <td>New York     </td> <td>New York      </td> <td>a financial analyst                    </td>\n",
       "        </tr>\n",
       "        <tr>\n",
       "            <td>11365    </td> <td>Laura            </td> <td>Spoelstra       </td> <td>San Jose     </td> <td>California    </td> <td>a library media center technician      </td>\n",
       "        </tr>\n",
       "        <tr>\n",
       "            <td>11366    </td> <td>Erin             </td> <td>Wilson          </td> <td>Baltimore    </td> <td>Maryland      </td> <td>a professor                            </td>\n",
       "        </tr>\n",
       "        <tr>\n",
       "            <td>11363    </td> <td>Ragavan          </td> <td>Ramsubramani    </td> <td>New York     </td> <td>New York      </td> <td>a financial analyst                    </td>\n",
       "        </tr>\n",
       "        <tr>\n",
       "            <td>11363    </td> <td>Ragavan          </td> <td>Ramsubramani    </td> <td>New York     </td> <td>New York      </td> <td>a financial analyst                    </td>\n",
       "        </tr>\n",
       "        <tr>\n",
       "            <td>11364    </td> <td>Krista           </td> <td>Denn            </td> <td>Brooklyn Park</td> <td>Minnesota     </td> <td>a human resources manager              </td>\n",
       "        </tr>\n",
       "        <tr>\n",
       "            <td>11359    </td> <td>Liz              </td> <td>Fischer         </td> <td>Philadelphia </td> <td>Pennsylvania  </td> <td>an attorney                            </td>\n",
       "        </tr>\n",
       "        <tr>\n",
       "            <td>11359    </td> <td>Liz              </td> <td>Fischer         </td> <td>Philadelphia </td> <td>Pennsylvania  </td> <td>an attorney                            </td>\n",
       "        </tr>\n",
       "    </tbody>\n",
       "</table>\n",
       "<p>... (12002 rows omitted)</p>"
      ],
      "text/plain": [
       "player_id | player_first_name | player_last_name | hometown_city | hometown_state | occupation\n",
       "11367     | Seth              | Madej            | Los Angeles   | California     | a writer\n",
       "11368     | Rich              | Steeves          | Norwalk       | Connecticut    | a manager of commercial support content\n",
       "11363     | Ragavan           | Ramsubramani     | New York      | New York       | a financial analyst\n",
       "11365     | Laura             | Spoelstra        | San Jose      | California     | a library media center technician\n",
       "11366     | Erin              | Wilson           | Baltimore     | Maryland       | a professor\n",
       "11363     | Ragavan           | Ramsubramani     | New York      | New York       | a financial analyst\n",
       "11363     | Ragavan           | Ramsubramani     | New York      | New York       | a financial analyst\n",
       "11364     | Krista            | Denn             | Brooklyn Park | Minnesota      | a human resources manager\n",
       "11359     | Liz               | Fischer          | Philadelphia  | Pennsylvania   | an attorney\n",
       "11359     | Liz               | Fischer          | Philadelphia  | Pennsylvania   | an attorney\n",
       "... (12002 rows omitted)"
      ]
     },
     "execution_count": 44,
     "metadata": {},
     "output_type": "execute_result"
    }
   ],
   "source": [
    "contest"
   ]
  },
  {
   "cell_type": "code",
   "execution_count": 45,
   "metadata": {},
   "outputs": [],
   "source": [
    "games = loc.join(\"player_id\",contest)"
   ]
  },
  {
   "cell_type": "code",
   "execution_count": 46,
   "metadata": {},
   "outputs": [
    {
     "data": {
      "text/html": [
       "<table border=\"1\" class=\"dataframe\">\n",
       "    <thead>\n",
       "        <tr>\n",
       "            <th>player_id</th> <th>game_id</th> <th>seat_location</th> <th>season</th> <th>player_first_name</th> <th>player_last_name</th> <th>hometown_city</th> <th>hometown_state</th> <th>occupation</th>\n",
       "        </tr>\n",
       "    </thead>\n",
       "    <tbody>\n",
       "        <tr>\n",
       "            <td>1        </td> <td>62     </td> <td>returning_champ</td> <td>21    </td> <td>Ken              </td> <td>Jennings        </td> <td>Salt Lake City</td> <td>Utah          </td> <td>a software engineer</td>\n",
       "        </tr>\n",
       "        <tr>\n",
       "            <td>1        </td> <td>62     </td> <td>returning_champ</td> <td>21    </td> <td>Ken              </td> <td>Jennings        </td> <td>Salt Lake City</td> <td>Utah          </td> <td>a software engineer</td>\n",
       "        </tr>\n",
       "        <tr>\n",
       "            <td>1        </td> <td>62     </td> <td>returning_champ</td> <td>21    </td> <td>Ken              </td> <td>Jennings        </td> <td>Salt Lake City</td> <td>Utah          </td> <td>a software engineer</td>\n",
       "        </tr>\n",
       "        <tr>\n",
       "            <td>1        </td> <td>62     </td> <td>returning_champ</td> <td>21    </td> <td>Ken              </td> <td>Jennings        </td> <td>Salt Lake City</td> <td>Utah          </td> <td>a software engineer</td>\n",
       "        </tr>\n",
       "        <tr>\n",
       "            <td>1        </td> <td>62     </td> <td>returning_champ</td> <td>21    </td> <td>Ken              </td> <td>Jennings        </td> <td>Salt Lake City</td> <td>Utah          </td> <td>a software engineer</td>\n",
       "        </tr>\n",
       "        <tr>\n",
       "            <td>1        </td> <td>62     </td> <td>returning_champ</td> <td>21    </td> <td>Ken              </td> <td>Jennings        </td> <td>Salt Lake City</td> <td>Utah          </td> <td>a software engineer</td>\n",
       "        </tr>\n",
       "        <tr>\n",
       "            <td>1        </td> <td>62     </td> <td>returning_champ</td> <td>21    </td> <td>Ken              </td> <td>Jennings        </td> <td>Salt Lake City</td> <td>Utah          </td> <td>a software engineer</td>\n",
       "        </tr>\n",
       "        <tr>\n",
       "            <td>1        </td> <td>62     </td> <td>returning_champ</td> <td>21    </td> <td>Ken              </td> <td>Jennings        </td> <td>Salt Lake City</td> <td>Utah          </td> <td>a software engineer</td>\n",
       "        </tr>\n",
       "        <tr>\n",
       "            <td>1        </td> <td>62     </td> <td>returning_champ</td> <td>21    </td> <td>Ken              </td> <td>Jennings        </td> <td>Salt Lake City</td> <td>Utah          </td> <td>a software engineer</td>\n",
       "        </tr>\n",
       "        <tr>\n",
       "            <td>1        </td> <td>62     </td> <td>returning_champ</td> <td>21    </td> <td>Ken              </td> <td>Jennings        </td> <td>Salt Lake City</td> <td>Utah          </td> <td>a software engineer</td>\n",
       "        </tr>\n",
       "    </tbody>\n",
       "</table>\n",
       "<p>... (32906 rows omitted)</p>"
      ],
      "text/plain": [
       "player_id | game_id | seat_location   | season | player_first_name | player_last_name | hometown_city  | hometown_state | occupation\n",
       "1         | 62      | returning_champ | 21     | Ken               | Jennings         | Salt Lake City | Utah           | a software engineer\n",
       "1         | 62      | returning_champ | 21     | Ken               | Jennings         | Salt Lake City | Utah           | a software engineer\n",
       "1         | 62      | returning_champ | 21     | Ken               | Jennings         | Salt Lake City | Utah           | a software engineer\n",
       "1         | 62      | returning_champ | 21     | Ken               | Jennings         | Salt Lake City | Utah           | a software engineer\n",
       "1         | 62      | returning_champ | 21     | Ken               | Jennings         | Salt Lake City | Utah           | a software engineer\n",
       "1         | 62      | returning_champ | 21     | Ken               | Jennings         | Salt Lake City | Utah           | a software engineer\n",
       "1         | 62      | returning_champ | 21     | Ken               | Jennings         | Salt Lake City | Utah           | a software engineer\n",
       "1         | 62      | returning_champ | 21     | Ken               | Jennings         | Salt Lake City | Utah           | a software engineer\n",
       "1         | 62      | returning_champ | 21     | Ken               | Jennings         | Salt Lake City | Utah           | a software engineer\n",
       "1         | 62      | returning_champ | 21     | Ken               | Jennings         | Salt Lake City | Utah           | a software engineer\n",
       "... (32906 rows omitted)"
      ]
     },
     "execution_count": 46,
     "metadata": {},
     "output_type": "execute_result"
    }
   ],
   "source": [
    "games"
   ]
  },
  {
   "cell_type": "markdown",
   "metadata": {},
   "source": [
    "### Exoplanets observed by Kepler telescope"
   ]
  },
  {
   "cell_type": "code",
   "execution_count": 47,
   "metadata": {},
   "outputs": [
    {
     "data": {
      "text/html": [
       "<table border=\"1\" class=\"dataframe\">\n",
       "    <thead>\n",
       "        <tr>\n",
       "            <th># name</th> <th>planet_status</th> <th>mass</th> <th>mass_error_min</th> <th>mass_error_max</th> <th>mass_sini</th> <th>mass_sini_error_min</th> <th>mass_sini_error_max</th> <th>radius</th> <th>radius_error_min</th> <th>radius_error_max</th> <th>orbital_period</th> <th>orbital_period_error_min</th> <th>orbital_period_error_max</th> <th>semi_major_axis</th> <th>semi_major_axis_error_min</th> <th>semi_major_axis_error_max</th> <th>eccentricity</th> <th>eccentricity_error_min</th> <th>eccentricity_error_max</th> <th>inclination</th> <th>inclination_error_min</th> <th>inclination_error_max</th> <th>angular_distance</th> <th>discovered</th> <th>updated</th> <th>omega</th> <th>omega_error_min</th> <th>omega_error_max</th> <th>tperi</th> <th>tperi_error_min</th> <th>tperi_error_max</th> <th>tconj</th> <th>tconj_error_min</th> <th>tconj_error_max</th> <th>tzero_tr</th> <th>tzero_tr_error_min</th> <th>tzero_tr_error_max</th> <th>tzero_tr_sec</th> <th>tzero_tr_sec_error_min</th> <th>tzero_tr_sec_error_max</th> <th>lambda_angle</th> <th>lambda_angle_error_min</th> <th>lambda_angle_error_max</th> <th>impact_parameter</th> <th>impact_parameter_error_min</th> <th>impact_parameter_error_max</th> <th>tzero_vr</th> <th>tzero_vr_error_min</th> <th>tzero_vr_error_max</th> <th>k</th> <th>k_error_min</th> <th>k_error_max</th> <th>temp_calculated</th> <th>temp_calculated_error_min</th> <th>temp_calculated_error_max</th> <th>temp_measured</th> <th>hot_point_lon</th> <th>geometric_albedo</th> <th>geometric_albedo_error_min</th> <th>geometric_albedo_error_max</th> <th>log_g</th> <th>publication_status</th> <th>detection_type</th> <th>mass_detection_type</th> <th>radius_detection_type</th> <th>alternate_names</th> <th>molecules</th> <th>star_name</th> <th>ra</th> <th>dec</th> <th>mag_v</th> <th>mag_i</th> <th>mag_j</th> <th>mag_h</th> <th>mag_k</th> <th>star_distance</th> <th>star_distance_error_min</th> <th>star_distance_error_max</th> <th>star_metallicity</th> <th>star_metallicity_error_min</th> <th>star_metallicity_error_max</th> <th>star_mass</th> <th>star_mass_error_min</th> <th>star_mass_error_max</th> <th>star_radius</th> <th>star_radius_error_min</th> <th>star_radius_error_max</th> <th>star_sp_type</th> <th>star_age</th> <th>star_age_error_min</th> <th>star_age_error_max</th> <th>star_teff</th> <th>star_teff_error_min</th> <th>star_teff_error_max</th> <th>star_detected_disc</th> <th>star_magnetic_field</th> <th>star_alternate_names</th>\n",
       "        </tr>\n",
       "    </thead>\n",
       "    <tbody>\n",
       "        <tr>\n",
       "            <td> OGLE-2016-BLG-1469L b</td> <td>Confirmed    </td> <td>13.6</td> <td>3             </td> <td>3             </td> <td>nan      </td> <td>nan                </td> <td>nan                </td> <td>nan   </td> <td>nan             </td> <td>nan             </td> <td>nan           </td> <td>nan                     </td> <td>nan                     </td> <td>0.33           </td> <td>0.04                     </td> <td>0.04                     </td> <td>nan         </td> <td>nan                   </td> <td>nan                   </td> <td>nan        </td> <td>nan                  </td> <td>nan                  </td> <td>nan             </td> <td>2017      </td> <td>2017-08-19</td> <td>nan   </td> <td>nan            </td> <td>nan            </td> <td>nan        </td> <td>nan            </td> <td>nan            </td> <td>nan  </td> <td>nan            </td> <td>nan            </td> <td>nan     </td> <td>nan               </td> <td>nan               </td> <td>nan         </td> <td>nan                   </td> <td>nan                   </td> <td>nan         </td> <td>nan                   </td> <td>nan                   </td> <td>nan             </td> <td>nan                       </td> <td>nan                       </td> <td>nan     </td> <td>nan               </td> <td>nan               </td> <td>nan  </td> <td>nan        </td> <td>nan        </td> <td>nan            </td> <td>nan                      </td> <td>nan                      </td> <td>nan          </td> <td>nan          </td> <td>nan             </td> <td>nan                       </td> <td>nan                       </td> <td>nan  </td> <td>Published in a refereed paper</td> <td>Microlensing   </td> <td>Microlensing       </td> <td>nan                  </td> <td>nan                                                         </td> <td>nan       </td> <td>OGLE-2016-BLG-1469L</td> <td>271.946</td> <td>-26.2899</td> <td>nan  </td> <td>nan  </td> <td>nan  </td> <td>nan  </td> <td>nan  </td> <td>4500         </td> <td>nan                    </td> <td>nan                    </td> <td>nan             </td> <td>nan                       </td> <td>nan                       </td> <td>0.048    </td> <td>0.007              </td> <td>0.007              </td> <td>nan        </td> <td>nan                  </td> <td>nan                  </td> <td>nan         </td> <td>nan     </td> <td>nan               </td> <td>nan               </td> <td>nan      </td> <td>nan                </td> <td>nan                </td> <td>nan               </td> <td>nan                </td> <td>nan                 </td>\n",
       "        </tr>\n",
       "        <tr>\n",
       "            <td>11 Com b              </td> <td>Confirmed    </td> <td>19.4</td> <td>1.5           </td> <td>1.5           </td> <td>19.4     </td> <td>1.5                </td> <td>1.5                </td> <td>nan   </td> <td>nan             </td> <td>nan             </td> <td>326.03        </td> <td>0.32                    </td> <td>0.32                    </td> <td>1.29           </td> <td>0.05                     </td> <td>0.05                     </td> <td>0.231       </td> <td>0.005                 </td> <td>0.005                 </td> <td>nan        </td> <td>nan                  </td> <td>nan                  </td> <td>0.011664        </td> <td>2008      </td> <td>2015-08-21</td> <td>94.8  </td> <td>1.5            </td> <td>1.5            </td> <td>2.4529e+06 </td> <td>1.6            </td> <td>1.6            </td> <td>nan  </td> <td>nan            </td> <td>nan            </td> <td>nan     </td> <td>nan               </td> <td>nan               </td> <td>nan         </td> <td>nan                   </td> <td>nan                   </td> <td>nan         </td> <td>nan                   </td> <td>nan                   </td> <td>nan             </td> <td>nan                       </td> <td>nan                       </td> <td>nan     </td> <td>nan               </td> <td>nan               </td> <td>296.7</td> <td>5.6        </td> <td>5.6        </td> <td>nan            </td> <td>nan                      </td> <td>nan                      </td> <td>nan          </td> <td>nan          </td> <td>nan             </td> <td>nan                       </td> <td>nan                       </td> <td>nan  </td> <td>Published in a refereed paper</td> <td>Radial Velocity</td> <td>nan                </td> <td>nan                  </td> <td>nan                                                         </td> <td>nan       </td> <td>11 Com             </td> <td>185.179</td> <td>17.7928 </td> <td>4.74 </td> <td>nan  </td> <td>nan  </td> <td>nan  </td> <td>nan  </td> <td>110.6        </td> <td>10.5                   </td> <td>10.5                   </td> <td>-0.35           </td> <td>0.09                      </td> <td>0.09                      </td> <td>2.7      </td> <td>0.3                </td> <td>0.3                </td> <td>19         </td> <td>2                    </td> <td>2                    </td> <td>G8 III      </td> <td>nan     </td> <td>nan               </td> <td>nan               </td> <td>4742     </td> <td>100                </td> <td>100                </td> <td>nan               </td> <td>nan                </td> <td>nan                 </td>\n",
       "        </tr>\n",
       "        <tr>\n",
       "            <td>11 Oph b              </td> <td>Confirmed    </td> <td>21  </td> <td>3             </td> <td>3             </td> <td>nan      </td> <td>nan                </td> <td>nan                </td> <td>nan   </td> <td>nan             </td> <td>nan             </td> <td>730000        </td> <td>365000                  </td> <td>365000                  </td> <td>243            </td> <td>55                       </td> <td>55                       </td> <td>nan         </td> <td>nan                   </td> <td>nan                   </td> <td>nan        </td> <td>nan                  </td> <td>nan                  </td> <td>1.67586         </td> <td>2007      </td> <td>2016-02-26</td> <td>nan   </td> <td>nan            </td> <td>nan            </td> <td>nan        </td> <td>nan            </td> <td>nan            </td> <td>nan  </td> <td>nan            </td> <td>nan            </td> <td>nan     </td> <td>nan               </td> <td>nan               </td> <td>nan         </td> <td>nan                   </td> <td>nan                   </td> <td>nan         </td> <td>nan                   </td> <td>nan                   </td> <td>nan             </td> <td>nan                       </td> <td>nan                       </td> <td>nan     </td> <td>nan               </td> <td>nan               </td> <td>nan  </td> <td>nan        </td> <td>nan        </td> <td>nan            </td> <td>nan                      </td> <td>nan                      </td> <td>nan          </td> <td>nan          </td> <td>nan             </td> <td>nan                       </td> <td>nan                       </td> <td>nan  </td> <td>Published in a refereed paper</td> <td>Imaging        </td> <td>nan                </td> <td>nan                  </td> <td>nan                                                         </td> <td>nan       </td> <td>11 Oph             </td> <td>245.604</td> <td>-24.0872</td> <td>nan  </td> <td>nan  </td> <td>nan  </td> <td>nan  </td> <td>14.03</td> <td>145          </td> <td>20                     </td> <td>20                     </td> <td>nan             </td> <td>nan                       </td> <td>nan                       </td> <td>0.0162   </td> <td>0.005              </td> <td>0.005              </td> <td>nan        </td> <td>nan                  </td> <td>nan                  </td> <td>M9          </td> <td>0.011   </td> <td>0.002             </td> <td>0.002             </td> <td>2375     </td> <td>175                </td> <td>175                </td> <td>nan               </td> <td>nan                </td> <td>nan                 </td>\n",
       "        </tr>\n",
       "        <tr>\n",
       "            <td>11 UMi b              </td> <td>Confirmed    </td> <td>10.5</td> <td>2.47          </td> <td>2.47          </td> <td>10.5     </td> <td>2.47               </td> <td>2.47               </td> <td>nan   </td> <td>nan             </td> <td>nan             </td> <td>516.22        </td> <td>3.25                    </td> <td>3.25                    </td> <td>1.54           </td> <td>0.07                     </td> <td>0.07                     </td> <td>0.08        </td> <td>0.03                  </td> <td>0.03                  </td> <td>nan        </td> <td>nan                  </td> <td>nan                  </td> <td>0.012887        </td> <td>2009      </td> <td>2009-08-13</td> <td>117.63</td> <td>21.06          </td> <td>21.06          </td> <td>2.45286e+06</td> <td>2.06           </td> <td>2.06           </td> <td>nan  </td> <td>nan            </td> <td>nan            </td> <td>nan     </td> <td>nan               </td> <td>nan               </td> <td>nan         </td> <td>nan                   </td> <td>nan                   </td> <td>nan         </td> <td>nan                   </td> <td>nan                   </td> <td>nan             </td> <td>nan                       </td> <td>nan                       </td> <td>nan     </td> <td>nan               </td> <td>nan               </td> <td>nan  </td> <td>nan        </td> <td>nan        </td> <td>nan            </td> <td>nan                      </td> <td>nan                      </td> <td>nan          </td> <td>nan          </td> <td>nan             </td> <td>nan                       </td> <td>nan                       </td> <td>nan  </td> <td>Published in a refereed paper</td> <td>Radial Velocity</td> <td>nan                </td> <td>nan                  </td> <td>nan                                                         </td> <td>nan       </td> <td>11 UMi             </td> <td>229.275</td> <td>71.8239 </td> <td>5.02 </td> <td>nan  </td> <td>nan  </td> <td>nan  </td> <td>nan  </td> <td>119.5        </td> <td>6.9                    </td> <td>6.9                    </td> <td>0.04            </td> <td>0.04                      </td> <td>0.04                      </td> <td>1.8      </td> <td>0.25               </td> <td>0.25               </td> <td>24.08      </td> <td>1.84                 </td> <td>1.84                 </td> <td>K4III       </td> <td>1.56    </td> <td>0.54              </td> <td>0.54              </td> <td>4340     </td> <td>70                 </td> <td>70                 </td> <td>nan               </td> <td>nan                </td> <td>nan                 </td>\n",
       "        </tr>\n",
       "        <tr>\n",
       "            <td>14 And b              </td> <td>Confirmed    </td> <td>5.33</td> <td>0.57          </td> <td>0.57          </td> <td>5.33     </td> <td>0.57               </td> <td>0.57               </td> <td>nan   </td> <td>nan             </td> <td>nan             </td> <td>185.84        </td> <td>0.23                    </td> <td>0.23                    </td> <td>0.83           </td> <td>nan                      </td> <td>nan                      </td> <td>0           </td> <td>nan                   </td> <td>nan                   </td> <td>nan        </td> <td>nan                  </td> <td>nan                  </td> <td>0.010864        </td> <td>2008      </td> <td>2014-08-27</td> <td>nan   </td> <td>nan            </td> <td>nan            </td> <td>2.45286e+06</td> <td>1.5            </td> <td>1.5            </td> <td>nan  </td> <td>nan            </td> <td>nan            </td> <td>nan     </td> <td>nan               </td> <td>nan               </td> <td>nan         </td> <td>nan                   </td> <td>nan                   </td> <td>nan         </td> <td>nan                   </td> <td>nan                   </td> <td>nan             </td> <td>nan                       </td> <td>nan                       </td> <td>nan     </td> <td>nan               </td> <td>nan               </td> <td>nan  </td> <td>nan        </td> <td>nan        </td> <td>nan            </td> <td>nan                      </td> <td>nan                      </td> <td>nan          </td> <td>nan          </td> <td>nan             </td> <td>nan                       </td> <td>nan                       </td> <td>nan  </td> <td>Published in a refereed paper</td> <td>Radial Velocity</td> <td>nan                </td> <td>nan                  </td> <td>nan                                                         </td> <td>nan       </td> <td>14 And             </td> <td>352.821</td> <td>39.2361 </td> <td>5.22 </td> <td>4.1  </td> <td>3.02 </td> <td>2.61 </td> <td>2.33 </td> <td>76.4         </td> <td>4.1                    </td> <td>4.1                    </td> <td>-0.24           </td> <td>nan                       </td> <td>nan                       </td> <td>2.2      </td> <td>0.2                </td> <td>0.2                </td> <td>11         </td> <td>1                    </td> <td>1                    </td> <td>K0III       </td> <td>nan     </td> <td>nan               </td> <td>nan               </td> <td>4813     </td> <td>20                 </td> <td>20                 </td> <td>nan               </td> <td>nan                </td> <td>nan                 </td>\n",
       "        </tr>\n",
       "        <tr>\n",
       "            <td>14 Her b              </td> <td>Confirmed    </td> <td>4.64</td> <td>0.19          </td> <td>0.19          </td> <td>4.64     </td> <td>0.19               </td> <td>0.19               </td> <td>nan   </td> <td>nan             </td> <td>nan             </td> <td>1773.4        </td> <td>2.5                     </td> <td>2.5                     </td> <td>2.77           </td> <td>0.05                     </td> <td>0.05                     </td> <td>0.369       </td> <td>0.005                 </td> <td>0.005                 </td> <td>nan        </td> <td>nan                  </td> <td>nan                  </td> <td>0.153039        </td> <td>2002      </td> <td>2014-08-27</td> <td>22.6  </td> <td>0.9            </td> <td>0.9            </td> <td>2.45137e+06</td> <td>3.6            </td> <td>3.6            </td> <td>nan  </td> <td>nan            </td> <td>nan            </td> <td>nan     </td> <td>nan               </td> <td>nan               </td> <td>nan         </td> <td>nan                   </td> <td>nan                   </td> <td>nan         </td> <td>nan                   </td> <td>nan                   </td> <td>nan             </td> <td>nan                       </td> <td>nan                       </td> <td>nan     </td> <td>nan               </td> <td>nan               </td> <td>nan  </td> <td>nan        </td> <td>nan        </td> <td>nan            </td> <td>nan                      </td> <td>nan                      </td> <td>nan          </td> <td>nan          </td> <td>nan             </td> <td>nan                       </td> <td>nan                       </td> <td>nan  </td> <td>Published in a refereed paper</td> <td>Radial Velocity</td> <td>nan                </td> <td>nan                  </td> <td>nan                                                         </td> <td>nan       </td> <td>14 Her             </td> <td>242.596</td> <td>43.8217 </td> <td>6.67 </td> <td>nan  </td> <td>nan  </td> <td>nan  </td> <td>nan  </td> <td>18.1         </td> <td>nan                    </td> <td>nan                    </td> <td>0.43            </td> <td>0.08                      </td> <td>0.08                      </td> <td>0.9      </td> <td>nan                </td> <td>nan                </td> <td>0.708      </td> <td>0.085                </td> <td>0.085                </td> <td>K0 V        </td> <td>5.1     </td> <td>nan               </td> <td>nan               </td> <td>5311     </td> <td>87                 </td> <td>87                 </td> <td>nan               </td> <td>nan                </td> <td>nan                 </td>\n",
       "        </tr>\n",
       "        <tr>\n",
       "            <td>16 Cyg B b            </td> <td>Confirmed    </td> <td>1.68</td> <td>0.07          </td> <td>0.07          </td> <td>1.68     </td> <td>0.07               </td> <td>0.07               </td> <td>nan   </td> <td>nan             </td> <td>nan             </td> <td>799.5         </td> <td>0.6                     </td> <td>0.6                     </td> <td>1.68           </td> <td>0.03                     </td> <td>0.03                     </td> <td>0.689       </td> <td>0.011                 </td> <td>0.011                 </td> <td>nan        </td> <td>nan                  </td> <td>nan                  </td> <td>0.078468        </td> <td>1996      </td> <td>2014-08-27</td> <td>83.4  </td> <td>2.1            </td> <td>2.1            </td> <td>2.45054e+06</td> <td>1.6            </td> <td>1.6            </td> <td>nan  </td> <td>nan            </td> <td>nan            </td> <td>nan     </td> <td>nan               </td> <td>nan               </td> <td>nan         </td> <td>nan                   </td> <td>nan                   </td> <td>nan         </td> <td>nan                   </td> <td>nan                   </td> <td>nan             </td> <td>nan                       </td> <td>nan                       </td> <td>nan     </td> <td>nan               </td> <td>nan               </td> <td>nan  </td> <td>nan        </td> <td>nan        </td> <td>nan            </td> <td>nan                      </td> <td>nan                      </td> <td>nan          </td> <td>nan          </td> <td>nan             </td> <td>nan                       </td> <td>nan                       </td> <td>nan  </td> <td>Published in a refereed paper</td> <td>Radial Velocity</td> <td>nan                </td> <td>nan                  </td> <td>nan                                                         </td> <td>nan       </td> <td>16 Cyg B           </td> <td>295.462</td> <td>50.5175 </td> <td>6.2  </td> <td>nan  </td> <td>nan  </td> <td>nan  </td> <td>nan  </td> <td>21.41        </td> <td>0.24                   </td> <td>0.24                   </td> <td>0.08            </td> <td>0.04                      </td> <td>0.04                      </td> <td>1.01     </td> <td>0.04               </td> <td>0.04               </td> <td>0.98       </td> <td>0.13                 </td> <td>0.13                 </td> <td>G2.5 V      </td> <td>8       </td> <td>1.8               </td> <td>1.8               </td> <td>5766     </td> <td>60                 </td> <td>60                 </td> <td>nan               </td> <td>nan                </td> <td>nan                 </td>\n",
       "        </tr>\n",
       "        <tr>\n",
       "            <td>18 Del b              </td> <td>Confirmed    </td> <td>10.3</td> <td>nan           </td> <td>nan           </td> <td>10.3     </td> <td>nan                </td> <td>nan                </td> <td>nan   </td> <td>nan             </td> <td>nan             </td> <td>993.3         </td> <td>3.2                     </td> <td>3.2                     </td> <td>2.6            </td> <td>nan                      </td> <td>nan                      </td> <td>0.08        </td> <td>0.01                  </td> <td>0.01                  </td> <td>nan        </td> <td>nan                  </td> <td>nan                  </td> <td>0.035568        </td> <td>2008      </td> <td>2014-08-27</td> <td>166.1 </td> <td>6.5            </td> <td>6.5            </td> <td>2.45167e+06</td> <td>18             </td> <td>18             </td> <td>nan  </td> <td>nan            </td> <td>nan            </td> <td>nan     </td> <td>nan               </td> <td>nan               </td> <td>nan         </td> <td>nan                   </td> <td>nan                   </td> <td>nan         </td> <td>nan                   </td> <td>nan                   </td> <td>nan             </td> <td>nan                       </td> <td>nan                       </td> <td>nan     </td> <td>nan               </td> <td>nan               </td> <td>nan  </td> <td>nan        </td> <td>nan        </td> <td>nan            </td> <td>nan                      </td> <td>nan                      </td> <td>nan          </td> <td>nan          </td> <td>nan             </td> <td>nan                       </td> <td>nan                       </td> <td>nan  </td> <td>Published in a refereed paper</td> <td>Radial Velocity</td> <td>nan                </td> <td>nan                  </td> <td>nan                                                         </td> <td>nan       </td> <td>18 Del             </td> <td>314.608</td> <td>10.8392 </td> <td>5.52 </td> <td>nan  </td> <td>4.03 </td> <td>3.44 </td> <td>3.67 </td> <td>73.1         </td> <td>3.5                    </td> <td>3.5                    </td> <td>-0.052          </td> <td>0.023                     </td> <td>0.023                     </td> <td>2.3      </td> <td>nan                </td> <td>nan                </td> <td>8.5        </td> <td>nan                  </td> <td>nan                  </td> <td>G6III       </td> <td>nan     </td> <td>nan               </td> <td>nan               </td> <td>4979     </td> <td>18                 </td> <td>18                 </td> <td>nan               </td> <td>nan                </td> <td>nan                 </td>\n",
       "        </tr>\n",
       "        <tr>\n",
       "            <td>1I/2017 U1            </td> <td>Confirmed    </td> <td>nan </td> <td>nan           </td> <td>nan           </td> <td>nan      </td> <td>nan                </td> <td>nan                </td> <td>2e-06 </td> <td>nan             </td> <td>nan             </td> <td>nan           </td> <td>nan                     </td> <td>nan                     </td> <td>nan            </td> <td>nan                      </td> <td>nan                      </td> <td>1.196       </td> <td>0.004                 </td> <td>0.004                 </td> <td>nan        </td> <td>nan                  </td> <td>nan                  </td> <td>nan             </td> <td>2017      </td> <td>2017-11-29</td> <td>241.5 </td> <td>0.3            </td> <td>0.3            </td> <td>2.45806e+06</td> <td>nan            </td> <td>nan            </td> <td>nan  </td> <td>nan            </td> <td>nan            </td> <td>nan     </td> <td>nan               </td> <td>nan               </td> <td>nan         </td> <td>nan                   </td> <td>nan                   </td> <td>nan         </td> <td>nan                   </td> <td>nan                   </td> <td>nan             </td> <td>nan                       </td> <td>nan                       </td> <td>nan     </td> <td>nan               </td> <td>nan               </td> <td>nan  </td> <td>nan        </td> <td>nan        </td> <td>nan            </td> <td>nan                      </td> <td>nan                      </td> <td>nan          </td> <td>nan          </td> <td>nan             </td> <td>nan                       </td> <td>nan                       </td> <td>nan  </td> <td>Published in a refereed paper</td> <td>Imaging        </td> <td>nan                </td> <td>Theoretical          </td> <td>1I/'Oumuamua                                                </td> <td>nan       </td> <td>Sun                </td> <td>0      </td> <td>0       </td> <td>nan  </td> <td>nan  </td> <td>nan  </td> <td>nan  </td> <td>nan  </td> <td>nan          </td> <td>nan                    </td> <td>nan                    </td> <td>nan             </td> <td>nan                       </td> <td>nan                       </td> <td>1        </td> <td>nan                </td> <td>nan                </td> <td>1          </td> <td>nan                  </td> <td>nan                  </td> <td>nan         </td> <td>nan     </td> <td>nan               </td> <td>nan               </td> <td>nan      </td> <td>nan                </td> <td>nan                </td> <td>nan               </td> <td>nan                </td> <td>nan                 </td>\n",
       "        </tr>\n",
       "        <tr>\n",
       "            <td>1RXS 1609 b           </td> <td>Confirmed    </td> <td>14  </td> <td>3             </td> <td>2             </td> <td>nan      </td> <td>nan                </td> <td>nan                </td> <td>1.7   </td> <td>nan             </td> <td>nan             </td> <td>nan           </td> <td>nan                     </td> <td>nan                     </td> <td>330            </td> <td>0                        </td> <td>0                        </td> <td>nan         </td> <td>nan                   </td> <td>nan                   </td> <td>nan        </td> <td>nan                  </td> <td>nan                  </td> <td>2.27586         </td> <td>2008      </td> <td>2015-03-05</td> <td>nan   </td> <td>nan            </td> <td>nan            </td> <td>nan        </td> <td>nan            </td> <td>nan            </td> <td>nan  </td> <td>nan            </td> <td>nan            </td> <td>nan     </td> <td>nan               </td> <td>nan               </td> <td>nan         </td> <td>nan                   </td> <td>nan                   </td> <td>nan         </td> <td>nan                   </td> <td>nan                   </td> <td>nan             </td> <td>nan                       </td> <td>nan                       </td> <td>nan     </td> <td>nan               </td> <td>nan               </td> <td>nan  </td> <td>nan        </td> <td>nan        </td> <td>nan            </td> <td>nan                      </td> <td>nan                      </td> <td>1800         </td> <td>nan          </td> <td>nan             </td> <td>nan                       </td> <td>nan                       </td> <td>4    </td> <td>Published in a refereed paper</td> <td>Imaging        </td> <td>nan                </td> <td>nan                  </td> <td>RXJ 1609, 1RXS J1609-2105b, 1RXS J1609b, 1RXS J160929.1- ...</td> <td>H2O, CO, K</td> <td>1RXS1609           </td> <td>242.375</td> <td>-21.0828</td> <td>nan  </td> <td>10.99</td> <td>9.82 </td> <td>9.12 </td> <td>8.92 </td> <td>145          </td> <td>20                     </td> <td>20                     </td> <td>nan             </td> <td>nan                       </td> <td>nan                       </td> <td>0.73     </td> <td>0.05               </td> <td>0.05               </td> <td>1.35       </td> <td>nan                  </td> <td>nan                  </td> <td>K7V         </td> <td>0.011   </td> <td>0.002             </td> <td>0.002             </td> <td>4060     </td> <td>200                </td> <td>200                </td> <td>nan               </td> <td>nan                </td> <td>nan                 </td>\n",
       "        </tr>\n",
       "    </tbody>\n",
       "</table>\n",
       "<p>... (3722 rows omitted)</p>"
      ],
      "text/plain": [
       "# name                 | planet_status | mass | mass_error_min | mass_error_max | mass_sini | mass_sini_error_min | mass_sini_error_max | radius | radius_error_min | radius_error_max | orbital_period | orbital_period_error_min | orbital_period_error_max | semi_major_axis | semi_major_axis_error_min | semi_major_axis_error_max | eccentricity | eccentricity_error_min | eccentricity_error_max | inclination | inclination_error_min | inclination_error_max | angular_distance | discovered | updated    | omega  | omega_error_min | omega_error_max | tperi       | tperi_error_min | tperi_error_max | tconj | tconj_error_min | tconj_error_max | tzero_tr | tzero_tr_error_min | tzero_tr_error_max | tzero_tr_sec | tzero_tr_sec_error_min | tzero_tr_sec_error_max | lambda_angle | lambda_angle_error_min | lambda_angle_error_max | impact_parameter | impact_parameter_error_min | impact_parameter_error_max | tzero_vr | tzero_vr_error_min | tzero_vr_error_max | k     | k_error_min | k_error_max | temp_calculated | temp_calculated_error_min | temp_calculated_error_max | temp_measured | hot_point_lon | geometric_albedo | geometric_albedo_error_min | geometric_albedo_error_max | log_g | publication_status            | detection_type  | mass_detection_type | radius_detection_type | alternate_names                                              | molecules  | star_name           | ra      | dec      | mag_v | mag_i | mag_j | mag_h | mag_k | star_distance | star_distance_error_min | star_distance_error_max | star_metallicity | star_metallicity_error_min | star_metallicity_error_max | star_mass | star_mass_error_min | star_mass_error_max | star_radius | star_radius_error_min | star_radius_error_max | star_sp_type | star_age | star_age_error_min | star_age_error_max | star_teff | star_teff_error_min | star_teff_error_max | star_detected_disc | star_magnetic_field | star_alternate_names\n",
       " OGLE-2016-BLG-1469L b | Confirmed     | 13.6 | 3              | 3              | nan       | nan                 | nan                 | nan    | nan              | nan              | nan            | nan                      | nan                      | 0.33            | 0.04                      | 0.04                      | nan          | nan                    | nan                    | nan         | nan                   | nan                   | nan              | 2017       | 2017-08-19 | nan    | nan             | nan             | nan         | nan             | nan             | nan   | nan             | nan             | nan      | nan                | nan                | nan          | nan                    | nan                    | nan          | nan                    | nan                    | nan              | nan                        | nan                        | nan      | nan                | nan                | nan   | nan         | nan         | nan             | nan                       | nan                       | nan           | nan           | nan              | nan                        | nan                        | nan   | Published in a refereed paper | Microlensing    | Microlensing        | nan                   | nan                                                          | nan        | OGLE-2016-BLG-1469L | 271.946 | -26.2899 | nan   | nan   | nan   | nan   | nan   | 4500          | nan                     | nan                     | nan              | nan                        | nan                        | 0.048     | 0.007               | 0.007               | nan         | nan                   | nan                   | nan          | nan      | nan                | nan                | nan       | nan                 | nan                 | nan                | nan                 | nan\n",
       "11 Com b               | Confirmed     | 19.4 | 1.5            | 1.5            | 19.4      | 1.5                 | 1.5                 | nan    | nan              | nan              | 326.03         | 0.32                     | 0.32                     | 1.29            | 0.05                      | 0.05                      | 0.231        | 0.005                  | 0.005                  | nan         | nan                   | nan                   | 0.011664         | 2008       | 2015-08-21 | 94.8   | 1.5             | 1.5             | 2.4529e+06  | 1.6             | 1.6             | nan   | nan             | nan             | nan      | nan                | nan                | nan          | nan                    | nan                    | nan          | nan                    | nan                    | nan              | nan                        | nan                        | nan      | nan                | nan                | 296.7 | 5.6         | 5.6         | nan             | nan                       | nan                       | nan           | nan           | nan              | nan                        | nan                        | nan   | Published in a refereed paper | Radial Velocity | nan                 | nan                   | nan                                                          | nan        | 11 Com              | 185.179 | 17.7928  | 4.74  | nan   | nan   | nan   | nan   | 110.6         | 10.5                    | 10.5                    | -0.35            | 0.09                       | 0.09                       | 2.7       | 0.3                 | 0.3                 | 19          | 2                     | 2                     | G8 III       | nan      | nan                | nan                | 4742      | 100                 | 100                 | nan                | nan                 | nan\n",
       "11 Oph b               | Confirmed     | 21   | 3              | 3              | nan       | nan                 | nan                 | nan    | nan              | nan              | 730000         | 365000                   | 365000                   | 243             | 55                        | 55                        | nan          | nan                    | nan                    | nan         | nan                   | nan                   | 1.67586          | 2007       | 2016-02-26 | nan    | nan             | nan             | nan         | nan             | nan             | nan   | nan             | nan             | nan      | nan                | nan                | nan          | nan                    | nan                    | nan          | nan                    | nan                    | nan              | nan                        | nan                        | nan      | nan                | nan                | nan   | nan         | nan         | nan             | nan                       | nan                       | nan           | nan           | nan              | nan                        | nan                        | nan   | Published in a refereed paper | Imaging         | nan                 | nan                   | nan                                                          | nan        | 11 Oph              | 245.604 | -24.0872 | nan   | nan   | nan   | nan   | 14.03 | 145           | 20                      | 20                      | nan              | nan                        | nan                        | 0.0162    | 0.005               | 0.005               | nan         | nan                   | nan                   | M9           | 0.011    | 0.002              | 0.002              | 2375      | 175                 | 175                 | nan                | nan                 | nan\n",
       "11 UMi b               | Confirmed     | 10.5 | 2.47           | 2.47           | 10.5      | 2.47                | 2.47                | nan    | nan              | nan              | 516.22         | 3.25                     | 3.25                     | 1.54            | 0.07                      | 0.07                      | 0.08         | 0.03                   | 0.03                   | nan         | nan                   | nan                   | 0.012887         | 2009       | 2009-08-13 | 117.63 | 21.06           | 21.06           | 2.45286e+06 | 2.06            | 2.06            | nan   | nan             | nan             | nan      | nan                | nan                | nan          | nan                    | nan                    | nan          | nan                    | nan                    | nan              | nan                        | nan                        | nan      | nan                | nan                | nan   | nan         | nan         | nan             | nan                       | nan                       | nan           | nan           | nan              | nan                        | nan                        | nan   | Published in a refereed paper | Radial Velocity | nan                 | nan                   | nan                                                          | nan        | 11 UMi              | 229.275 | 71.8239  | 5.02  | nan   | nan   | nan   | nan   | 119.5         | 6.9                     | 6.9                     | 0.04             | 0.04                       | 0.04                       | 1.8       | 0.25                | 0.25                | 24.08       | 1.84                  | 1.84                  | K4III        | 1.56     | 0.54               | 0.54               | 4340      | 70                  | 70                  | nan                | nan                 | nan\n",
       "14 And b               | Confirmed     | 5.33 | 0.57           | 0.57           | 5.33      | 0.57                | 0.57                | nan    | nan              | nan              | 185.84         | 0.23                     | 0.23                     | 0.83            | nan                       | nan                       | 0            | nan                    | nan                    | nan         | nan                   | nan                   | 0.010864         | 2008       | 2014-08-27 | nan    | nan             | nan             | 2.45286e+06 | 1.5             | 1.5             | nan   | nan             | nan             | nan      | nan                | nan                | nan          | nan                    | nan                    | nan          | nan                    | nan                    | nan              | nan                        | nan                        | nan      | nan                | nan                | nan   | nan         | nan         | nan             | nan                       | nan                       | nan           | nan           | nan              | nan                        | nan                        | nan   | Published in a refereed paper | Radial Velocity | nan                 | nan                   | nan                                                          | nan        | 14 And              | 352.821 | 39.2361  | 5.22  | 4.1   | 3.02  | 2.61  | 2.33  | 76.4          | 4.1                     | 4.1                     | -0.24            | nan                        | nan                        | 2.2       | 0.2                 | 0.2                 | 11          | 1                     | 1                     | K0III        | nan      | nan                | nan                | 4813      | 20                  | 20                  | nan                | nan                 | nan\n",
       "14 Her b               | Confirmed     | 4.64 | 0.19           | 0.19           | 4.64      | 0.19                | 0.19                | nan    | nan              | nan              | 1773.4         | 2.5                      | 2.5                      | 2.77            | 0.05                      | 0.05                      | 0.369        | 0.005                  | 0.005                  | nan         | nan                   | nan                   | 0.153039         | 2002       | 2014-08-27 | 22.6   | 0.9             | 0.9             | 2.45137e+06 | 3.6             | 3.6             | nan   | nan             | nan             | nan      | nan                | nan                | nan          | nan                    | nan                    | nan          | nan                    | nan                    | nan              | nan                        | nan                        | nan      | nan                | nan                | nan   | nan         | nan         | nan             | nan                       | nan                       | nan           | nan           | nan              | nan                        | nan                        | nan   | Published in a refereed paper | Radial Velocity | nan                 | nan                   | nan                                                          | nan        | 14 Her              | 242.596 | 43.8217  | 6.67  | nan   | nan   | nan   | nan   | 18.1          | nan                     | nan                     | 0.43             | 0.08                       | 0.08                       | 0.9       | nan                 | nan                 | 0.708       | 0.085                 | 0.085                 | K0 V         | 5.1      | nan                | nan                | 5311      | 87                  | 87                  | nan                | nan                 | nan\n",
       "16 Cyg B b             | Confirmed     | 1.68 | 0.07           | 0.07           | 1.68      | 0.07                | 0.07                | nan    | nan              | nan              | 799.5          | 0.6                      | 0.6                      | 1.68            | 0.03                      | 0.03                      | 0.689        | 0.011                  | 0.011                  | nan         | nan                   | nan                   | 0.078468         | 1996       | 2014-08-27 | 83.4   | 2.1             | 2.1             | 2.45054e+06 | 1.6             | 1.6             | nan   | nan             | nan             | nan      | nan                | nan                | nan          | nan                    | nan                    | nan          | nan                    | nan                    | nan              | nan                        | nan                        | nan      | nan                | nan                | nan   | nan         | nan         | nan             | nan                       | nan                       | nan           | nan           | nan              | nan                        | nan                        | nan   | Published in a refereed paper | Radial Velocity | nan                 | nan                   | nan                                                          | nan        | 16 Cyg B            | 295.462 | 50.5175  | 6.2   | nan   | nan   | nan   | nan   | 21.41         | 0.24                    | 0.24                    | 0.08             | 0.04                       | 0.04                       | 1.01      | 0.04                | 0.04                | 0.98        | 0.13                  | 0.13                  | G2.5 V       | 8        | 1.8                | 1.8                | 5766      | 60                  | 60                  | nan                | nan                 | nan\n",
       "18 Del b               | Confirmed     | 10.3 | nan            | nan            | 10.3      | nan                 | nan                 | nan    | nan              | nan              | 993.3          | 3.2                      | 3.2                      | 2.6             | nan                       | nan                       | 0.08         | 0.01                   | 0.01                   | nan         | nan                   | nan                   | 0.035568         | 2008       | 2014-08-27 | 166.1  | 6.5             | 6.5             | 2.45167e+06 | 18              | 18              | nan   | nan             | nan             | nan      | nan                | nan                | nan          | nan                    | nan                    | nan          | nan                    | nan                    | nan              | nan                        | nan                        | nan      | nan                | nan                | nan   | nan         | nan         | nan             | nan                       | nan                       | nan           | nan           | nan              | nan                        | nan                        | nan   | Published in a refereed paper | Radial Velocity | nan                 | nan                   | nan                                                          | nan        | 18 Del              | 314.608 | 10.8392  | 5.52  | nan   | 4.03  | 3.44  | 3.67  | 73.1          | 3.5                     | 3.5                     | -0.052           | 0.023                      | 0.023                      | 2.3       | nan                 | nan                 | 8.5         | nan                   | nan                   | G6III        | nan      | nan                | nan                | 4979      | 18                  | 18                  | nan                | nan                 | nan\n",
       "1I/2017 U1             | Confirmed     | nan  | nan            | nan            | nan       | nan                 | nan                 | 2e-06  | nan              | nan              | nan            | nan                      | nan                      | nan             | nan                       | nan                       | 1.196        | 0.004                  | 0.004                  | nan         | nan                   | nan                   | nan              | 2017       | 2017-11-29 | 241.5  | 0.3             | 0.3             | 2.45806e+06 | nan             | nan             | nan   | nan             | nan             | nan      | nan                | nan                | nan          | nan                    | nan                    | nan          | nan                    | nan                    | nan              | nan                        | nan                        | nan      | nan                | nan                | nan   | nan         | nan         | nan             | nan                       | nan                       | nan           | nan           | nan              | nan                        | nan                        | nan   | Published in a refereed paper | Imaging         | nan                 | Theoretical           | 1I/'Oumuamua                                                 | nan        | Sun                 | 0       | 0        | nan   | nan   | nan   | nan   | nan   | nan           | nan                     | nan                     | nan              | nan                        | nan                        | 1         | nan                 | nan                 | 1           | nan                   | nan                   | nan          | nan      | nan                | nan                | nan       | nan                 | nan                 | nan                | nan                 | nan\n",
       "1RXS 1609 b            | Confirmed     | 14   | 3              | 2              | nan       | nan                 | nan                 | 1.7    | nan              | nan              | nan            | nan                      | nan                      | 330             | 0                         | 0                         | nan          | nan                    | nan                    | nan         | nan                   | nan                   | 2.27586          | 2008       | 2015-03-05 | nan    | nan             | nan             | nan         | nan             | nan             | nan   | nan             | nan             | nan      | nan                | nan                | nan          | nan                    | nan                    | nan          | nan                    | nan                    | nan              | nan                        | nan                        | nan      | nan                | nan                | nan   | nan         | nan         | nan             | nan                       | nan                       | 1800          | nan           | nan              | nan                        | nan                        | 4     | Published in a refereed paper | Imaging         | nan                 | nan                   | RXJ 1609, 1RXS J1609-2105b, 1RXS J1609b, 1RXS J160929.1- ... | H2O, CO, K | 1RXS1609            | 242.375 | -21.0828 | nan   | 10.99 | 9.82  | 9.12  | 8.92  | 145           | 20                      | 20                      | nan              | nan                        | nan                        | 0.73      | 0.05                | 0.05                | 1.35        | nan                   | nan                   | K7V          | 0.011    | 0.002              | 0.002              | 4060      | 200                 | 200                 | nan                | nan                 | nan\n",
       "... (3722 rows omitted)"
      ]
     },
     "execution_count": 47,
     "metadata": {},
     "output_type": "execute_result"
    }
   ],
   "source": [
    "url = \"https://raw.githubusercontent.com/DataScienceTempleFirst/code-cod/main/kepler.csv\"\n",
    "data = Table.read_table(url)\n",
    "data"
   ]
  },
  {
   "cell_type": "markdown",
   "metadata": {},
   "source": [
    "### Molecular acid dissociation constant, pKa data\n",
    "See: https://github.com/samplchallenges/SAMPL7/tree/master/physical_property/pKa\n",
    "SMILES is a representaion of chemical structure."
   ]
  },
  {
   "cell_type": "code",
   "execution_count": 52,
   "metadata": {},
   "outputs": [
    {
     "data": {
      "text/html": [
       "<table border=\"1\" class=\"dataframe\">\n",
       "    <thead>\n",
       "        <tr>\n",
       "            <th>SMILES</th> <th>CASRN</th> <th>RECORDID</th> <th>MOLECULEID</th> <th>EXTERNALID</th> <th>N</th> <th>NAME</th> <th>NAME.1</th> <th>INTRODUCER</th> <th>MODIFIER</th> <th>ARTICLEID</th> <th>PUBMEDID</th> <th>PAGE</th> <th>TABLE</th> <th>pKa (smiles as ob. cond.) {measured}</th> <th>UNIT {pKa (smiles as ob. cond.)}</th> <th>pKa (smiles as ob. cond.) {measured, converted}</th> <th>UNIT {pKa (smiles as ob. cond.)}.1</th> <th>Temperature</th> <th>UNIT {Temperature}</th> <th>Ionizable centre (smiles)</th> <th>IC group given</th> <th>IC index predicted</th> <th>pKa predicted value 2</th> <th>UNIT {pKa predicted value 2}</th> <th>pKa predicted value</th> <th>UNIT {pKa predicted value}</th> <th>IC smiles given</th> <th>AtomNR of IC</th> <th>groupsAndICs</th> <th>COMMENTS</th> <th>INCHI_KEY</th>\n",
       "        </tr>\n",
       "    </thead>\n",
       "    <tbody>\n",
       "        <tr>\n",
       "            <td>OC(=O)C(C1=CC=CC=C1)C1=CC=CC=C1   </td> <td>117-34-0</td> <td>R2182353</td> <td>M8924     </td> <td>-         </td> <td>44  </td> <td>diphenylacetic acid                  </td> <td>-     </td> <td>Koerner   </td> <td>Koerner </td> <td>A3183    </td> <td>-       </td> <td>467 </td> <td>6    </td> <td>3.94                                </td> <td>Log unit                        </td> <td>3.94                                           </td> <td>Log unit                          </td> <td>25         </td> <td>?C                </td> <td>O=C(O)C(c1ccccc1)c1ccccc1     </td> <td>aliph. carboxylic acid</td> <td>nan               </td> <td>nan                  </td> <td>-                           </td> <td>nan                </td> <td>-                         </td> <td>nan            </td> <td>nan         </td> <td>nan         </td> <td>-       </td> <td>PYHXGXCGESYPCW-UHFFFAOYSA</td>\n",
       "        </tr>\n",
       "        <tr>\n",
       "            <td>C[C@H](OC1=C(Cl)C=C(Cl)C=C1)C(O)=O</td> <td>120-36-5</td> <td>R2182354</td> <td>M130897   </td> <td>-         </td> <td>45  </td> <td>2-(2,4-DICHLOROPHENOXY)PROPANOIC ACID</td> <td>-     </td> <td>Koerner   </td> <td>Koerner </td> <td>A3183    </td> <td>-       </td> <td>467 </td> <td>6    </td> <td>3.1                                 </td> <td>Log unit                        </td> <td>3.1                                            </td> <td>Log unit                          </td> <td>nan        </td> <td>-                 </td> <td>O=C(O)C(Oc1c(Cl)cc(cc1)Cl)C   </td> <td>aliph. carboxylic acid</td> <td>nan               </td> <td>nan                  </td> <td>-                           </td> <td>nan                </td> <td>-                         </td> <td>nan            </td> <td>nan         </td> <td>nan         </td> <td>-       </td> <td>MZHCENGPTKEIGP-YFKPBYRVSA</td>\n",
       "        </tr>\n",
       "        <tr>\n",
       "            <td>OC(=O)COC1=CC=C(Cl)C=C1           </td> <td>122-88-3</td> <td>R2182355</td> <td>M10518    </td> <td>-         </td> <td>46  </td> <td>p-Chlorophenoxyacetic acid           </td> <td>-     </td> <td>Koerner   </td> <td>Koerner </td> <td>A3183    </td> <td>-       </td> <td>467 </td> <td>6    </td> <td>3.1                                 </td> <td>Log unit                        </td> <td>3.1                                            </td> <td>Log unit                          </td> <td>25         </td> <td>?C                </td> <td>O=C(O)COc1ccc(Cl)cc1          </td> <td>aliph. carboxylic acid</td> <td>nan               </td> <td>nan                  </td> <td>-                           </td> <td>nan                </td> <td>-                         </td> <td>nan            </td> <td>nan         </td> <td>nan         </td> <td>-       </td> <td>SODPIMGUZLOIPE-UHFFFAOYSA</td>\n",
       "        </tr>\n",
       "        <tr>\n",
       "            <td>OC(=O)COC1=CC=CC=C1               </td> <td>122-59-8</td> <td>R2182356</td> <td>M6066     </td> <td>-         </td> <td>47  </td> <td>phenoxyacetic acid                   </td> <td>-     </td> <td>Koerner   </td> <td>Koerner </td> <td>A3183    </td> <td>-       </td> <td>467 </td> <td>6    </td> <td>3.17                                </td> <td>Log unit                        </td> <td>3.17                                           </td> <td>Log unit                          </td> <td>25         </td> <td>?C                </td> <td>O=C(O)COc1ccccc1              </td> <td>aliph. carboxylic acid</td> <td>nan               </td> <td>nan                  </td> <td>-                           </td> <td>nan                </td> <td>-                         </td> <td>nan            </td> <td>nan         </td> <td>nan         </td> <td>-       </td> <td>LCPDWSOZIOUXRV-UHFFFAOYSA</td>\n",
       "        </tr>\n",
       "        <tr>\n",
       "            <td>CC(=O)CCC(O)=O                    </td> <td>123-76-2</td> <td>R2182357</td> <td>M19168    </td> <td>-         </td> <td>48  </td> <td>LEVULINIC ACID                       </td> <td>-     </td> <td>Koerner   </td> <td>Koerner </td> <td>A3183    </td> <td>-       </td> <td>467 </td> <td>6    </td> <td>4.64                                </td> <td>Log unit                        </td> <td>4.64                                           </td> <td>Log unit                          </td> <td>18         </td> <td>?C                </td> <td>O=C(O)CCC(=O)C                </td> <td>aliph. carboxylic acid</td> <td>nan               </td> <td>nan                  </td> <td>-                           </td> <td>nan                </td> <td>-                         </td> <td>nan            </td> <td>nan         </td> <td>nan         </td> <td>-       </td> <td>JOOXCMJARBKPKM-UHFFFAOYSA</td>\n",
       "        </tr>\n",
       "        <tr>\n",
       "            <td>OC(=O)CC(O)=O                     </td> <td>141-82-2</td> <td>R2182358</td> <td>M7880     </td> <td>-         </td> <td>49  </td> <td>malonic acid                         </td> <td>-     </td> <td>Koerner   </td> <td>Koerner </td> <td>A3183    </td> <td>-       </td> <td>467 </td> <td>6    </td> <td>2.85                                </td> <td>Log unit                        </td> <td>2.85                                           </td> <td>Log unit                          </td> <td>25         </td> <td>?C                </td> <td>O=C(O)CC(=O)O                 </td> <td>aliph. carboxylic acid</td> <td>nan               </td> <td>nan                  </td> <td>-                           </td> <td>nan                </td> <td>-                         </td> <td>nan            </td> <td>nan         </td> <td>nan         </td> <td>-       </td> <td>OFOBLEOULBTSOW-UHFFFAOYSA</td>\n",
       "        </tr>\n",
       "        <tr>\n",
       "            <td>OC(=O)CCI                         </td> <td>141-76-4</td> <td>R2182359</td> <td>M5698     </td> <td>-         </td> <td>50  </td> <td>3-IODOPROPIONIC ACID                 </td> <td>-     </td> <td>Koerner   </td> <td>Koerner </td> <td>A3183    </td> <td>-       </td> <td>467 </td> <td>6    </td> <td>4.09                                </td> <td>Log unit                        </td> <td>4.09                                           </td> <td>Log unit                          </td> <td>18         </td> <td>?C                </td> <td>O=C(O)CCI                     </td> <td>aliph. carboxylic acid</td> <td>nan               </td> <td>nan                  </td> <td>-                           </td> <td>nan                </td> <td>-                         </td> <td>nan            </td> <td>nan         </td> <td>nan         </td> <td>-       </td> <td>KMRNTNDWADEIIX-UHFFFAOYSA</td>\n",
       "        </tr>\n",
       "        <tr>\n",
       "            <td>OC(=O)CF                          </td> <td>144-49-0</td> <td>R2182360</td> <td>M19636    </td> <td>-         </td> <td>51  </td> <td>FLUOROACETIC ACID                    </td> <td>-     </td> <td>Koerner   </td> <td>Koerner </td> <td>A3183    </td> <td>-       </td> <td>467 </td> <td>6    </td> <td>2.586                               </td> <td>Log unit                        </td> <td>2.586                                          </td> <td>Log unit                          </td> <td>25         </td> <td>?C                </td> <td>O=C(O)CF                      </td> <td>aliph. carboxylic acid</td> <td>nan               </td> <td>nan                  </td> <td>-                           </td> <td>nan                </td> <td>-                         </td> <td>nan            </td> <td>nan         </td> <td>nan         </td> <td>-       </td> <td>QEWYKACRFQMRMB-UHFFFAOYSA</td>\n",
       "        </tr>\n",
       "        <tr>\n",
       "            <td>C[C@@H](O)CC(O)=O                 </td> <td>300-85-6</td> <td>R2182361</td> <td>M67287    </td> <td>-         </td> <td>52  </td> <td>b-Hydroxybutyric Acid                </td> <td>-     </td> <td>Koerner   </td> <td>Koerner </td> <td>A3183    </td> <td>-       </td> <td>467 </td> <td>6    </td> <td>4.41                                </td> <td>Log unit                        </td> <td>4.41                                           </td> <td>Log unit                          </td> <td>22         </td> <td>?C                </td> <td>O=C(O)CC(O)C                  </td> <td>aliph. carboxylic acid</td> <td>nan               </td> <td>nan                  </td> <td>-                           </td> <td>nan                </td> <td>-                         </td> <td>nan            </td> <td>nan         </td> <td>nan         </td> <td>-       </td> <td>WHBMMWSBFZVSSR-GSVOUGTGSA</td>\n",
       "        </tr>\n",
       "        <tr>\n",
       "            <td>OC(=O)CCCC1=CC=C(C=C1)N(CCCl)CCCl </td> <td>305-03-3</td> <td>R2182362</td> <td>M4913     </td> <td>-         </td> <td>53  </td> <td>Chlorambucil                         </td> <td>-     </td> <td>Koerner   </td> <td>Koerner </td> <td>A3183    </td> <td>-       </td> <td>467 </td> <td>6    </td> <td>5.75                                </td> <td>Log unit                        </td> <td>5.75                                           </td> <td>Log unit                          </td> <td>nan        </td> <td>-                 </td> <td>O=C(O)CCCc1ccc(N(CCCl)CCCl)cc1</td> <td>aliph. carboxylic acid</td> <td>nan               </td> <td>nan                  </td> <td>-                           </td> <td>nan                </td> <td>-                         </td> <td>nan            </td> <td>nan         </td> <td>nan         </td> <td>-       </td> <td>JCKYGMPEJWAADB-UHFFFAOYSA</td>\n",
       "        </tr>\n",
       "    </tbody>\n",
       "</table>\n",
       "<p>... (1990 rows omitted)</p>"
      ],
      "text/plain": [
       "SMILES                             | CASRN    | RECORDID | MOLECULEID | EXTERNALID | N    | NAME                                  | NAME.1 | INTRODUCER | MODIFIER | ARTICLEID | PUBMEDID | PAGE | TABLE | pKa (smiles as ob. cond.) {measured} | UNIT {pKa (smiles as ob. cond.)} | pKa (smiles as ob. cond.) {measured, converted} | UNIT {pKa (smiles as ob. cond.)}.1 | Temperature | UNIT {Temperature} | Ionizable centre (smiles)      | IC group given         | IC index predicted | pKa predicted value 2 | UNIT {pKa predicted value 2} | pKa predicted value | UNIT {pKa predicted value} | IC smiles given | AtomNR of IC | groupsAndICs | COMMENTS | INCHI_KEY\n",
       "OC(=O)C(C1=CC=CC=C1)C1=CC=CC=C1    | 117-34-0 | R2182353 | M8924      | -          | 44   | diphenylacetic acid                   | -      | Koerner    | Koerner  | A3183     | -        | 467  | 6     | 3.94                                 | Log unit                         | 3.94                                            | Log unit                           | 25          | ?C                 | O=C(O)C(c1ccccc1)c1ccccc1      | aliph. carboxylic acid | nan                | nan                   | -                            | nan                 | -                          | nan             | nan          | nan          | -        | PYHXGXCGESYPCW-UHFFFAOYSA\n",
       "C[C@H](OC1=C(Cl)C=C(Cl)C=C1)C(O)=O | 120-36-5 | R2182354 | M130897    | -          | 45   | 2-(2,4-DICHLOROPHENOXY)PROPANOIC ACID | -      | Koerner    | Koerner  | A3183     | -        | 467  | 6     | 3.1                                  | Log unit                         | 3.1                                             | Log unit                           | nan         | -                  | O=C(O)C(Oc1c(Cl)cc(cc1)Cl)C    | aliph. carboxylic acid | nan                | nan                   | -                            | nan                 | -                          | nan             | nan          | nan          | -        | MZHCENGPTKEIGP-YFKPBYRVSA\n",
       "OC(=O)COC1=CC=C(Cl)C=C1            | 122-88-3 | R2182355 | M10518     | -          | 46   | p-Chlorophenoxyacetic acid            | -      | Koerner    | Koerner  | A3183     | -        | 467  | 6     | 3.1                                  | Log unit                         | 3.1                                             | Log unit                           | 25          | ?C                 | O=C(O)COc1ccc(Cl)cc1           | aliph. carboxylic acid | nan                | nan                   | -                            | nan                 | -                          | nan             | nan          | nan          | -        | SODPIMGUZLOIPE-UHFFFAOYSA\n",
       "OC(=O)COC1=CC=CC=C1                | 122-59-8 | R2182356 | M6066      | -          | 47   | phenoxyacetic acid                    | -      | Koerner    | Koerner  | A3183     | -        | 467  | 6     | 3.17                                 | Log unit                         | 3.17                                            | Log unit                           | 25          | ?C                 | O=C(O)COc1ccccc1               | aliph. carboxylic acid | nan                | nan                   | -                            | nan                 | -                          | nan             | nan          | nan          | -        | LCPDWSOZIOUXRV-UHFFFAOYSA\n",
       "CC(=O)CCC(O)=O                     | 123-76-2 | R2182357 | M19168     | -          | 48   | LEVULINIC ACID                        | -      | Koerner    | Koerner  | A3183     | -        | 467  | 6     | 4.64                                 | Log unit                         | 4.64                                            | Log unit                           | 18          | ?C                 | O=C(O)CCC(=O)C                 | aliph. carboxylic acid | nan                | nan                   | -                            | nan                 | -                          | nan             | nan          | nan          | -        | JOOXCMJARBKPKM-UHFFFAOYSA\n",
       "OC(=O)CC(O)=O                      | 141-82-2 | R2182358 | M7880      | -          | 49   | malonic acid                          | -      | Koerner    | Koerner  | A3183     | -        | 467  | 6     | 2.85                                 | Log unit                         | 2.85                                            | Log unit                           | 25          | ?C                 | O=C(O)CC(=O)O                  | aliph. carboxylic acid | nan                | nan                   | -                            | nan                 | -                          | nan             | nan          | nan          | -        | OFOBLEOULBTSOW-UHFFFAOYSA\n",
       "OC(=O)CCI                          | 141-76-4 | R2182359 | M5698      | -          | 50   | 3-IODOPROPIONIC ACID                  | -      | Koerner    | Koerner  | A3183     | -        | 467  | 6     | 4.09                                 | Log unit                         | 4.09                                            | Log unit                           | 18          | ?C                 | O=C(O)CCI                      | aliph. carboxylic acid | nan                | nan                   | -                            | nan                 | -                          | nan             | nan          | nan          | -        | KMRNTNDWADEIIX-UHFFFAOYSA\n",
       "OC(=O)CF                           | 144-49-0 | R2182360 | M19636     | -          | 51   | FLUOROACETIC ACID                     | -      | Koerner    | Koerner  | A3183     | -        | 467  | 6     | 2.586                                | Log unit                         | 2.586                                           | Log unit                           | 25          | ?C                 | O=C(O)CF                       | aliph. carboxylic acid | nan                | nan                   | -                            | nan                 | -                          | nan             | nan          | nan          | -        | QEWYKACRFQMRMB-UHFFFAOYSA\n",
       "C[C@@H](O)CC(O)=O                  | 300-85-6 | R2182361 | M67287     | -          | 52   | b-Hydroxybutyric Acid                 | -      | Koerner    | Koerner  | A3183     | -        | 467  | 6     | 4.41                                 | Log unit                         | 4.41                                            | Log unit                           | 22          | ?C                 | O=C(O)CC(O)C                   | aliph. carboxylic acid | nan                | nan                   | -                            | nan                 | -                          | nan             | nan          | nan          | -        | WHBMMWSBFZVSSR-GSVOUGTGSA\n",
       "OC(=O)CCCC1=CC=C(C=C1)N(CCCl)CCCl  | 305-03-3 | R2182362 | M4913      | -          | 53   | Chlorambucil                          | -      | Koerner    | Koerner  | A3183     | -        | 467  | 6     | 5.75                                 | Log unit                         | 5.75                                            | Log unit                           | nan         | -                  | O=C(O)CCCc1ccc(N(CCCl)CCCl)cc1 | aliph. carboxylic acid | nan                | nan                   | -                            | nan                 | -                          | nan             | nan          | nan          | -        | JCKYGMPEJWAADB-UHFFFAOYSA\n",
       "... (1990 rows omitted)"
      ]
     },
     "execution_count": 52,
     "metadata": {},
     "output_type": "execute_result"
    }
   ],
   "source": [
    "url = \"https://raw.githubusercontent.com/robraddi/GP-SAMPL7/main/pKaDatabase/OChem/ochem0-2000.csv\"\n",
    "data = Table.read_table(url)\n",
    "data"
   ]
  },
  {
   "cell_type": "code",
   "execution_count": null,
   "metadata": {},
   "outputs": [],
   "source": []
  }
 ],
 "metadata": {
  "kernelspec": {
   "display_name": "Python 3",
   "language": "python",
   "name": "python3"
  },
  "language_info": {
   "codemirror_mode": {
    "name": "ipython",
    "version": 3
   },
   "file_extension": ".py",
   "mimetype": "text/x-python",
   "name": "python",
   "nbconvert_exporter": "python",
   "pygments_lexer": "ipython3",
   "version": "3.7.7"
  }
 },
 "nbformat": 4,
 "nbformat_minor": 4
}
